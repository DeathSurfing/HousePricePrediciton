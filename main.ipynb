{
 "cells": [
  {
   "cell_type": "code",
   "execution_count": 1,
   "metadata": {},
   "outputs": [
    {
     "name": "stdout",
     "output_type": "stream",
     "text": [
      "   Id  MSSubClass MSZoning  LotFrontage  LotArea Street Alley LotShape  \\\n",
      "0   1          60       RL         65.0     8450   Pave   NaN      Reg   \n",
      "1   2          20       RL         80.0     9600   Pave   NaN      Reg   \n",
      "2   3          60       RL         68.0    11250   Pave   NaN      IR1   \n",
      "3   4          70       RL         60.0     9550   Pave   NaN      IR1   \n",
      "4   5          60       RL         84.0    14260   Pave   NaN      IR1   \n",
      "\n",
      "  LandContour Utilities  ... PoolArea PoolQC Fence MiscFeature MiscVal MoSold  \\\n",
      "0         Lvl    AllPub  ...        0    NaN   NaN         NaN       0      2   \n",
      "1         Lvl    AllPub  ...        0    NaN   NaN         NaN       0      5   \n",
      "2         Lvl    AllPub  ...        0    NaN   NaN         NaN       0      9   \n",
      "3         Lvl    AllPub  ...        0    NaN   NaN         NaN       0      2   \n",
      "4         Lvl    AllPub  ...        0    NaN   NaN         NaN       0     12   \n",
      "\n",
      "  YrSold  SaleType  SaleCondition  SalePrice  \n",
      "0   2008        WD         Normal     208500  \n",
      "1   2007        WD         Normal     181500  \n",
      "2   2008        WD         Normal     223500  \n",
      "3   2006        WD        Abnorml     140000  \n",
      "4   2008        WD         Normal     250000  \n",
      "\n",
      "[5 rows x 81 columns]\n"
     ]
    }
   ],
   "source": [
    "import pandas as pd\n",
    "\n",
    "file_path = \"train.csv\"\n",
    "\n",
    "train_data = pd.read_csv(file_path)\n",
    "\n",
    "print(train_data.head())\n"
   ]
  },
  {
   "cell_type": "markdown",
   "metadata": {},
   "source": [
    "Data set is loaded , Checking for Data value issues"
   ]
  },
  {
   "cell_type": "code",
   "execution_count": 18,
   "metadata": {},
   "outputs": [
    {
     "name": "stdout",
     "output_type": "stream",
     "text": [
      "                Id   MSSubClass  LotFrontage        LotArea  OverallQual  \\\n",
      "count  1460.000000  1460.000000  1201.000000    1460.000000  1460.000000   \n",
      "mean    730.500000    56.897260    70.049958   10516.828082     6.099315   \n",
      "std     421.610009    42.300571    24.284752    9981.264932     1.382997   \n",
      "min       1.000000    20.000000    21.000000    1300.000000     1.000000   \n",
      "25%     365.750000    20.000000    59.000000    7553.500000     5.000000   \n",
      "50%     730.500000    50.000000    69.000000    9478.500000     6.000000   \n",
      "75%    1095.250000    70.000000    80.000000   11601.500000     7.000000   \n",
      "max    1460.000000   190.000000   313.000000  215245.000000    10.000000   \n",
      "\n",
      "       OverallCond    YearBuilt  YearRemodAdd   MasVnrArea   BsmtFinSF1  ...  \\\n",
      "count  1460.000000  1460.000000   1460.000000  1452.000000  1460.000000  ...   \n",
      "mean      5.575342  1971.267808   1984.865753   103.685262   443.639726  ...   \n",
      "std       1.112799    30.202904     20.645407   181.066207   456.098091  ...   \n",
      "min       1.000000  1872.000000   1950.000000     0.000000     0.000000  ...   \n",
      "25%       5.000000  1954.000000   1967.000000     0.000000     0.000000  ...   \n",
      "50%       5.000000  1973.000000   1994.000000     0.000000   383.500000  ...   \n",
      "75%       6.000000  2000.000000   2004.000000   166.000000   712.250000  ...   \n",
      "max       9.000000  2010.000000   2010.000000  1600.000000  5644.000000  ...   \n",
      "\n",
      "        WoodDeckSF  OpenPorchSF  EnclosedPorch    3SsnPorch  ScreenPorch  \\\n",
      "count  1460.000000  1460.000000    1460.000000  1460.000000  1460.000000   \n",
      "mean     94.244521    46.660274      21.954110     3.409589    15.060959   \n",
      "std     125.338794    66.256028      61.119149    29.317331    55.757415   \n",
      "min       0.000000     0.000000       0.000000     0.000000     0.000000   \n",
      "25%       0.000000     0.000000       0.000000     0.000000     0.000000   \n",
      "50%       0.000000    25.000000       0.000000     0.000000     0.000000   \n",
      "75%     168.000000    68.000000       0.000000     0.000000     0.000000   \n",
      "max     857.000000   547.000000     552.000000   508.000000   480.000000   \n",
      "\n",
      "          PoolArea       MiscVal       MoSold       YrSold      SalePrice  \n",
      "count  1460.000000   1460.000000  1460.000000  1460.000000    1460.000000  \n",
      "mean      2.758904     43.489041     6.321918  2007.815753  180921.195890  \n",
      "std      40.177307    496.123024     2.703626     1.328095   79442.502883  \n",
      "min       0.000000      0.000000     1.000000  2006.000000   34900.000000  \n",
      "25%       0.000000      0.000000     5.000000  2007.000000  129975.000000  \n",
      "50%       0.000000      0.000000     6.000000  2008.000000  163000.000000  \n",
      "75%       0.000000      0.000000     8.000000  2009.000000  214000.000000  \n",
      "max     738.000000  15500.000000    12.000000  2010.000000  755000.000000  \n",
      "\n",
      "[8 rows x 38 columns]\n",
      "Number of duplicates: 0\n"
     ]
    }
   ],
   "source": [
    "# Calculate summary statistics\n",
    "summary = train_data.describe()\n",
    "\n",
    "# Display the summary statistics\n",
    "print(summary)\n",
    "\n",
    "# Check for duplicates\n",
    "duplicates = train_data.duplicated().sum()\n",
    "\n",
    "# Print the number of duplicates\n",
    "print(\"Number of duplicates:\", duplicates)\n"
   ]
  },
  {
   "cell_type": "markdown",
   "metadata": {},
   "source": [
    "The Data set is valid, as it has a good distribution of values and 0 duplicates are found."
   ]
  },
  {
   "cell_type": "code",
   "execution_count": 2,
   "metadata": {},
   "outputs": [
    {
     "name": "stdout",
     "output_type": "stream",
     "text": [
      "                     Id  MSSubClass  LotFrontage   LotArea  OverallQual  \\\n",
      "Id             1.000000    0.011156    -0.010601 -0.033226    -0.028365   \n",
      "MSSubClass     0.011156    1.000000    -0.386347 -0.139781     0.032628   \n",
      "LotFrontage   -0.010601   -0.386347     1.000000  0.426095     0.251646   \n",
      "LotArea       -0.033226   -0.139781     0.426095  1.000000     0.105806   \n",
      "OverallQual   -0.028365    0.032628     0.251646  0.105806     1.000000   \n",
      "OverallCond    0.012609   -0.059316    -0.059213 -0.005636    -0.091932   \n",
      "YearBuilt     -0.012713    0.027850     0.123349  0.014228     0.572323   \n",
      "YearRemodAdd  -0.021998    0.040581     0.088866  0.013788     0.550684   \n",
      "MasVnrArea    -0.050298    0.022936     0.193458  0.104160     0.411876   \n",
      "BsmtFinSF1    -0.005024   -0.069836     0.233633  0.214103     0.239666   \n",
      "BsmtFinSF2    -0.005968   -0.065649     0.049900  0.111170    -0.059119   \n",
      "BsmtUnfSF     -0.007940   -0.140759     0.132644 -0.002618     0.308159   \n",
      "TotalBsmtSF   -0.015415   -0.238518     0.392075  0.260833     0.537808   \n",
      "1stFlrSF       0.010496   -0.251758     0.457181  0.299475     0.476224   \n",
      "2ndFlrSF       0.005590    0.307886     0.080177  0.050986     0.295493   \n",
      "LowQualFinSF  -0.044230    0.046474     0.038469  0.004779    -0.030429   \n",
      "GrLivArea      0.008273    0.074853     0.402797  0.263116     0.593007   \n",
      "BsmtFullBath   0.002289    0.003491     0.100949  0.158155     0.111098   \n",
      "BsmtHalfBath  -0.020155   -0.002333    -0.007234  0.048046    -0.040150   \n",
      "FullBath       0.005587    0.131608     0.198769  0.126031     0.550600   \n",
      "HalfBath       0.006784    0.177354     0.053532  0.014259     0.273458   \n",
      "BedroomAbvGr   0.037719   -0.023438     0.263170  0.119690     0.101676   \n",
      "KitchenAbvGr   0.002951    0.281721    -0.006069 -0.017784    -0.183882   \n",
      "TotRmsAbvGrd   0.027239    0.040380     0.352096  0.190015     0.427452   \n",
      "Fireplaces    -0.019772   -0.045569     0.266639  0.271364     0.396765   \n",
      "GarageYrBlt    0.000072    0.085072     0.070250 -0.024947     0.547766   \n",
      "GarageCars     0.016570   -0.040110     0.285691  0.154871     0.600671   \n",
      "GarageArea     0.017634   -0.098672     0.344997  0.180403     0.562022   \n",
      "WoodDeckSF    -0.029643   -0.012579     0.088521  0.171698     0.238923   \n",
      "OpenPorchSF   -0.000477   -0.006100     0.151972  0.084774     0.308819   \n",
      "EnclosedPorch  0.002889   -0.012037     0.010700 -0.018340    -0.113937   \n",
      "3SsnPorch     -0.046635   -0.043825     0.070029  0.020423     0.030371   \n",
      "ScreenPorch    0.001330   -0.026030     0.041383  0.043160     0.064886   \n",
      "PoolArea       0.057044    0.008283     0.206167  0.077672     0.065166   \n",
      "MiscVal       -0.006242   -0.007683     0.003368  0.038068    -0.031406   \n",
      "MoSold         0.021172   -0.013585     0.011200  0.001205     0.070815   \n",
      "YrSold         0.000712   -0.021407     0.007450 -0.014261    -0.027347   \n",
      "SalePrice     -0.021917   -0.084284     0.351799  0.263843     0.790982   \n",
      "\n",
      "               OverallCond  YearBuilt  YearRemodAdd  MasVnrArea  BsmtFinSF1  \\\n",
      "Id                0.012609  -0.012713     -0.021998   -0.050298   -0.005024   \n",
      "MSSubClass       -0.059316   0.027850      0.040581    0.022936   -0.069836   \n",
      "LotFrontage      -0.059213   0.123349      0.088866    0.193458    0.233633   \n",
      "LotArea          -0.005636   0.014228      0.013788    0.104160    0.214103   \n",
      "OverallQual      -0.091932   0.572323      0.550684    0.411876    0.239666   \n",
      "OverallCond       1.000000  -0.375983      0.073741   -0.128101   -0.046231   \n",
      "YearBuilt        -0.375983   1.000000      0.592855    0.315707    0.249503   \n",
      "YearRemodAdd      0.073741   0.592855      1.000000    0.179618    0.128451   \n",
      "MasVnrArea       -0.128101   0.315707      0.179618    1.000000    0.264736   \n",
      "BsmtFinSF1       -0.046231   0.249503      0.128451    0.264736    1.000000   \n",
      "BsmtFinSF2        0.040229  -0.049107     -0.067759   -0.072319   -0.050117   \n",
      "BsmtUnfSF        -0.136841   0.149040      0.181133    0.114442   -0.495251   \n",
      "TotalBsmtSF      -0.171098   0.391452      0.291066    0.363936    0.522396   \n",
      "1stFlrSF         -0.144203   0.281986      0.240379    0.344501    0.445863   \n",
      "2ndFlrSF          0.028942   0.010308      0.140024    0.174561   -0.137079   \n",
      "LowQualFinSF      0.025494  -0.183784     -0.062419   -0.069071   -0.064503   \n",
      "GrLivArea        -0.079686   0.199010      0.287389    0.390857    0.208171   \n",
      "BsmtFullBath     -0.054942   0.187599      0.119470    0.085310    0.649212   \n",
      "BsmtHalfBath      0.117821  -0.038162     -0.012337    0.026673    0.067418   \n",
      "FullBath         -0.194149   0.468271      0.439046    0.276833    0.058543   \n",
      "HalfBath         -0.060769   0.242656      0.183331    0.201444    0.004262   \n",
      "BedroomAbvGr      0.012980  -0.070651     -0.040581    0.102821   -0.107355   \n",
      "KitchenAbvGr     -0.087001  -0.174800     -0.149598   -0.037610   -0.081007   \n",
      "TotRmsAbvGrd     -0.057583   0.095589      0.191740    0.280682    0.044316   \n",
      "Fireplaces       -0.023820   0.147716      0.112581    0.249070    0.260011   \n",
      "GarageYrBlt      -0.324297   0.825667      0.642277    0.252691    0.153484   \n",
      "GarageCars       -0.185758   0.537850      0.420622    0.364204    0.224054   \n",
      "GarageArea       -0.151521   0.478954      0.371600    0.373066    0.296970   \n",
      "WoodDeckSF       -0.003334   0.224880      0.205726    0.159718    0.204306   \n",
      "OpenPorchSF      -0.032589   0.188686      0.226298    0.125703    0.111761   \n",
      "EnclosedPorch     0.070356  -0.387268     -0.193919   -0.110204   -0.102303   \n",
      "3SsnPorch         0.025504   0.031355      0.045286    0.018796    0.026451   \n",
      "ScreenPorch       0.054811  -0.050364     -0.038740    0.061466    0.062021   \n",
      "PoolArea         -0.001985   0.004950      0.005829    0.011723    0.140491   \n",
      "MiscVal           0.068777  -0.034383     -0.010286   -0.029815    0.003571   \n",
      "MoSold           -0.003511   0.012398      0.021490   -0.005965   -0.015727   \n",
      "YrSold            0.043950  -0.013618      0.035743   -0.008201    0.014359   \n",
      "SalePrice        -0.077856   0.522897      0.507101    0.477493    0.386420   \n",
      "\n",
      "               ...  WoodDeckSF  OpenPorchSF  EnclosedPorch  3SsnPorch  \\\n",
      "Id             ...   -0.029643    -0.000477       0.002889  -0.046635   \n",
      "MSSubClass     ...   -0.012579    -0.006100      -0.012037  -0.043825   \n",
      "LotFrontage    ...    0.088521     0.151972       0.010700   0.070029   \n",
      "LotArea        ...    0.171698     0.084774      -0.018340   0.020423   \n",
      "OverallQual    ...    0.238923     0.308819      -0.113937   0.030371   \n",
      "OverallCond    ...   -0.003334    -0.032589       0.070356   0.025504   \n",
      "YearBuilt      ...    0.224880     0.188686      -0.387268   0.031355   \n",
      "YearRemodAdd   ...    0.205726     0.226298      -0.193919   0.045286   \n",
      "MasVnrArea     ...    0.159718     0.125703      -0.110204   0.018796   \n",
      "BsmtFinSF1     ...    0.204306     0.111761      -0.102303   0.026451   \n",
      "BsmtFinSF2     ...    0.067898     0.003093       0.036543  -0.029993   \n",
      "BsmtUnfSF      ...   -0.005316     0.129005      -0.002538   0.020764   \n",
      "TotalBsmtSF    ...    0.232019     0.247264      -0.095478   0.037384   \n",
      "1stFlrSF       ...    0.235459     0.211671      -0.065292   0.056104   \n",
      "2ndFlrSF       ...    0.092165     0.208026       0.061989  -0.024358   \n",
      "LowQualFinSF   ...   -0.025444     0.018251       0.061081  -0.004296   \n",
      "GrLivArea      ...    0.247433     0.330224       0.009113   0.020643   \n",
      "BsmtFullBath   ...    0.175315     0.067341      -0.049911  -0.000106   \n",
      "BsmtHalfBath   ...    0.040161    -0.025324      -0.008555   0.035114   \n",
      "FullBath       ...    0.187703     0.259977      -0.115093   0.035353   \n",
      "HalfBath       ...    0.108080     0.199740      -0.095317  -0.004972   \n",
      "BedroomAbvGr   ...    0.046854     0.093810       0.041570  -0.024478   \n",
      "KitchenAbvGr   ...   -0.090130    -0.070091       0.037312  -0.024600   \n",
      "TotRmsAbvGrd   ...    0.165984     0.234192       0.004151  -0.006683   \n",
      "Fireplaces     ...    0.200019     0.169405      -0.024822   0.011257   \n",
      "GarageYrBlt    ...    0.224577     0.228425      -0.297003   0.023544   \n",
      "GarageCars     ...    0.226342     0.213569      -0.151434   0.035765   \n",
      "GarageArea     ...    0.224666     0.241435      -0.121777   0.035087   \n",
      "WoodDeckSF     ...    1.000000     0.058661      -0.125989  -0.032771   \n",
      "OpenPorchSF    ...    0.058661     1.000000      -0.093079  -0.005842   \n",
      "EnclosedPorch  ...   -0.125989    -0.093079       1.000000  -0.037305   \n",
      "3SsnPorch      ...   -0.032771    -0.005842      -0.037305   1.000000   \n",
      "ScreenPorch    ...   -0.074181     0.074304      -0.082864  -0.031436   \n",
      "PoolArea       ...    0.073378     0.060762       0.054203  -0.007992   \n",
      "MiscVal        ...   -0.009551    -0.018584       0.018361   0.000354   \n",
      "MoSold         ...    0.021011     0.071255      -0.028887   0.029474   \n",
      "YrSold         ...    0.022270    -0.057619      -0.009916   0.018645   \n",
      "SalePrice      ...    0.324413     0.315856      -0.128578   0.044584   \n",
      "\n",
      "               ScreenPorch  PoolArea   MiscVal    MoSold    YrSold  SalePrice  \n",
      "Id                0.001330  0.057044 -0.006242  0.021172  0.000712  -0.021917  \n",
      "MSSubClass       -0.026030  0.008283 -0.007683 -0.013585 -0.021407  -0.084284  \n",
      "LotFrontage       0.041383  0.206167  0.003368  0.011200  0.007450   0.351799  \n",
      "LotArea           0.043160  0.077672  0.038068  0.001205 -0.014261   0.263843  \n",
      "OverallQual       0.064886  0.065166 -0.031406  0.070815 -0.027347   0.790982  \n",
      "OverallCond       0.054811 -0.001985  0.068777 -0.003511  0.043950  -0.077856  \n",
      "YearBuilt        -0.050364  0.004950 -0.034383  0.012398 -0.013618   0.522897  \n",
      "YearRemodAdd     -0.038740  0.005829 -0.010286  0.021490  0.035743   0.507101  \n",
      "MasVnrArea        0.061466  0.011723 -0.029815 -0.005965 -0.008201   0.477493  \n",
      "BsmtFinSF1        0.062021  0.140491  0.003571 -0.015727  0.014359   0.386420  \n",
      "BsmtFinSF2        0.088871  0.041709  0.004940 -0.015211  0.031706  -0.011378  \n",
      "BsmtUnfSF        -0.012579 -0.035092 -0.023837  0.034888 -0.041258   0.214479  \n",
      "TotalBsmtSF       0.084489  0.126053 -0.018479  0.013196 -0.014969   0.613581  \n",
      "1stFlrSF          0.088758  0.131525 -0.021096  0.031372 -0.013604   0.605852  \n",
      "2ndFlrSF          0.040606  0.081487  0.016197  0.035164 -0.028700   0.319334  \n",
      "LowQualFinSF      0.026799  0.062157 -0.003793 -0.022174 -0.028921  -0.025606  \n",
      "GrLivArea         0.101510  0.170205 -0.002416  0.050240 -0.036526   0.708624  \n",
      "BsmtFullBath      0.023148  0.067616 -0.023047 -0.025361  0.067049   0.227122  \n",
      "BsmtHalfBath      0.032121  0.020025 -0.007367  0.032873 -0.046524  -0.016844  \n",
      "FullBath         -0.008106  0.049604 -0.014290  0.055872 -0.019669   0.560664  \n",
      "HalfBath          0.072426  0.022381  0.001290 -0.009050 -0.010269   0.284108  \n",
      "BedroomAbvGr      0.044300  0.070703  0.007767  0.046544 -0.036014   0.168213  \n",
      "KitchenAbvGr     -0.051613 -0.014525  0.062341  0.026589  0.031687  -0.135907  \n",
      "TotRmsAbvGrd      0.059383  0.083757  0.024763  0.036907 -0.034516   0.533723  \n",
      "Fireplaces        0.184530  0.095074  0.001409  0.046357 -0.024096   0.466929  \n",
      "GarageYrBlt      -0.075418 -0.014501 -0.032417  0.005337 -0.001014   0.486362  \n",
      "GarageCars        0.050494  0.020934 -0.043080  0.040522 -0.039117   0.640409  \n",
      "GarageArea        0.051412  0.061047 -0.027400  0.027974 -0.027378   0.623431  \n",
      "WoodDeckSF       -0.074181  0.073378 -0.009551  0.021011  0.022270   0.324413  \n",
      "OpenPorchSF       0.074304  0.060762 -0.018584  0.071255 -0.057619   0.315856  \n",
      "EnclosedPorch    -0.082864  0.054203  0.018361 -0.028887 -0.009916  -0.128578  \n",
      "3SsnPorch        -0.031436 -0.007992  0.000354  0.029474  0.018645   0.044584  \n",
      "ScreenPorch       1.000000  0.051307  0.031946  0.023217  0.010694   0.111447  \n",
      "PoolArea          0.051307  1.000000  0.029669 -0.033737 -0.059689   0.092404  \n",
      "MiscVal           0.031946  0.029669  1.000000 -0.006495  0.004906  -0.021190  \n",
      "MoSold            0.023217 -0.033737 -0.006495  1.000000 -0.145721   0.046432  \n",
      "YrSold            0.010694 -0.059689  0.004906 -0.145721  1.000000  -0.028923  \n",
      "SalePrice         0.111447  0.092404 -0.021190  0.046432 -0.028923   1.000000  \n",
      "\n",
      "[38 rows x 38 columns]\n"
     ]
    },
    {
     "data": {
      "image/png": "[encoded data removed]",
      "text/plain": [
       "<Figure size 1200x1000 with 2 Axes>"
      ]
     },
     "metadata": {},
     "output_type": "display_data"
    }
   ],
   "source": [
    "import pandas as pd\n",
    "import matplotlib.pyplot as plt\n",
    "import seaborn as sns\n",
    "\n",
    "# Select only numeric columns\n",
    "numeric_data = train_data.select_dtypes(include=['number'])\n",
    "\n",
    "# Calculate the correlation matrix\n",
    "correlation_matrix = numeric_data.corr()\n",
    "\n",
    "# Display the correlation matrix\n",
    "print(correlation_matrix)\n",
    "\n",
    "# Plot the heatmap of the correlation matrix\n",
    "plt.figure(figsize=(12, 10))\n",
    "sns.heatmap(correlation_matrix, annot=False, cmap=\"coolwarm\", linewidths=0.5)\n",
    "plt.title(\"Correlation Matrix\")\n",
    "plt.show()\n",
    "\n"
   ]
  },
  {
   "cell_type": "markdown",
   "metadata": {},
   "source": [
    "Co-relation matrix showcases very highly co-related values , other values can be dropped to increase the efficiency of the Linnear regression.\n",
    "\n",
    "Taking Values with corelation x>0.6 and x<-0.4"
   ]
  },
  {
   "cell_type": "code",
   "execution_count": 15,
   "metadata": {},
   "outputs": [
    {
     "name": "stdout",
     "output_type": "stream",
     "text": [
      "BsmtFinSF1 and BsmtUnfSF: -0.50\n",
      "BsmtUnfSF and BsmtFullBath: -0.42\n",
      "OverallQual and GarageCars: 0.60\n",
      "1stFlrSF and SalePrice: 0.61\n",
      "2ndFlrSF and HalfBath: 0.61\n",
      "TotalBsmtSF and SalePrice: 0.61\n",
      "2ndFlrSF and TotRmsAbvGrd: 0.62\n",
      "GarageArea and SalePrice: 0.62\n",
      "GrLivArea and FullBath: 0.63\n",
      "GarageCars and SalePrice: 0.64\n",
      "YearRemodAdd and GarageYrBlt: 0.64\n",
      "BsmtFinSF1 and BsmtFullBath: 0.65\n",
      "BedroomAbvGr and TotRmsAbvGrd: 0.68\n",
      "2ndFlrSF and GrLivArea: 0.69\n",
      "GrLivArea and SalePrice: 0.71\n",
      "OverallQual and SalePrice: 0.79\n",
      "TotalBsmtSF and 1stFlrSF: 0.82\n",
      "GrLivArea and TotRmsAbvGrd: 0.83\n",
      "YearBuilt and GarageYrBlt: 0.83\n",
      "GarageCars and GarageArea: 0.88\n",
      "Highly Corelated Values of the data set : 10\n"
     ]
    }
   ],
   "source": [
    "positive_threshold = 0.6\n",
    "negative_threshold = -0.4\n",
    "\n",
    "# Extract pairs with correlation > +0.6 or < -0.4\n",
    "correlated_pairs = []\n",
    "\n",
    "for i in range(correlation_matrix.shape[0]):\n",
    "    for j in range(i + 1, correlation_matrix.shape[1]):  # Avoid duplicate pairs\n",
    "        correlation_value = correlation_matrix.iloc[i, j]\n",
    "        if correlation_value > positive_threshold or correlation_value < negative_threshold:\n",
    "            correlated_pairs.append((\n",
    "                correlation_matrix.index[i],  # Row name\n",
    "                correlation_matrix.columns[j],  # Column name\n",
    "                correlation_value  # Correlation value\n",
    "            ))\n",
    "\n",
    "# Sort the pairs by correlation value in ascending order\n",
    "correlated_pairs_sorted = sorted(correlated_pairs, key=lambda x: x[2])\n",
    "\n",
    "# Display the sorted results\n",
    "for pair in correlated_pairs_sorted:\n",
    "    print(f\"{pair[0]} and {pair[1]}: {pair[2]:.2f}\")\n",
    "\n",
    "# Display the sorted results length\n",
    "print(\"Highly Corelated Values of the data set :\",len(pair[1]))"
   ]
  },
  {
   "cell_type": "markdown",
   "metadata": {},
   "source": [
    "Dropping outliers from the data set"
   ]
  },
  {
   "cell_type": "code",
   "execution_count": 29,
   "metadata": {},
   "outputs": [
    {
     "name": "stdout",
     "output_type": "stream",
     "text": [
      "    Id  MSSubClass MSZoning  LotFrontage  LotArea Street Alley LotShape  \\\n",
      "0    1          60       RL         65.0     8450   Pave   NaN      Reg   \n",
      "2    3          60       RL         68.0    11250   Pave   NaN      IR1   \n",
      "4    5          60       RL         84.0    14260   Pave   NaN      IR1   \n",
      "6    7          20       RL         75.0    10084   Pave   NaN      Reg   \n",
      "10  11          20       RL         70.0    11200   Pave   NaN      Reg   \n",
      "\n",
      "   LandContour Utilities  ... PoolArea PoolQC Fence MiscFeature MiscVal  \\\n",
      "0          Lvl    AllPub  ...        0    NaN   NaN         NaN       0   \n",
      "2          Lvl    AllPub  ...        0    NaN   NaN         NaN       0   \n",
      "4          Lvl    AllPub  ...        0    NaN   NaN         NaN       0   \n",
      "6          Lvl    AllPub  ...        0    NaN   NaN         NaN       0   \n",
      "10         Lvl    AllPub  ...        0    NaN   NaN         NaN       0   \n",
      "\n",
      "   MoSold YrSold  SaleType  SaleCondition  SalePrice  \n",
      "0       2   2008        WD         Normal     208500  \n",
      "2       9   2008        WD         Normal     223500  \n",
      "4      12   2008        WD         Normal     250000  \n",
      "6       8   2007        WD         Normal     307000  \n",
      "10      2   2008        WD         Normal     129500  \n",
      "\n",
      "[5 rows x 81 columns]\n"
     ]
    }
   ],
   "source": [
    "import pandas as pd\n",
    "\n",
    "# Load the dataset\n",
    "file_path = \"train.csv\"\n",
    "train_data = pd.read_csv(file_path)\n",
    "\n",
    "# Select only numeric columns (excluding non-numeric columns like strings and objects)\n",
    "numeric_data = train_data.select_dtypes(include=[float, int])\n",
    "\n",
    "# Calculate Q1 (25th percentile) and Q3 (75th percentile) for each numeric column\n",
    "Q1 = numeric_data.quantile(0.25)\n",
    "Q3 = numeric_data.quantile(0.75)\n",
    "\n",
    "# Calculate the IQR (Interquartile Range)\n",
    "IQR = Q3 - Q1\n",
    "\n",
    "# Define the lower and upper bounds for detecting outliers\n",
    "lower_bound = Q1 - 1.5 * IQR\n",
    "upper_bound = Q3 + 1.5 * IQR\n",
    "\n",
    "# Identify the rows where any of the numeric features are outside the IQR bounds\n",
    "outliers = (numeric_data < lower_bound) | (numeric_data > upper_bound)\n",
    "\n",
    "# Drop the rows with outliers (those that have any NaN in the outliers dataframe)\n",
    "train_data_no_outliers = train_data[~outliers.any(axis=1)]\n",
    "\n",
    "# Display the cleaned dataset (without outliers)\n",
    "print(train_data_no_outliers.head())\n"
   ]
  },
  {
   "cell_type": "code",
   "execution_count": 33,
   "metadata": {},
   "outputs": [
    {
     "data": {
      "application/vnd.plotly.v1+json": {
       "config": {
        "plotlyServerURL": "https://plot.ly"
       },
       "data": [
        {
         "hovertemplate": "LotArea=%{x}<br>SalePrice=%{y}<extra></extra>",
         "legendgroup": "",
         "marker": {
          "color": "#636efa",
          "symbol": "circle"
         },
         "mode": "markers",
         "name": "",
         "showlegend": false,
         "type": "scattergl",
         "x": [
          8450,
          9600,
          11250,
          9550,
          14260,
          14115,
          10084,
          10382,
          6120,
          7420,
          11200,
          11924,
          12968,
          10652,
          10920,
          6120,
          11241,
          10791,
          13695,
          7560,
          14215,
          7449,
          9742,
          4224,
          8246,
          14230,
          7200,
          11478,
          16321,
          6324,
          8500,
          8544,
          11049,
          10552,
          7313,
          13418,
          10859,
          8532,
          7922,
          6040,
          8658,
          16905,
          9180,
          9200,
          7945,
          7658,
          12822,
          11096,
          4456,
          7742,
          13869,
          6240,
          8472,
          50271,
          7134,
          10175,
          2645,
          11645,
          13682,
          7200,
          13072,
          7200,
          6442,
          10300,
          9375,
          9591,
          19900,
          10665,
          4608,
          15593,
          13651,
          7599,
          10141,
          10200,
          5790,
          1596,
          8475,
          8635,
          10778,
          10440,
          13000,
          4500,
          10206,
          8892,
          8530,
          16059,
          11911,
          3951,
          8470,
          8070,
          7200,
          8500,
          13360,
          7200,
          9337,
          9765,
          10264,
          10921,
          10625,
          9320,
          10603,
          9206,
          7018,
          10402,
          7758,
          9375,
          10800,
          6000,
          8500,
          11751,
          9525,
          7750,
          9965,
          21000,
          7259,
          3230,
          11616,
          8536,
          12376,
          8461,
          21453,
          6060,
          9464,
          7892,
          17043,
          6780,
          4928,
          4388,
          7590,
          8973,
          14200,
          12224,
          7388,
          6853,
          10335,
          10400,
          10355,
          11070,
          9066,
          15426,
          10500,
          11645,
          8520,
          10335,
          9100,
          2522,
          6120,
          9505,
          7500,
          6240,
          10356,
          13891,
          14803,
          13500,
          11340,
          9600,
          7200,
          12003,
          12552,
          19378,
          11120,
          13688,
          12182,
          5500,
          5400,
          10106,
          10708,
          10562,
          8244,
          16669,
          12358,
          31770,
          5306,
          10197,
          12416,
          12615,
          10029,
          13650,
          17423,
          8520,
          2117,
          7588,
          9060,
          11426,
          7438,
          22950,
          9947,
          10410,
          7018,
          4923,
          10570,
          7472,
          9017,
          2522,
          7180,
          2280,
          9416,
          25419,
          5520,
          9591,
          8546,
          10125,
          7000,
          4438,
          3500,
          11851,
          13673,
          12493,
          14364,
          8250,
          5604,
          10420,
          8640,
          13568,
          10900,
          10011,
          8450,
          9906,
          15660,
          3010,
          8990,
          8068,
          11475,
          10500,
          13472,
          1680,
          9950,
          1869,
          8521,
          3182,
          8760,
          15138,
          1680,
          10650,
          7851,
          1680,
          8773,
          9453,
          12030,
          8741,
          9000,
          3880,
          5000,
          10762,
          8880,
          10400,
          9142,
          11310,
          11317,
          159000,
          5350,
          4750,
          8366,
          9350,
          8400,
          8738,
          8791,
          8814,
          12435,
          12702,
          19296,
          9588,
          8471,
          5500,
          5232,
          12090,
          11207,
          8400,
          6900,
          7917,
          10728,
          39104,
          11764,
          9600,
          8314,
          7264,
          9196,
          19138,
          14450,
          10005,
          11287,
          7200,
          5063,
          9612,
          8012,
          4251,
          9786,
          8125,
          9819,
          8730,
          15611,
          5687,
          11409,
          16659,
          9600,
          7937,
          13710,
          7399,
          11700,
          14000,
          15750,
          16226,
          13704,
          9800,
          18386,
          10386,
          13474,
          7920,
          12342,
          12378,
          7685,
          8000,
          7800,
          215245,
          9600,
          7795,
          13005,
          9000,
          9900,
          14115,
          16259,
          12099,
          10380,
          5820,
          11275,
          5000,
          10846,
          11600,
          11888,
          6402,
          10624,
          8176,
          10655,
          8198,
          9042,
          164660,
          14157,
          9135,
          14145,
          12400,
          14191,
          8400,
          8544,
          8849,
          2592,
          6435,
          12772,
          17600,
          2448,
          20431,
          7820,
          5271,
          9084,
          8520,
          8400,
          11249,
          9248,
          4224,
          6930,
          12011,
          7540,
          9144,
          7301,
          1680,
          18800,
          10690,
          9500,
          9150,
          7800,
          9830,
          8121,
          17120,
          7175,
          10634,
          8200,
          10020,
          8846,
          11143,
          11394,
          8123,
          5000,
          7200,
          9245,
          9000,
          53107,
          3182,
          8410,
          7200,
          9382,
          12474,
          8405,
          12209,
          8339,
          7446,
          10134,
          9571,
          7200,
          7590,
          8967,
          8125,
          14963,
          8767,
          10200,
          12090,
          10364,
          9991,
          10480,
          15576,
          14154,
          10800,
          9571,
          34650,
          4403,
          8960,
          11228,
          8899,
          7844,
          22420,
          8160,
          8450,
          7060,
          16635,
          21750,
          9200,
          9000,
          3378,
          12800,
          8593,
          6762,
          11457,
          1680,
          5586,
          1920,
          10839,
          1890,
          10667,
          4400,
          6000,
          4280,
          12354,
          15431,
          12108,
          6240,
          3922,
          8750,
          9855,
          16492,
          11214,
          8600,
          6000,
          5684,
          70761,
          9303,
          9000,
          9297,
          9600,
          4571,
          53227,
          5100,
          7015,
          8004,
          7200,
          8281,
          11988,
          8430,
          3072,
          10628,
          9480,
          11428,
          9291,
          6820,
          11952,
          3675,
          14977,
          5330,
          8480,
          13125,
          13693,
          10637,
          5925,
          16033,
          11846,
          2500,
          4500,
          7758,
          9600,
          10289,
          12243,
          10800,
          1526,
          2665,
          9490,
          15578,
          7931,
          5784,
          7879,
          12692,
          9120,
          7800,
          7535,
          1890,
          9803,
          9170,
          15602,
          2308,
          7596,
          9554,
          7862,
          9600,
          9600,
          14559,
          6792,
          9100,
          9187,
          10594,
          12220,
          10448,
          10208,
          9531,
          10918,
          10800,
          11988,
          5000,
          40094,
          11787,
          7500,
          13300,
          14948,
          9098,
          32668,
          10200,
          6155,
          7200,
          5000,
          9056,
          7000,
          8924,
          12735,
          11553,
          11423,
          14601,
          11000,
          10140,
          4058,
          17104,
          13837,
          8737,
          7244,
          8235,
          9375,
          4043,
          6000,
          11146,
          8777,
          10625,
          6380,
          14850,
          11040,
          21872,
          3196,
          11341,
          10010,
          13907,
          21780,
          13346,
          6858,
          11198,
          10171,
          12327,
          7032,
          13101,
          7332,
          13159,
          9967,
          10500,
          8480,
          6292,
          11777,
          3604,
          12150,
          14585,
          12704,
          11841,
          13500,
          6120,
          11443,
          10267,
          8740,
          25095,
          9100,
          8320,
          13478,
          6600,
          4435,
          7990,
          11302,
          3600,
          3922,
          12984,
          1950,
          10927,
          9000,
          10041,
          3182,
          12803,
          13600,
          12464,
          7800,
          12168,
          7943,
          11050,
          10395,
          11885,
          8402,
          1491,
          8800,
          7861,
          7227,
          11694,
          12244,
          8248,
          10800,
          7064,
          2117,
          10400,
          10000,
          12342,
          9600,
          11606,
          9020,
          9000,
          4590,
          11900,
          9250,
          6979,
          10896,
          6120,
          6000,
          8777,
          3982,
          12677,
          7050,
          13860,
          10793,
          9187,
          10530,
          7200,
          10452,
          7700,
          1936,
          8125,
          9084,
          8750,
          10320,
          10437,
          1680,
          10007,
          7200,
          17503,
          9937,
          12384,
          46589,
          13560,
          10012,
          20896,
          11194,
          18450,
          8125,
          14175,
          11600,
          8633,
          6629,
          11250,
          14442,
          9200,
          2289,
          9600,
          9022,
          11844,
          9945,
          8012,
          4500,
          2887,
          11248,
          16770,
          5062,
          10207,
          5105,
          8089,
          7577,
          4426,
          21535,
          26178,
          5400,
          6120,
          13811,
          6000,
          6420,
          8450,
          4282,
          14331,
          9600,
          12438,
          7630,
          8400,
          5600,
          115149,
          6240,
          9018,
          7162,
          4130,
          8712,
          4671,
          9873,
          13517,
          10140,
          10800,
          10000,
          10542,
          9920,
          6563,
          4426,
          8120,
          8172,
          13286,
          6960,
          21695,
          7314,
          11475,
          6240,
          5389,
          9590,
          11404,
          10000,
          8978,
          10800,
          8544,
          10463,
          10800,
          9313,
          9600,
          6768,
          8450,
          12886,
          5395,
          8963,
          8795,
          11700,
          10593,
          8405,
          8800,
          7750,
          9236,
          10240,
          7930,
          3230,
          10769,
          11616,
          2280,
          12257,
          9100,
          6911,
          8640,
          9430,
          9549,
          14587,
          10421,
          12508,
          9100,
          53504,
          7252,
          8877,
          7819,
          10150,
          14226,
          4500,
          11210,
          13350,
          8400,
          10530,
          7875,
          7153,
          16285,
          9101,
          6300,
          9790,
          10800,
          10142,
          6000,
          12205,
          3182,
          11333,
          9920,
          9158,
          10832,
          8400,
          8197,
          7677,
          13518,
          7200,
          12798,
          4800,
          8199,
          13891,
          9000,
          12274,
          9750,
          21384,
          13400,
          8100,
          10140,
          4438,
          8712,
          9750,
          8248,
          12137,
          11425,
          13265,
          8816,
          6371,
          7226,
          6000,
          12394,
          9900,
          11216,
          14803,
          6130,
          8529,
          28698,
          2544,
          11900,
          3180,
          9548,
          10004,
          7875,
          9600,
          8100,
          1680,
          9525,
          11767,
          12155,
          10440,
          9020,
          8000,
          12665,
          16647,
          9317,
          15523,
          45600,
          9600,
          4435,
          3196,
          7128,
          12095,
          17920,
          6897,
          10970,
          8125,
          10400,
          11029,
          7642,
          11625,
          9672,
          7931,
          8640,
          8750,
          10656,
          6970,
          14762,
          9938,
          6600,
          8750,
          8892,
          12144,
          5720,
          9000,
          25286,
          8834,
          11782,
          7000,
          7024,
          13758,
          9636,
          6204,
          7150,
          5119,
          8393,
          16466,
          15865,
          12160,
          8064,
          11184,
          8414,
          13284,
          7018,
          7056,
          8765,
          7018,
          12919,
          6993,
          7340,
          8712,
          7875,
          14859,
          6173,
          9920,
          13501,
          11500,
          8885,
          12589,
          11600,
          9286,
          6120,
          6270,
          3000,
          2001,
          9000,
          17140,
          13125,
          11029,
          8462,
          8777,
          10237,
          8012,
          10240,
          15611,
          11999,
          9900,
          11838,
          13006,
          8925,
          9100,
          11670,
          8487,
          27650,
          5825,
          10083,
          9675,
          8760,
          24090,
          12640,
          8755,
          7711,
          25000,
          14375,
          8820,
          8163,
          14536,
          14006,
          9360,
          7200,
          7800,
          7200,
          11075,
          9400,
          7136,
          1300,
          7420,
          8450,
          2572,
          7207,
          12227,
          2308,
          11923,
          11316,
          10237,
          9600,
          7390,
          5925,
          10382,
          10800,
          2268,
          7892,
          11639,
          11414,
          2651,
          5900,
          4274,
          9450,
          8816,
          12122,
          12203,
          3182,
          11250,
          10125,
          10880,
          5310,
          10159,
          12046,
          8125,
          9452,
          17671,
          9760,
          8846,
          12456,
          4712,
          10659,
          11717,
          9786,
          6762,
          10206,
          5400,
          11957,
          11500,
          3182,
          8385,
          12155,
          2217,
          12118,
          6000,
          21286,
          9825,
          10592,
          7200,
          11664,
          8400,
          11883,
          5814,
          10784,
          3013,
          7024,
          7406,
          9439,
          3182,
          15498,
          7700,
          9300,
          9520,
          9492,
          1680,
          7082,
          15863,
          14541,
          8125,
          6305,
          11500,
          12898,
          9240,
          1533,
          1477,
          13125,
          9130,
          5381,
          11839,
          9600,
          13680,
          16056,
          9245,
          21750,
          11100,
          8993,
          11175,
          9500,
          8562,
          11367,
          11361,
          7052,
          29959,
          11308,
          11275,
          4920,
          18000,
          13600,
          6000,
          11000,
          14000,
          7837,
          9760,
          3964,
          9600,
          10152,
          11700,
          7585,
          7950,
          8556,
          13125,
          10800,
          15870,
          4435,
          8775,
          11040,
          7500,
          8749,
          8800,
          13031,
          9069,
          1974,
          10574,
          2522,
          3316,
          8544,
          2160,
          8400,
          9230,
          5868,
          9317,
          6882,
          3696,
          6000,
          11880,
          8400,
          9758,
          7000,
          8910,
          2016,
          12256,
          10357,
          23257,
          8063,
          11362,
          8000,
          10480,
          7100,
          8923,
          5400,
          12085,
          7750,
          9764,
          13825,
          7560,
          8263,
          10084,
          8926,
          9405,
          9125,
          10434,
          3684,
          14572,
          11796,
          7200,
          7804,
          10712,
          9900,
          9828,
          8773,
          6180,
          9600,
          6342,
          9819,
          8731,
          7350,
          10304,
          9965,
          9000,
          12180,
          6240,
          11200,
          12000,
          5700,
          9000,
          8280,
          17755,
          14115,
          5890,
          13700,
          10768,
          9350,
          5001,
          11932,
          9120,
          2280,
          14778,
          8724,
          12900,
          16157,
          9541,
          10475,
          10852,
          13728,
          35760,
          9880,
          9120,
          4017,
          18030,
          16560,
          10678,
          6951,
          3950,
          7681,
          8335,
          11170,
          5587,
          15623,
          10800,
          35133,
          9738,
          10615,
          12461,
          8935,
          7500,
          32463,
          2645,
          9600,
          4500,
          9364,
          8029,
          14054,
          8850,
          9100,
          11235,
          9353,
          10400,
          6000,
          9750,
          10140,
          14684,
          8900,
          9135,
          7763,
          10182,
          11218,
          12134,
          9340,
          10246,
          10205,
          7094,
          8930,
          8640,
          6240,
          1680,
          7800,
          8250,
          10496,
          10680,
          15384,
          10482,
          14598,
          8872,
          8769,
          7910,
          18890,
          7728,
          9842,
          12160,
          8525,
          13132,
          2628,
          12393,
          13072,
          9037,
          8158,
          9849,
          10625,
          13891,
          11435,
          12090,
          8125,
          12328,
          9600,
          7200,
          11160,
          3136,
          9858,
          17542,
          6931,
          6240,
          14303,
          4060,
          9587,
          9750,
          24682,
          9600,
          11250,
          13515,
          4060,
          3735,
          10120,
          13214,
          14100,
          11344,
          23595,
          9156,
          13526,
          11512,
          5362,
          11345,
          12936,
          17871,
          9473,
          7500,
          9808,
          8049,
          8800,
          9400,
          9638,
          6000,
          9790,
          36500,
          5664,
          11065,
          14112,
          1680,
          6600,
          10140,
          8172,
          8400,
          8700,
          3675,
          63887,
          7500,
          10762,
          7500,
          10120,
          8688,
          3363,
          13173,
          6955,
          8072,
          12000,
          7153,
          17500,
          8814,
          9572,
          14774,
          8190,
          11075,
          10226,
          4230,
          14781,
          10215,
          8400,
          6627,
          10186,
          5330,
          9986,
          3636,
          4270,
          6600,
          10440,
          9084,
          10000,
          10780,
          8877,
          7200,
          2368,
          9650,
          9246,
          4118,
          13450,
          9560,
          8294,
          13695,
          9375,
          7558,
          11103,
          6000,
          20781,
          15306,
          16196,
          5250,
          11643,
          9247,
          6000,
          14720,
          10316,
          10192,
          9477,
          12537,
          2117,
          16737,
          9842,
          16158,
          12513,
          8499,
          3180,
          7500,
          9179,
          2665,
          4435,
          10635,
          5400,
          9600,
          9750,
          11400,
          10625,
          10991,
          6292,
          10998,
          1953,
          9735,
          8212,
          12925,
          7200,
          25339,
          9060,
          5436,
          16692,
          8520,
          14892,
          6000,
          9100,
          8944,
          7838,
          10800,
          4045,
          12665,
          57200,
          6120,
          7200,
          6171,
          6000,
          7415,
          6762,
          15256,
          10410,
          3842,
          8445,
          8780,
          7740,
          20544,
          12420,
          9600,
          7200,
          10994,
          13053,
          3635,
          11340,
          16545,
          9204,
          16381,
          11700,
          4043,
          4435,
          19690,
          9503,
          10721,
          10944,
          10930,
          7200,
          12546,
          21930,
          4928,
          10800,
          10261,
          17400,
          8400,
          9000,
          12444,
          7407,
          11584,
          11526,
          4426,
          11003,
          8854,
          8500,
          8400,
          26142,
          10000,
          11767,
          1533,
          9000,
          9262,
          3675,
          17217,
          7500,
          7917,
          13175,
          9042,
          9717,
          9937
         ],
         "xaxis": "x",
         "y": [
          208500,
          181500,
          223500,
          140000,
          250000,
          143000,
          307000,
          200000,
          129900,
          118000,
          129500,
          345000,
          144000,
          279500,
          157000,
          132000,
          149000,
          90000,
          159000,
          139000,
          325300,
          139400,
          230000,
          129900,
          154000,
          256300,
          134800,
          306000,
          207500,
          68500,
          40000,
          149350,
          179900,
          165500,
          277500,
          309000,
          145000,
          153000,
          109000,
          82000,
          160000,
          170000,
          144000,
          130250,
          141000,
          319900,
          239686,
          249700,
          113000,
          127000,
          177000,
          114500,
          110000,
          385000,
          130000,
          180500,
          172500,
          196500,
          438780,
          124900,
          158000,
          101000,
          202500,
          140000,
          219500,
          317000,
          180000,
          226000,
          80000,
          225000,
          244000,
          129500,
          185000,
          144900,
          107400,
          91000,
          135750,
          127000,
          136500,
          110000,
          193500,
          153500,
          245000,
          126500,
          168500,
          260000,
          174000,
          164500,
          85000,
          123600,
          109900,
          98600,
          163500,
          133900,
          204750,
          185000,
          214000,
          94750,
          83000,
          128950,
          205000,
          178000,
          118964,
          198900,
          169500,
          250000,
          100000,
          115000,
          115000,
          190000,
          136900,
          180000,
          383970,
          217000,
          259500,
          176000,
          139000,
          155000,
          320000,
          163990,
          180000,
          100000,
          136000,
          153900,
          181000,
          84500,
          128000,
          87000,
          155000,
          150000,
          226000,
          244000,
          150750,
          220000,
          180000,
          174000,
          143000,
          171000,
          230000,
          231500,
          115000,
          260000,
          166000,
          204000,
          125000,
          130000,
          105000,
          222500,
          141000,
          115000,
          122000,
          372402,
          190000,
          235000,
          125000,
          79000,
          109500,
          269500,
          254900,
          320000,
          162500,
          412500,
          220000,
          103200,
          152000,
          127500,
          190000,
          325624,
          183500,
          228000,
          128500,
          215000,
          239000,
          163000,
          184000,
          243000,
          211000,
          172500,
          501837,
          100000,
          177000,
          200100,
          120000,
          200000,
          127000,
          475000,
          173000,
          135000,
          153337,
          286000,
          315000,
          184000,
          192000,
          130000,
          127000,
          148500,
          311872,
          235000,
          104000,
          274900,
          140000,
          171500,
          112000,
          149000,
          110000,
          180500,
          143900,
          141000,
          277000,
          145000,
          98000,
          186000,
          252678,
          156000,
          161750,
          134450,
          210000,
          107000,
          311500,
          167240,
          204900,
          200000,
          179900,
          97000,
          386250,
          112000,
          290000,
          106000,
          125000,
          192500,
          148000,
          403000,
          94500,
          128200,
          216500,
          89500,
          185500,
          194500,
          318000,
          113000,
          262500,
          110500,
          79000,
          120000,
          205000,
          241500,
          137000,
          140000,
          180000,
          277000,
          76500,
          235000,
          173000,
          158000,
          145000,
          230000,
          207500,
          220000,
          231500,
          97000,
          176000,
          276000,
          151000,
          130000,
          73000,
          175500,
          185000,
          179500,
          120500,
          148000,
          266000,
          241500,
          290000,
          139000,
          124500,
          205000,
          201000,
          141000,
          415298,
          192000,
          228500,
          185000,
          207500,
          244600,
          179200,
          164700,
          159000,
          88000,
          122000,
          153575,
          233230,
          135900,
          131000,
          235000,
          167000,
          142500,
          152000,
          239000,
          175000,
          158500,
          157000,
          267000,
          205000,
          149900,
          295000,
          305900,
          225000,
          89500,
          82500,
          360000,
          165600,
          132000,
          119900,
          375000,
          178000,
          188500,
          260000,
          270000,
          260000,
          187500,
          342643,
          354000,
          301000,
          126175,
          242000,
          87000,
          324000,
          145250,
          214500,
          78000,
          119000,
          139000,
          284000,
          207000,
          192000,
          228950,
          377426,
          214000,
          202500,
          155000,
          202900,
          82000,
          87500,
          266000,
          85000,
          140200,
          151500,
          157500,
          154000,
          437154,
          318061,
          190000,
          95000,
          105900,
          140000,
          177500,
          173000,
          134000,
          130000,
          280000,
          156000,
          145000,
          198500,
          118000,
          190000,
          147000,
          159000,
          165000,
          132000,
          162000,
          172400,
          134432,
          125000,
          123000,
          219500,
          61000,
          148000,
          340000,
          394432,
          179000,
          127000,
          187750,
          213500,
          76000,
          240000,
          192000,
          81000,
          125000,
          191000,
          426000,
          119000,
          215000,
          106500,
          100000,
          109000,
          129000,
          123000,
          169500,
          67000,
          241000,
          245500,
          164990,
          108000,
          258000,
          168000,
          150000,
          115000,
          177000,
          280000,
          339750,
          60000,
          145000,
          222000,
          115000,
          228000,
          181134,
          149500,
          239000,
          126000,
          142000,
          206300,
          215000,
          113000,
          315000,
          139000,
          135000,
          275000,
          109008,
          195400,
          175000,
          85400,
          79900,
          122500,
          181000,
          81000,
          212000,
          116000,
          119000,
          90350,
          110000,
          555000,
          118000,
          162900,
          172500,
          210000,
          127500,
          190000,
          199900,
          119500,
          120000,
          110000,
          280000,
          204000,
          210000,
          188000,
          175500,
          98000,
          256000,
          161000,
          110000,
          263435,
          155000,
          62383,
          188700,
          124000,
          178740,
          167000,
          146500,
          250000,
          187000,
          212000,
          190000,
          148000,
          440000,
          251000,
          132500,
          208900,
          380000,
          297000,
          89471,
          326000,
          374000,
          155000,
          164000,
          132500,
          147000,
          156000,
          175000,
          160000,
          86000,
          115000,
          133000,
          172785,
          155000,
          91300,
          34900,
          430000,
          184000,
          130000,
          120000,
          113000,
          226700,
          140000,
          289000,
          147000,
          124500,
          215000,
          208300,
          161000,
          124500,
          164900,
          202665,
          129900,
          134000,
          96500,
          402861,
          158000,
          265000,
          211000,
          234000,
          106250,
          150000,
          159000,
          184750,
          315750,
          176000,
          132000,
          446261,
          86000,
          200624,
          175000,
          128000,
          107500,
          39300,
          178000,
          107500,
          188000,
          111250,
          158000,
          272000,
          315000,
          248000,
          213250,
          133000,
          179665,
          229000,
          210000,
          129500,
          125000,
          263000,
          140000,
          112500,
          255500,
          108000,
          284000,
          113000,
          141000,
          108000,
          175000,
          234000,
          121500,
          170000,
          108000,
          185000,
          268000,
          128000,
          325000,
          214000,
          316600,
          135960,
          142600,
          120000,
          224500,
          170000,
          139000,
          118500,
          145000,
          164500,
          146000,
          131500,
          181900,
          253293,
          118500,
          325000,
          133000,
          369900,
          130000,
          137000,
          143000,
          79500,
          185900,
          451950,
          138000,
          140000,
          110000,
          319000,
          114504,
          194201,
          217500,
          151000,
          275000,
          141000,
          220000,
          151000,
          221000,
          205000,
          152000,
          225000,
          359100,
          118500,
          313000,
          148000,
          261500,
          147000,
          75500,
          137500,
          183200,
          105500,
          314813,
          305000,
          67000,
          240000,
          135000,
          168500,
          165150,
          160000,
          139900,
          153000,
          135000,
          168500,
          124000,
          209500,
          82500,
          139400,
          144000,
          200000,
          60000,
          93000,
          85000,
          264561,
          274000,
          226000,
          345000,
          152000,
          370878,
          143250,
          98300,
          155000,
          155000,
          84500,
          205950,
          108000,
          191000,
          135000,
          350000,
          88000,
          145500,
          149000,
          97500,
          167000,
          197900,
          402000,
          110000,
          137500,
          423000,
          230500,
          129000,
          193500,
          168000,
          137500,
          173500,
          103600,
          165000,
          257500,
          140000,
          148500,
          87000,
          109500,
          372500,
          128500,
          143000,
          159434,
          173000,
          285000,
          221000,
          207500,
          227875,
          148800,
          392000,
          194700,
          141000,
          755000,
          335000,
          108480,
          141500,
          176000,
          89000,
          123500,
          138500,
          196000,
          312500,
          140000,
          361919,
          140000,
          213000,
          55000,
          302000,
          254000,
          179540,
          109900,
          52000,
          102776,
          189000,
          129000,
          130500,
          165000,
          159500,
          157000,
          341000,
          128500,
          275000,
          143000,
          124500,
          135000,
          320000,
          120500,
          222000,
          194500,
          110000,
          103000,
          236500,
          187500,
          222500,
          131400,
          108000,
          163000,
          93500,
          239900,
          179000,
          190000,
          132000,
          142000,
          179000,
          175000,
          180000,
          299800,
          236000,
          265979,
          260400,
          98000,
          96500,
          162000,
          217000,
          275500,
          156000,
          172500,
          212000,
          158900,
          179400,
          290000,
          127500,
          100000,
          215200,
          337000,
          270000,
          264132,
          196500,
          160000,
          216837,
          538000,
          134900,
          102000,
          107000,
          114500,
          395000,
          162000,
          221500,
          142500,
          144000,
          135000,
          176000,
          175900,
          187100,
          165500,
          128000,
          161500,
          139000,
          233000,
          107900,
          187500,
          160200,
          146800,
          269790,
          225000,
          194500,
          171000,
          143500,
          110000,
          485000,
          175000,
          200000,
          109900,
          189000,
          582933,
          118000,
          227680,
          135500,
          223500,
          159950,
          106000,
          181000,
          144500,
          55993,
          157900,
          116000,
          224900,
          137000,
          271000,
          155000,
          224000,
          183000,
          93000,
          225000,
          139500,
          232600,
          385000,
          109500,
          189000,
          185000,
          147400,
          166000,
          151000,
          237000,
          167000,
          139950,
          128000,
          153500,
          100000,
          144000,
          130500,
          140000,
          157500,
          174900,
          141000,
          153900,
          171000,
          213000,
          133500,
          240000,
          187000,
          131500,
          215000,
          164000,
          158000,
          170000,
          127000,
          147000,
          174000,
          152000,
          250000,
          189950,
          131500,
          152000,
          132500,
          250580,
          148500,
          248900,
          129000,
          169000,
          236000,
          109500,
          200500,
          116000,
          133000,
          66500,
          303477,
          132250,
          350000,
          148000,
          136500,
          157000,
          187500,
          178000,
          118500,
          100000,
          328900,
          145000,
          135500,
          268000,
          149500,
          122900,
          172500,
          154500,
          165000,
          118858,
          140000,
          106500,
          142953,
          611657,
          135000,
          110000,
          153000,
          180000,
          240000,
          125500,
          128000,
          255000,
          250000,
          131000,
          174000,
          154300,
          143500,
          88000,
          145000,
          173733,
          75000,
          35311,
          135000,
          238000,
          176500,
          201000,
          145900,
          169990,
          193000,
          207500,
          175000,
          285000,
          176000,
          236500,
          222000,
          201000,
          117500,
          320000,
          190000,
          242000,
          79900,
          184900,
          253000,
          239799,
          244400,
          150900,
          214000,
          150000,
          143000,
          137500,
          124900,
          143000,
          270000,
          192500,
          197500,
          129000,
          119900,
          133900,
          172000,
          127500,
          145000,
          124000,
          132000,
          185000,
          155000,
          116500,
          272000,
          155000,
          239000,
          214900,
          178900,
          160000,
          135000,
          37900,
          140000,
          135000,
          173000,
          99500,
          182000,
          167500,
          165000,
          85500,
          199900,
          110000,
          139000,
          178400,
          336000,
          159895,
          255900,
          126000,
          125000,
          117000,
          395192,
          195000,
          197000,
          348000,
          168000,
          187000,
          173900,
          337500,
          121600,
          136500,
          185000,
          91000,
          206000,
          82000,
          86000,
          232000,
          136905,
          181000,
          149900,
          163500,
          88000,
          240000,
          102000,
          135000,
          100000,
          165000,
          85000,
          119200,
          227000,
          203000,
          187500,
          160000,
          213490,
          176000,
          194000,
          87000,
          191000,
          287000,
          112500,
          167500,
          293077,
          105000,
          118000,
          160000,
          197000,
          310000,
          230000,
          119750,
          84000,
          315500,
          287000,
          97000,
          80000,
          155000,
          173000,
          196000,
          262280,
          278000,
          139600,
          556581,
          145000,
          115000,
          84900,
          176485,
          200141,
          165000,
          144500,
          255000,
          180000,
          185850,
          248000,
          335000,
          220000,
          213500,
          81000,
          90000,
          110500,
          154000,
          328000,
          178000,
          167900,
          151400,
          135000,
          135000,
          154000,
          91500,
          159500,
          194000,
          219500,
          170000,
          138800,
          155900,
          126000,
          145000,
          133000,
          192000,
          160000,
          187500,
          147000,
          83500,
          252000,
          137500,
          197000,
          92900,
          160000,
          136500,
          146000,
          129000,
          176432,
          127000,
          170000,
          128000,
          157000,
          60000,
          119500,
          135000,
          159500,
          106000,
          325000,
          179900,
          274725,
          181000,
          280000,
          188000,
          205000,
          129900,
          134500,
          117000,
          318000,
          184100,
          130000,
          140000,
          133700,
          118400,
          212900,
          112000,
          118000,
          163900,
          115000,
          174000,
          259000,
          215000,
          140000,
          135000,
          93500,
          117500,
          239500,
          169000,
          102000,
          119000,
          94000,
          196000,
          144000,
          139000,
          197500,
          424870,
          80000,
          80000,
          149000,
          180000,
          174500,
          116900,
          143000,
          124000,
          149900,
          230000,
          120500,
          201800,
          218000,
          179900,
          230000,
          235128,
          185000,
          146000,
          224000,
          129000,
          108959,
          194000,
          233170,
          245350,
          173000,
          235000,
          625000,
          171000,
          163000,
          171900,
          200500,
          239000,
          285000,
          119500,
          115000,
          154900,
          93000,
          250000,
          392500,
          745000,
          120000,
          186700,
          104900,
          95000,
          262000,
          195000,
          189000,
          168000,
          174000,
          125000,
          165000,
          158000,
          176000,
          219210,
          144000,
          178000,
          148000,
          116050,
          197900,
          117000,
          213000,
          153500,
          271900,
          107000,
          200000,
          140000,
          290000,
          189000,
          164000,
          113000,
          145000,
          134500,
          125000,
          112000,
          229456,
          80500,
          91500,
          115000,
          134000,
          143000,
          137900,
          184000,
          145000,
          214000,
          147000,
          367294,
          127000,
          190000,
          132500,
          101800,
          142000,
          130000,
          138887,
          175500,
          195000,
          142500,
          265900,
          224900,
          248328,
          170000,
          465000,
          230000,
          178000,
          186500,
          169900,
          129500,
          119000,
          244000,
          171750,
          130000,
          294000,
          165400,
          127500,
          301500,
          99900,
          190000,
          151000,
          181000,
          128900,
          161500,
          180500,
          181000,
          183900,
          122000,
          378500,
          381000,
          144000,
          260000,
          185750,
          137000,
          177000,
          139000,
          137000,
          162000,
          197900,
          237000,
          68400,
          227000,
          180000,
          150500,
          139000,
          169000,
          132500,
          143000,
          190000,
          278000,
          281000,
          180500,
          119500,
          107500,
          162900,
          115000,
          138500,
          155000,
          140000,
          160000,
          154000,
          225000,
          177500,
          290000,
          232000,
          130000,
          325000,
          202500,
          138000,
          147000,
          179200,
          335000,
          203000,
          302000,
          333168,
          119000,
          206900,
          295493,
          208900,
          275000,
          111000,
          156500,
          72500,
          190000,
          82500,
          147000,
          55000,
          79000,
          130500,
          256000,
          176500,
          227000,
          132500,
          100000,
          125500,
          125000,
          167900,
          135000,
          52500,
          200000,
          128500,
          123000,
          155000,
          228500,
          177000,
          155835,
          108500,
          262500,
          283463,
          215000,
          122000,
          200000,
          171000,
          134900,
          410000,
          235000,
          170000,
          110000,
          149900,
          177500,
          315000,
          189000,
          260000,
          104900,
          156932,
          144152,
          216000,
          193000,
          127000,
          144000,
          232000,
          105000,
          165500,
          274300,
          466500,
          250000,
          239000,
          91000,
          117000,
          83000,
          167500,
          58500,
          237500,
          157000,
          112000,
          105000,
          125500,
          250000,
          136000,
          377500,
          131000,
          235000,
          124000,
          123000,
          163000,
          246578,
          281213,
          160000,
          137500,
          138000,
          137450,
          120000,
          193000,
          193879,
          282922,
          105000,
          275000,
          133000,
          112000,
          125500,
          215000,
          230000,
          140000,
          90000,
          257000,
          207000,
          175900,
          122500,
          340000,
          124000,
          223000,
          179900,
          127500,
          136500,
          274970,
          144000,
          142000,
          271000,
          140000,
          119000,
          182900,
          192140,
          143750,
          64500,
          186500,
          160000,
          174000,
          120500,
          394617,
          149700,
          197000,
          191000,
          149300,
          310000,
          121000,
          179600,
          129000,
          157900,
          240000,
          112000,
          92000,
          136000,
          287090,
          145000,
          84500,
          185000,
          175000,
          210000,
          266500,
          142125,
          147500
         ],
         "yaxis": "y"
        }
       ],
       "layout": {
        "legend": {
         "tracegroupgap": 0
        },
        "template": {
         "data": {
          "bar": [
           {
            "error_x": {
             "color": "#f2f5fa"
            },
            "error_y": {
             "color": "#f2f5fa"
            },
            "marker": {
             "line": {
              "color": "rgb(17,17,17)",
              "width": 0.5
             },
             "pattern": {
              "fillmode": "overlay",
              "size": 10,
              "solidity": 0.2
             }
            },
            "type": "bar"
           }
          ],
          "barpolar": [
           {
            "marker": {
             "line": {
              "color": "rgb(17,17,17)",
              "width": 0.5
             },
             "pattern": {
              "fillmode": "overlay",
              "size": 10,
              "solidity": 0.2
             }
            },
            "type": "barpolar"
           }
          ],
          "carpet": [
           {
            "aaxis": {
             "endlinecolor": "#A2B1C6",
             "gridcolor": "#506784",
             "linecolor": "#506784",
             "minorgridcolor": "#506784",
             "startlinecolor": "#A2B1C6"
            },
            "baxis": {
             "endlinecolor": "#A2B1C6",
             "gridcolor": "#506784",
             "linecolor": "#506784",
             "minorgridcolor": "#506784",
             "startlinecolor": "#A2B1C6"
            },
            "type": "carpet"
           }
          ],
          "choropleth": [
           {
            "colorbar": {
             "outlinewidth": 0,
             "ticks": ""
            },
            "type": "choropleth"
           }
          ],
          "contour": [
           {
            "colorbar": {
             "outlinewidth": 0,
             "ticks": ""
            },
            "colorscale": [
             [
              0,
              "#0d0887"
             ],
             [
              0.1111111111111111,
              "#46039f"
             ],
             [
              0.2222222222222222,
              "#7201a8"
             ],
             [
              0.3333333333333333,
              "#9c179e"
             ],
             [
              0.4444444444444444,
              "#bd3786"
             ],
             [
              0.5555555555555556,
              "#d8576b"
             ],
             [
              0.6666666666666666,
              "#ed7953"
             ],
             [
              0.7777777777777778,
              "#fb9f3a"
             ],
             [
              0.8888888888888888,
              "#fdca26"
             ],
             [
              1,
              "#f0f921"
             ]
            ],
            "type": "contour"
           }
          ],
          "contourcarpet": [
           {
            "colorbar": {
             "outlinewidth": 0,
             "ticks": ""
            },
            "type": "contourcarpet"
           }
          ],
          "heatmap": [
           {
            "colorbar": {
             "outlinewidth": 0,
             "ticks": ""
            },
            "colorscale": [
             [
              0,
              "#0d0887"
             ],
             [
              0.1111111111111111,
              "#46039f"
             ],
             [
              0.2222222222222222,
              "#7201a8"
             ],
             [
              0.3333333333333333,
              "#9c179e"
             ],
             [
              0.4444444444444444,
              "#bd3786"
             ],
             [
              0.5555555555555556,
              "#d8576b"
             ],
             [
              0.6666666666666666,
              "#ed7953"
             ],
             [
              0.7777777777777778,
              "#fb9f3a"
             ],
             [
              0.8888888888888888,
              "#fdca26"
             ],
             [
              1,
              "#f0f921"
             ]
            ],
            "type": "heatmap"
           }
          ],
          "heatmapgl": [
           {
            "colorbar": {
             "outlinewidth": 0,
             "ticks": ""
            },
            "colorscale": [
             [
              0,
              "#0d0887"
             ],
             [
              0.1111111111111111,
              "#46039f"
             ],
             [
              0.2222222222222222,
              "#7201a8"
             ],
             [
              0.3333333333333333,
              "#9c179e"
             ],
             [
              0.4444444444444444,
              "#bd3786"
             ],
             [
              0.5555555555555556,
              "#d8576b"
             ],
             [
              0.6666666666666666,
              "#ed7953"
             ],
             [
              0.7777777777777778,
              "#fb9f3a"
             ],
             [
              0.8888888888888888,
              "#fdca26"
             ],
             [
              1,
              "#f0f921"
             ]
            ],
            "type": "heatmapgl"
           }
          ],
          "histogram": [
           {
            "marker": {
             "pattern": {
              "fillmode": "overlay",
              "size": 10,
              "solidity": 0.2
             }
            },
            "type": "histogram"
           }
          ],
          "histogram2d": [
           {
            "colorbar": {
             "outlinewidth": 0,
             "ticks": ""
            },
            "colorscale": [
             [
              0,
              "#0d0887"
             ],
             [
              0.1111111111111111,
              "#46039f"
             ],
             [
              0.2222222222222222,
              "#7201a8"
             ],
             [
              0.3333333333333333,
              "#9c179e"
             ],
             [
              0.4444444444444444,
              "#bd3786"
             ],
             [
              0.5555555555555556,
              "#d8576b"
             ],
             [
              0.6666666666666666,
              "#ed7953"
             ],
             [
              0.7777777777777778,
              "#fb9f3a"
             ],
             [
              0.8888888888888888,
              "#fdca26"
             ],
             [
              1,
              "#f0f921"
             ]
            ],
            "type": "histogram2d"
           }
          ],
          "histogram2dcontour": [
           {
            "colorbar": {
             "outlinewidth": 0,
             "ticks": ""
            },
            "colorscale": [
             [
              0,
              "#0d0887"
             ],
             [
              0.1111111111111111,
              "#46039f"
             ],
             [
              0.2222222222222222,
              "#7201a8"
             ],
             [
              0.3333333333333333,
              "#9c179e"
             ],
             [
              0.4444444444444444,
              "#bd3786"
             ],
             [
              0.5555555555555556,
              "#d8576b"
             ],
             [
              0.6666666666666666,
              "#ed7953"
             ],
             [
              0.7777777777777778,
              "#fb9f3a"
             ],
             [
              0.8888888888888888,
              "#fdca26"
             ],
             [
              1,
              "#f0f921"
             ]
            ],
            "type": "histogram2dcontour"
           }
          ],
          "mesh3d": [
           {
            "colorbar": {
             "outlinewidth": 0,
             "ticks": ""
            },
            "type": "mesh3d"
           }
          ],
          "parcoords": [
           {
            "line": {
             "colorbar": {
              "outlinewidth": 0,
              "ticks": ""
             }
            },
            "type": "parcoords"
           }
          ],
          "pie": [
           {
            "automargin": true,
            "type": "pie"
           }
          ],
          "scatter": [
           {
            "marker": {
             "line": {
              "color": "#283442"
             }
            },
            "type": "scatter"
           }
          ],
          "scatter3d": [
           {
            "line": {
             "colorbar": {
              "outlinewidth": 0,
              "ticks": ""
             }
            },
            "marker": {
             "colorbar": {
              "outlinewidth": 0,
              "ticks": ""
             }
            },
            "type": "scatter3d"
           }
          ],
          "scattercarpet": [
           {
            "marker": {
             "colorbar": {
              "outlinewidth": 0,
              "ticks": ""
             }
            },
            "type": "scattercarpet"
           }
          ],
          "scattergeo": [
           {
            "marker": {
             "colorbar": {
              "outlinewidth": 0,
              "ticks": ""
             }
            },
            "type": "scattergeo"
           }
          ],
          "scattergl": [
           {
            "marker": {
             "line": {
              "color": "#283442"
             }
            },
            "type": "scattergl"
           }
          ],
          "scattermapbox": [
           {
            "marker": {
             "colorbar": {
              "outlinewidth": 0,
              "ticks": ""
             }
            },
            "type": "scattermapbox"
           }
          ],
          "scatterpolar": [
           {
            "marker": {
             "colorbar": {
              "outlinewidth": 0,
              "ticks": ""
             }
            },
            "type": "scatterpolar"
           }
          ],
          "scatterpolargl": [
           {
            "marker": {
             "colorbar": {
              "outlinewidth": 0,
              "ticks": ""
             }
            },
            "type": "scatterpolargl"
           }
          ],
          "scatterternary": [
           {
            "marker": {
             "colorbar": {
              "outlinewidth": 0,
              "ticks": ""
             }
            },
            "type": "scatterternary"
           }
          ],
          "surface": [
           {
            "colorbar": {
             "outlinewidth": 0,
             "ticks": ""
            },
            "colorscale": [
             [
              0,
              "#0d0887"
             ],
             [
              0.1111111111111111,
              "#46039f"
             ],
             [
              0.2222222222222222,
              "#7201a8"
             ],
             [
              0.3333333333333333,
              "#9c179e"
             ],
             [
              0.4444444444444444,
              "#bd3786"
             ],
             [
              0.5555555555555556,
              "#d8576b"
             ],
             [
              0.6666666666666666,
              "#ed7953"
             ],
             [
              0.7777777777777778,
              "#fb9f3a"
             ],
             [
              0.8888888888888888,
              "#fdca26"
             ],
             [
              1,
              "#f0f921"
             ]
            ],
            "type": "surface"
           }
          ],
          "table": [
           {
            "cells": {
             "fill": {
              "color": "#506784"
             },
             "line": {
              "color": "rgb(17,17,17)"
             }
            },
            "header": {
             "fill": {
              "color": "#2a3f5f"
             },
             "line": {
              "color": "rgb(17,17,17)"
             }
            },
            "type": "table"
           }
          ]
         },
         "layout": {
          "annotationdefaults": {
           "arrowcolor": "#f2f5fa",
           "arrowhead": 0,
           "arrowwidth": 1
          },
          "autotypenumbers": "strict",
          "coloraxis": {
           "colorbar": {
            "outlinewidth": 0,
            "ticks": ""
           }
          },
          "colorscale": {
           "diverging": [
            [
             0,
             "#8e0152"
            ],
            [
             0.1,
             "#c51b7d"
            ],
            [
             0.2,
             "#de77ae"
            ],
            [
             0.3,
             "#f1b6da"
            ],
            [
             0.4,
             "#fde0ef"
            ],
            [
             0.5,
             "#f7f7f7"
            ],
            [
             0.6,
             "#e6f5d0"
            ],
            [
             0.7,
             "#b8e186"
            ],
            [
             0.8,
             "#7fbc41"
            ],
            [
             0.9,
             "#4d9221"
            ],
            [
             1,
             "#276419"
            ]
           ],
           "sequential": [
            [
             0,
             "#0d0887"
            ],
            [
             0.1111111111111111,
             "#46039f"
            ],
            [
             0.2222222222222222,
             "#7201a8"
            ],
            [
             0.3333333333333333,
             "#9c179e"
            ],
            [
             0.4444444444444444,
             "#bd3786"
            ],
            [
             0.5555555555555556,
             "#d8576b"
            ],
            [
             0.6666666666666666,
             "#ed7953"
            ],
            [
             0.7777777777777778,
             "#fb9f3a"
            ],
            [
             0.8888888888888888,
             "#fdca26"
            ],
            [
             1,
             "#f0f921"
            ]
           ],
           "sequentialminus": [
            [
             0,
             "#0d0887"
            ],
            [
             0.1111111111111111,
             "#46039f"
            ],
            [
             0.2222222222222222,
             "#7201a8"
            ],
            [
             0.3333333333333333,
             "#9c179e"
            ],
            [
             0.4444444444444444,
             "#bd3786"
            ],
            [
             0.5555555555555556,
             "#d8576b"
            ],
            [
             0.6666666666666666,
             "#ed7953"
            ],
            [
             0.7777777777777778,
             "#fb9f3a"
            ],
            [
             0.8888888888888888,
             "#fdca26"
            ],
            [
             1,
             "#f0f921"
            ]
           ]
          },
          "colorway": [
           "#636efa",
           "#EF553B",
           "#00cc96",
           "#ab63fa",
           "#FFA15A",
           "#19d3f3",
           "#FF6692",
           "#B6E880",
           "#FF97FF",
           "#FECB52"
          ],
          "font": {
           "color": "#f2f5fa"
          },
          "geo": {
           "bgcolor": "rgb(17,17,17)",
           "lakecolor": "rgb(17,17,17)",
           "landcolor": "rgb(17,17,17)",
           "showlakes": true,
           "showland": true,
           "subunitcolor": "#506784"
          },
          "hoverlabel": {
           "align": "left"
          },
          "hovermode": "closest",
          "mapbox": {
           "style": "dark"
          },
          "paper_bgcolor": "rgb(17,17,17)",
          "plot_bgcolor": "rgb(17,17,17)",
          "polar": {
           "angularaxis": {
            "gridcolor": "#506784",
            "linecolor": "#506784",
            "ticks": ""
           },
           "bgcolor": "rgb(17,17,17)",
           "radialaxis": {
            "gridcolor": "#506784",
            "linecolor": "#506784",
            "ticks": ""
           }
          },
          "scene": {
           "xaxis": {
            "backgroundcolor": "rgb(17,17,17)",
            "gridcolor": "#506784",
            "gridwidth": 2,
            "linecolor": "#506784",
            "showbackground": true,
            "ticks": "",
            "zerolinecolor": "#C8D4E3"
           },
           "yaxis": {
            "backgroundcolor": "rgb(17,17,17)",
            "gridcolor": "#506784",
            "gridwidth": 2,
            "linecolor": "#506784",
            "showbackground": true,
            "ticks": "",
            "zerolinecolor": "#C8D4E3"
           },
           "zaxis": {
            "backgroundcolor": "rgb(17,17,17)",
            "gridcolor": "#506784",
            "gridwidth": 2,
            "linecolor": "#506784",
            "showbackground": true,
            "ticks": "",
            "zerolinecolor": "#C8D4E3"
           }
          },
          "shapedefaults": {
           "line": {
            "color": "#f2f5fa"
           }
          },
          "sliderdefaults": {
           "bgcolor": "#C8D4E3",
           "bordercolor": "rgb(17,17,17)",
           "borderwidth": 1,
           "tickwidth": 0
          },
          "ternary": {
           "aaxis": {
            "gridcolor": "#506784",
            "linecolor": "#506784",
            "ticks": ""
           },
           "baxis": {
            "gridcolor": "#506784",
            "linecolor": "#506784",
            "ticks": ""
           },
           "bgcolor": "rgb(17,17,17)",
           "caxis": {
            "gridcolor": "#506784",
            "linecolor": "#506784",
            "ticks": ""
           }
          },
          "title": {
           "x": 0.05
          },
          "updatemenudefaults": {
           "bgcolor": "#506784",
           "borderwidth": 0
          },
          "xaxis": {
           "automargin": true,
           "gridcolor": "#283442",
           "linecolor": "#506784",
           "ticks": "",
           "title": {
            "standoff": 15
           },
           "zerolinecolor": "#283442",
           "zerolinewidth": 2
          },
          "yaxis": {
           "automargin": true,
           "gridcolor": "#283442",
           "linecolor": "#506784",
           "ticks": "",
           "title": {
            "standoff": 15
           },
           "zerolinecolor": "#283442",
           "zerolinewidth": 2
          }
         }
        },
        "title": {
         "font": {
          "size": 20
         },
         "text": "LotArea vs. SalePrice"
        },
        "xaxis": {
         "anchor": "y",
         "domain": [
          0,
          1
         ],
         "title": {
          "text": "LotArea"
         }
        },
        "yaxis": {
         "anchor": "x",
         "domain": [
          0,
          1
         ],
         "title": {
          "text": "SalePrice"
         }
        }
       }
      }
     },
     "metadata": {},
     "output_type": "display_data"
    },
    {
     "data": {
      "application/vnd.plotly.v1+json": {
       "config": {
        "plotlyServerURL": "https://plot.ly"
       },
       "data": [
        {
         "hovertemplate": "LotArea=%{x}<br>SalePrice=%{y}<extra></extra>",
         "legendgroup": "",
         "marker": {
          "color": "#636efa",
          "symbol": "circle"
         },
         "mode": "markers",
         "name": "",
         "orientation": "v",
         "showlegend": false,
         "type": "scatter",
         "x": [
          8450,
          11250,
          14260,
          10084,
          11200,
          10652,
          13695,
          7560,
          14215,
          4224,
          11478,
          8544,
          11049,
          7313,
          13418,
          7922,
          8658,
          7658,
          11096,
          7742,
          7134,
          11645,
          7200,
          13072,
          6442,
          9591,
          10665,
          4608,
          7599,
          8475,
          8892,
          8070,
          9337,
          10264,
          10921,
          10603,
          9206,
          10402,
          9525,
          7750,
          8536,
          8461,
          7892,
          17043,
          4388,
          7590,
          14200,
          12224,
          7388,
          6853,
          10400,
          10355,
          9066,
          15426,
          10500,
          11645,
          8520,
          10335,
          6120,
          9505,
          7500,
          6240,
          14803,
          12003,
          12552,
          11120,
          12182,
          5500,
          10562,
          8244,
          9947,
          9017,
          7180,
          8546,
          4438,
          3500,
          13673,
          8250,
          10420,
          8640,
          8450,
          3010,
          8990,
          8068,
          9950,
          8521,
          3182,
          7851,
          8773,
          8741,
          9000,
          8880,
          11310,
          11317,
          8366,
          8400,
          8738,
          8791,
          8814,
          9588,
          8471,
          5232,
          11207,
          7917,
          11764,
          8314,
          10005,
          7200,
          5063,
          9612,
          8125,
          9819,
          9600,
          7937,
          13710,
          16226,
          9800,
          10386,
          7920,
          12342,
          7685,
          8000,
          7795,
          14115,
          10846,
          11600,
          8176,
          8198,
          9042,
          9135,
          14191,
          6435,
          17600,
          9248,
          9144,
          7800,
          8121,
          8200,
          8846,
          8123,
          7200,
          9245,
          7200,
          9382,
          7446,
          10134,
          9571,
          7200,
          7590,
          8125,
          8767,
          10364,
          9991,
          10800,
          8899,
          7844,
          8160,
          9000,
          8593,
          6762,
          5586,
          10839,
          6240,
          3922,
          8750,
          9855,
          11214,
          8600,
          9303,
          9000,
          9600,
          5100,
          8004,
          11988,
          8430,
          3072,
          9480,
          11428,
          9291,
          5330,
          13125,
          10637,
          4500,
          7758,
          10289,
          15578,
          9120,
          7800,
          9803,
          9554,
          7862,
          9600,
          6792,
          10448,
          9531,
          11988,
          7500,
          10200,
          9056,
          8924,
          12735,
          11000,
          17104,
          7244,
          6000,
          10625,
          3196,
          13907,
          13346,
          10171,
          7032,
          7332,
          13159,
          9967,
          12150,
          11841,
          8740,
          8320,
          4435,
          7990,
          3600,
          10927,
          10041,
          12803,
          12464,
          11050,
          11885,
          8402,
          8800,
          7861,
          7227,
          12244,
          7064,
          4590,
          11900,
          3982,
          8125,
          9084,
          8750,
          10007,
          9937,
          11194,
          8125,
          14175,
          8633,
          6629,
          11250,
          9945,
          2887,
          11248,
          16770,
          10207,
          7577,
          4426,
          6120,
          4282,
          9600,
          6240,
          9018,
          7162,
          4130,
          4671,
          10140,
          9920,
          4426,
          8120,
          13286,
          7314,
          5389,
          11404,
          8978,
          10463,
          9313,
          8450,
          8795,
          8800,
          7750,
          9236,
          10240,
          10769,
          11616,
          6911,
          8640,
          7252,
          8877,
          10150,
          11210,
          13350,
          10530,
          7875,
          7153,
          16285,
          9101,
          10142,
          6000,
          3182,
          11333,
          9920,
          9158,
          8197,
          7677,
          4800,
          8199,
          9000,
          12274,
          4438,
          13265,
          8816,
          6371,
          7226,
          12394,
          9900,
          11216,
          8529,
          9548,
          7875,
          9600,
          9525,
          11767,
          16647,
          15523,
          9600,
          4435,
          3196,
          12095,
          8125,
          10400,
          9672,
          7931,
          8640,
          8750,
          10656,
          9938,
          6600,
          8750,
          5720,
          7024,
          13758,
          9636,
          7150,
          5119,
          7056,
          8765,
          6993,
          7340,
          8712,
          7875,
          14859,
          6173,
          9286,
          17140,
          11999,
          9900,
          13006,
          8925,
          8487,
          10083,
          9675,
          8760,
          14006,
          9360,
          7420,
          8450,
          7207,
          11316,
          10237,
          7390,
          5925,
          10800,
          7892,
          11639,
          5900,
          4274,
          9450,
          8816,
          3182,
          11250,
          8125,
          8846,
          12456,
          6762,
          11957,
          3182,
          11664,
          8400,
          11883,
          5814,
          10784,
          3013,
          7024,
          7406,
          3182,
          9520,
          8125,
          6305,
          12898,
          5381,
          11839,
          8993,
          11175,
          8562,
          11367,
          7052,
          11308,
          6000,
          14000,
          7837,
          11700,
          7950,
          8556,
          13125,
          4435,
          8775,
          8749,
          13031,
          9069,
          3316,
          9317,
          6000,
          11880,
          8400,
          7000,
          12256,
          8063,
          8000,
          7100,
          8923,
          5400,
          12085,
          7750,
          9764,
          10084,
          9125,
          10434,
          3684,
          11796,
          7200,
          10712,
          9828,
          8773,
          6180,
          9819,
          7350,
          6240,
          11200,
          12000,
          5001,
          11932,
          9120,
          8724,
          9541,
          10852,
          6951,
          11170,
          10800,
          8935,
          7500,
          9364,
          8029,
          14054,
          9100,
          11235,
          9353,
          10400,
          10140,
          8900,
          9135,
          9340,
          10205,
          8640,
          10496,
          15384,
          14598,
          7910,
          7728,
          12160,
          13132,
          12393,
          13072,
          9037,
          8158,
          11435,
          8125,
          12328,
          3136,
          6931,
          9587,
          9600,
          4060,
          11344,
          9156,
          9808,
          6000,
          5664,
          14112,
          8172,
          8400,
          10762,
          10120,
          8688,
          13173,
          6955,
          8072,
          7153,
          8814,
          8190,
          10226,
          10215,
          10186,
          5330,
          9084,
          10000,
          10780,
          8877,
          13450,
          13695,
          9375,
          7558,
          11103,
          15306,
          16196,
          10192,
          9477,
          12537,
          12513,
          8499,
          7500,
          9179,
          4435,
          9750,
          10991,
          6292,
          9735,
          12925,
          9060,
          9100,
          7838,
          4045,
          12665,
          6171,
          7415,
          6762,
          15256,
          8445,
          8780,
          12420,
          10994,
          4435,
          10721,
          10930,
          4928,
          10800,
          10261,
          17400,
          9000,
          4426,
          11003,
          8500,
          11767,
          9262,
          17217,
          7500,
          7917
         ],
         "xaxis": "x",
         "y": [
          208500,
          223500,
          250000,
          307000,
          129500,
          279500,
          159000,
          139000,
          325300,
          129900,
          306000,
          149350,
          179900,
          277500,
          309000,
          109000,
          160000,
          319900,
          249700,
          127000,
          130000,
          196500,
          124900,
          158000,
          202500,
          317000,
          226000,
          80000,
          129500,
          135750,
          126500,
          123600,
          204750,
          214000,
          94750,
          205000,
          178000,
          198900,
          136900,
          180000,
          155000,
          163990,
          153900,
          181000,
          87000,
          155000,
          226000,
          244000,
          150750,
          220000,
          174000,
          143000,
          230000,
          231500,
          115000,
          260000,
          166000,
          204000,
          105000,
          222500,
          141000,
          115000,
          190000,
          269500,
          254900,
          162500,
          220000,
          103200,
          325624,
          183500,
          173000,
          192000,
          127000,
          140000,
          149000,
          110000,
          143900,
          145000,
          186000,
          252678,
          210000,
          167240,
          204900,
          200000,
          290000,
          125000,
          192500,
          216500,
          185500,
          113000,
          262500,
          205000,
          140000,
          180000,
          173000,
          145000,
          230000,
          207500,
          220000,
          276000,
          151000,
          73000,
          185000,
          148000,
          290000,
          124500,
          192000,
          185000,
          207500,
          244600,
          88000,
          122000,
          167000,
          142500,
          152000,
          267000,
          149900,
          305900,
          89500,
          82500,
          165600,
          132000,
          188500,
          187500,
          324000,
          145250,
          139000,
          207000,
          192000,
          214000,
          202900,
          140200,
          157500,
          173000,
          145000,
          132000,
          172400,
          219500,
          148000,
          179000,
          187750,
          213500,
          125000,
          191000,
          100000,
          109000,
          129000,
          123000,
          169500,
          241000,
          164990,
          168000,
          150000,
          339750,
          181134,
          149500,
          126000,
          139000,
          109008,
          195400,
          79900,
          181000,
          162900,
          172500,
          210000,
          127500,
          199900,
          119500,
          204000,
          210000,
          175500,
          161000,
          263435,
          188700,
          124000,
          178740,
          146500,
          250000,
          187000,
          251000,
          208900,
          297000,
          164000,
          132500,
          156000,
          172785,
          184000,
          130000,
          226700,
          215000,
          208300,
          124500,
          202665,
          158000,
          211000,
          150000,
          176000,
          175000,
          178000,
          188000,
          111250,
          248000,
          179665,
          129500,
          112500,
          284000,
          234000,
          108000,
          268000,
          214000,
          135960,
          120000,
          224500,
          170000,
          131500,
          118500,
          137000,
          185900,
          140000,
          110000,
          114504,
          275000,
          220000,
          221000,
          152000,
          313000,
          261500,
          147000,
          137500,
          183200,
          105500,
          305000,
          135000,
          209500,
          82500,
          264561,
          205950,
          108000,
          191000,
          145500,
          167000,
          230500,
          193500,
          168000,
          173500,
          103600,
          165000,
          128500,
          173000,
          285000,
          221000,
          227875,
          194700,
          141000,
          141500,
          196000,
          140000,
          254000,
          179540,
          109900,
          52000,
          189000,
          165000,
          128500,
          143000,
          124500,
          320000,
          194500,
          236500,
          222500,
          108000,
          239900,
          190000,
          179000,
          236000,
          96500,
          162000,
          217000,
          275500,
          212000,
          158900,
          100000,
          215200,
          134900,
          102000,
          114500,
          221500,
          142500,
          135000,
          176000,
          175900,
          187100,
          165500,
          233000,
          107900,
          160200,
          146800,
          269790,
          225000,
          143500,
          110000,
          109900,
          189000,
          118000,
          227680,
          144500,
          271000,
          155000,
          224000,
          183000,
          225000,
          139500,
          232600,
          189000,
          237000,
          139950,
          128000,
          144000,
          130500,
          171000,
          133500,
          187000,
          131500,
          215000,
          158000,
          174000,
          152000,
          152000,
          132500,
          250580,
          148500,
          248900,
          236000,
          109500,
          200500,
          66500,
          157000,
          187500,
          178000,
          100000,
          328900,
          140000,
          106500,
          135000,
          110000,
          153000,
          180000,
          240000,
          125500,
          143500,
          135000,
          285000,
          176000,
          222000,
          201000,
          190000,
          184900,
          253000,
          239799,
          192500,
          197500,
          132000,
          185000,
          116500,
          214900,
          178900,
          135000,
          37900,
          135000,
          99500,
          182000,
          85500,
          199900,
          110000,
          139000,
          159895,
          255900,
          197000,
          173900,
          337500,
          206000,
          232000,
          181000,
          119200,
          227000,
          203000,
          187500,
          160000,
          213490,
          176000,
          194000,
          191000,
          293077,
          230000,
          119750,
          315500,
          196000,
          262280,
          176485,
          200141,
          144500,
          255000,
          185850,
          335000,
          110500,
          328000,
          178000,
          154000,
          159500,
          194000,
          219500,
          155900,
          126000,
          192000,
          187500,
          147000,
          197000,
          176432,
          128000,
          157000,
          60000,
          135000,
          325000,
          181000,
          188000,
          129900,
          134500,
          117000,
          318000,
          184100,
          130000,
          212900,
          163900,
          115000,
          174000,
          215000,
          140000,
          93500,
          239500,
          169000,
          102000,
          196000,
          139000,
          149000,
          180000,
          174500,
          230000,
          235128,
          185000,
          129000,
          233170,
          173000,
          119500,
          250000,
          120000,
          195000,
          189000,
          158000,
          176000,
          219210,
          178000,
          148000,
          116050,
          197900,
          153500,
          107000,
          200000,
          113000,
          134500,
          229456,
          143000,
          184000,
          214000,
          127000,
          132500,
          142000,
          138887,
          195000,
          142500,
          265900,
          224900,
          230000,
          186500,
          169900,
          171750,
          165400,
          190000,
          128900,
          181000,
          144000,
          185750,
          227000,
          132500,
          278000,
          180500,
          115000,
          138500,
          225000,
          290000,
          232000,
          325000,
          202500,
          138000,
          179200,
          203000,
          119000,
          295493,
          111000,
          190000,
          82500,
          176500,
          227000,
          132500,
          100000,
          200000,
          155000,
          228500,
          177000,
          155835,
          283463,
          215000,
          170000,
          110000,
          149900,
          104900,
          156932,
          216000,
          193000,
          144000,
          274300,
          239000,
          91000,
          167500,
          237500,
          105000,
          235000,
          123000,
          246578,
          281213,
          137450,
          193000,
          193879,
          282922,
          133000,
          112000,
          230000,
          257000,
          136500,
          142000,
          140000,
          143750,
          64500,
          186500,
          160000,
          120500,
          149300,
          310000,
          179600,
          112000,
          287090,
          84500,
          185000,
          175000
         ],
         "yaxis": "y"
        }
       ],
       "layout": {
        "legend": {
         "tracegroupgap": 0
        },
        "template": {
         "data": {
          "bar": [
           {
            "error_x": {
             "color": "#f2f5fa"
            },
            "error_y": {
             "color": "#f2f5fa"
            },
            "marker": {
             "line": {
              "color": "rgb(17,17,17)",
              "width": 0.5
             },
             "pattern": {
              "fillmode": "overlay",
              "size": 10,
              "solidity": 0.2
             }
            },
            "type": "bar"
           }
          ],
          "barpolar": [
           {
            "marker": {
             "line": {
              "color": "rgb(17,17,17)",
              "width": 0.5
             },
             "pattern": {
              "fillmode": "overlay",
              "size": 10,
              "solidity": 0.2
             }
            },
            "type": "barpolar"
           }
          ],
          "carpet": [
           {
            "aaxis": {
             "endlinecolor": "#A2B1C6",
             "gridcolor": "#506784",
             "linecolor": "#506784",
             "minorgridcolor": "#506784",
             "startlinecolor": "#A2B1C6"
            },
            "baxis": {
             "endlinecolor": "#A2B1C6",
             "gridcolor": "#506784",
             "linecolor": "#506784",
             "minorgridcolor": "#506784",
             "startlinecolor": "#A2B1C6"
            },
            "type": "carpet"
           }
          ],
          "choropleth": [
           {
            "colorbar": {
             "outlinewidth": 0,
             "ticks": ""
            },
            "type": "choropleth"
           }
          ],
          "contour": [
           {
            "colorbar": {
             "outlinewidth": 0,
             "ticks": ""
            },
            "colorscale": [
             [
              0,
              "#0d0887"
             ],
             [
              0.1111111111111111,
              "#46039f"
             ],
             [
              0.2222222222222222,
              "#7201a8"
             ],
             [
              0.3333333333333333,
              "#9c179e"
             ],
             [
              0.4444444444444444,
              "#bd3786"
             ],
             [
              0.5555555555555556,
              "#d8576b"
             ],
             [
              0.6666666666666666,
              "#ed7953"
             ],
             [
              0.7777777777777778,
              "#fb9f3a"
             ],
             [
              0.8888888888888888,
              "#fdca26"
             ],
             [
              1,
              "#f0f921"
             ]
            ],
            "type": "contour"
           }
          ],
          "contourcarpet": [
           {
            "colorbar": {
             "outlinewidth": 0,
             "ticks": ""
            },
            "type": "contourcarpet"
           }
          ],
          "heatmap": [
           {
            "colorbar": {
             "outlinewidth": 0,
             "ticks": ""
            },
            "colorscale": [
             [
              0,
              "#0d0887"
             ],
             [
              0.1111111111111111,
              "#46039f"
             ],
             [
              0.2222222222222222,
              "#7201a8"
             ],
             [
              0.3333333333333333,
              "#9c179e"
             ],
             [
              0.4444444444444444,
              "#bd3786"
             ],
             [
              0.5555555555555556,
              "#d8576b"
             ],
             [
              0.6666666666666666,
              "#ed7953"
             ],
             [
              0.7777777777777778,
              "#fb9f3a"
             ],
             [
              0.8888888888888888,
              "#fdca26"
             ],
             [
              1,
              "#f0f921"
             ]
            ],
            "type": "heatmap"
           }
          ],
          "heatmapgl": [
           {
            "colorbar": {
             "outlinewidth": 0,
             "ticks": ""
            },
            "colorscale": [
             [
              0,
              "#0d0887"
             ],
             [
              0.1111111111111111,
              "#46039f"
             ],
             [
              0.2222222222222222,
              "#7201a8"
             ],
             [
              0.3333333333333333,
              "#9c179e"
             ],
             [
              0.4444444444444444,
              "#bd3786"
             ],
             [
              0.5555555555555556,
              "#d8576b"
             ],
             [
              0.6666666666666666,
              "#ed7953"
             ],
             [
              0.7777777777777778,
              "#fb9f3a"
             ],
             [
              0.8888888888888888,
              "#fdca26"
             ],
             [
              1,
              "#f0f921"
             ]
            ],
            "type": "heatmapgl"
           }
          ],
          "histogram": [
           {
            "marker": {
             "pattern": {
              "fillmode": "overlay",
              "size": 10,
              "solidity": 0.2
             }
            },
            "type": "histogram"
           }
          ],
          "histogram2d": [
           {
            "colorbar": {
             "outlinewidth": 0,
             "ticks": ""
            },
            "colorscale": [
             [
              0,
              "#0d0887"
             ],
             [
              0.1111111111111111,
              "#46039f"
             ],
             [
              0.2222222222222222,
              "#7201a8"
             ],
             [
              0.3333333333333333,
              "#9c179e"
             ],
             [
              0.4444444444444444,
              "#bd3786"
             ],
             [
              0.5555555555555556,
              "#d8576b"
             ],
             [
              0.6666666666666666,
              "#ed7953"
             ],
             [
              0.7777777777777778,
              "#fb9f3a"
             ],
             [
              0.8888888888888888,
              "#fdca26"
             ],
             [
              1,
              "#f0f921"
             ]
            ],
            "type": "histogram2d"
           }
          ],
          "histogram2dcontour": [
           {
            "colorbar": {
             "outlinewidth": 0,
             "ticks": ""
            },
            "colorscale": [
             [
              0,
              "#0d0887"
             ],
             [
              0.1111111111111111,
              "#46039f"
             ],
             [
              0.2222222222222222,
              "#7201a8"
             ],
             [
              0.3333333333333333,
              "#9c179e"
             ],
             [
              0.4444444444444444,
              "#bd3786"
             ],
             [
              0.5555555555555556,
              "#d8576b"
             ],
             [
              0.6666666666666666,
              "#ed7953"
             ],
             [
              0.7777777777777778,
              "#fb9f3a"
             ],
             [
              0.8888888888888888,
              "#fdca26"
             ],
             [
              1,
              "#f0f921"
             ]
            ],
            "type": "histogram2dcontour"
           }
          ],
          "mesh3d": [
           {
            "colorbar": {
             "outlinewidth": 0,
             "ticks": ""
            },
            "type": "mesh3d"
           }
          ],
          "parcoords": [
           {
            "line": {
             "colorbar": {
              "outlinewidth": 0,
              "ticks": ""
             }
            },
            "type": "parcoords"
           }
          ],
          "pie": [
           {
            "automargin": true,
            "type": "pie"
           }
          ],
          "scatter": [
           {
            "marker": {
             "line": {
              "color": "#283442"
             }
            },
            "type": "scatter"
           }
          ],
          "scatter3d": [
           {
            "line": {
             "colorbar": {
              "outlinewidth": 0,
              "ticks": ""
             }
            },
            "marker": {
             "colorbar": {
              "outlinewidth": 0,
              "ticks": ""
             }
            },
            "type": "scatter3d"
           }
          ],
          "scattercarpet": [
           {
            "marker": {
             "colorbar": {
              "outlinewidth": 0,
              "ticks": ""
             }
            },
            "type": "scattercarpet"
           }
          ],
          "scattergeo": [
           {
            "marker": {
             "colorbar": {
              "outlinewidth": 0,
              "ticks": ""
             }
            },
            "type": "scattergeo"
           }
          ],
          "scattergl": [
           {
            "marker": {
             "line": {
              "color": "#283442"
             }
            },
            "type": "scattergl"
           }
          ],
          "scattermapbox": [
           {
            "marker": {
             "colorbar": {
              "outlinewidth": 0,
              "ticks": ""
             }
            },
            "type": "scattermapbox"
           }
          ],
          "scatterpolar": [
           {
            "marker": {
             "colorbar": {
              "outlinewidth": 0,
              "ticks": ""
             }
            },
            "type": "scatterpolar"
           }
          ],
          "scatterpolargl": [
           {
            "marker": {
             "colorbar": {
              "outlinewidth": 0,
              "ticks": ""
             }
            },
            "type": "scatterpolargl"
           }
          ],
          "scatterternary": [
           {
            "marker": {
             "colorbar": {
              "outlinewidth": 0,
              "ticks": ""
             }
            },
            "type": "scatterternary"
           }
          ],
          "surface": [
           {
            "colorbar": {
             "outlinewidth": 0,
             "ticks": ""
            },
            "colorscale": [
             [
              0,
              "#0d0887"
             ],
             [
              0.1111111111111111,
              "#46039f"
             ],
             [
              0.2222222222222222,
              "#7201a8"
             ],
             [
              0.3333333333333333,
              "#9c179e"
             ],
             [
              0.4444444444444444,
              "#bd3786"
             ],
             [
              0.5555555555555556,
              "#d8576b"
             ],
             [
              0.6666666666666666,
              "#ed7953"
             ],
             [
              0.7777777777777778,
              "#fb9f3a"
             ],
             [
              0.8888888888888888,
              "#fdca26"
             ],
             [
              1,
              "#f0f921"
             ]
            ],
            "type": "surface"
           }
          ],
          "table": [
           {
            "cells": {
             "fill": {
              "color": "#506784"
             },
             "line": {
              "color": "rgb(17,17,17)"
             }
            },
            "header": {
             "fill": {
              "color": "#2a3f5f"
             },
             "line": {
              "color": "rgb(17,17,17)"
             }
            },
            "type": "table"
           }
          ]
         },
         "layout": {
          "annotationdefaults": {
           "arrowcolor": "#f2f5fa",
           "arrowhead": 0,
           "arrowwidth": 1
          },
          "autotypenumbers": "strict",
          "coloraxis": {
           "colorbar": {
            "outlinewidth": 0,
            "ticks": ""
           }
          },
          "colorscale": {
           "diverging": [
            [
             0,
             "#8e0152"
            ],
            [
             0.1,
             "#c51b7d"
            ],
            [
             0.2,
             "#de77ae"
            ],
            [
             0.3,
             "#f1b6da"
            ],
            [
             0.4,
             "#fde0ef"
            ],
            [
             0.5,
             "#f7f7f7"
            ],
            [
             0.6,
             "#e6f5d0"
            ],
            [
             0.7,
             "#b8e186"
            ],
            [
             0.8,
             "#7fbc41"
            ],
            [
             0.9,
             "#4d9221"
            ],
            [
             1,
             "#276419"
            ]
           ],
           "sequential": [
            [
             0,
             "#0d0887"
            ],
            [
             0.1111111111111111,
             "#46039f"
            ],
            [
             0.2222222222222222,
             "#7201a8"
            ],
            [
             0.3333333333333333,
             "#9c179e"
            ],
            [
             0.4444444444444444,
             "#bd3786"
            ],
            [
             0.5555555555555556,
             "#d8576b"
            ],
            [
             0.6666666666666666,
             "#ed7953"
            ],
            [
             0.7777777777777778,
             "#fb9f3a"
            ],
            [
             0.8888888888888888,
             "#fdca26"
            ],
            [
             1,
             "#f0f921"
            ]
           ],
           "sequentialminus": [
            [
             0,
             "#0d0887"
            ],
            [
             0.1111111111111111,
             "#46039f"
            ],
            [
             0.2222222222222222,
             "#7201a8"
            ],
            [
             0.3333333333333333,
             "#9c179e"
            ],
            [
             0.4444444444444444,
             "#bd3786"
            ],
            [
             0.5555555555555556,
             "#d8576b"
            ],
            [
             0.6666666666666666,
             "#ed7953"
            ],
            [
             0.7777777777777778,
             "#fb9f3a"
            ],
            [
             0.8888888888888888,
             "#fdca26"
            ],
            [
             1,
             "#f0f921"
            ]
           ]
          },
          "colorway": [
           "#636efa",
           "#EF553B",
           "#00cc96",
           "#ab63fa",
           "#FFA15A",
           "#19d3f3",
           "#FF6692",
           "#B6E880",
           "#FF97FF",
           "#FECB52"
          ],
          "font": {
           "color": "#f2f5fa"
          },
          "geo": {
           "bgcolor": "rgb(17,17,17)",
           "lakecolor": "rgb(17,17,17)",
           "landcolor": "rgb(17,17,17)",
           "showlakes": true,
           "showland": true,
           "subunitcolor": "#506784"
          },
          "hoverlabel": {
           "align": "left"
          },
          "hovermode": "closest",
          "mapbox": {
           "style": "dark"
          },
          "paper_bgcolor": "rgb(17,17,17)",
          "plot_bgcolor": "rgb(17,17,17)",
          "polar": {
           "angularaxis": {
            "gridcolor": "#506784",
            "linecolor": "#506784",
            "ticks": ""
           },
           "bgcolor": "rgb(17,17,17)",
           "radialaxis": {
            "gridcolor": "#506784",
            "linecolor": "#506784",
            "ticks": ""
           }
          },
          "scene": {
           "xaxis": {
            "backgroundcolor": "rgb(17,17,17)",
            "gridcolor": "#506784",
            "gridwidth": 2,
            "linecolor": "#506784",
            "showbackground": true,
            "ticks": "",
            "zerolinecolor": "#C8D4E3"
           },
           "yaxis": {
            "backgroundcolor": "rgb(17,17,17)",
            "gridcolor": "#506784",
            "gridwidth": 2,
            "linecolor": "#506784",
            "showbackground": true,
            "ticks": "",
            "zerolinecolor": "#C8D4E3"
           },
           "zaxis": {
            "backgroundcolor": "rgb(17,17,17)",
            "gridcolor": "#506784",
            "gridwidth": 2,
            "linecolor": "#506784",
            "showbackground": true,
            "ticks": "",
            "zerolinecolor": "#C8D4E3"
           }
          },
          "shapedefaults": {
           "line": {
            "color": "#f2f5fa"
           }
          },
          "sliderdefaults": {
           "bgcolor": "#C8D4E3",
           "bordercolor": "rgb(17,17,17)",
           "borderwidth": 1,
           "tickwidth": 0
          },
          "ternary": {
           "aaxis": {
            "gridcolor": "#506784",
            "linecolor": "#506784",
            "ticks": ""
           },
           "baxis": {
            "gridcolor": "#506784",
            "linecolor": "#506784",
            "ticks": ""
           },
           "bgcolor": "rgb(17,17,17)",
           "caxis": {
            "gridcolor": "#506784",
            "linecolor": "#506784",
            "ticks": ""
           }
          },
          "title": {
           "x": 0.05
          },
          "updatemenudefaults": {
           "bgcolor": "#506784",
           "borderwidth": 0
          },
          "xaxis": {
           "automargin": true,
           "gridcolor": "#283442",
           "linecolor": "#506784",
           "ticks": "",
           "title": {
            "standoff": 15
           },
           "zerolinecolor": "#283442",
           "zerolinewidth": 2
          },
          "yaxis": {
           "automargin": true,
           "gridcolor": "#283442",
           "linecolor": "#506784",
           "ticks": "",
           "title": {
            "standoff": 15
           },
           "zerolinecolor": "#283442",
           "zerolinewidth": 2
          }
         }
        },
        "title": {
         "font": {
          "size": 20
         },
         "text": "LotArea vs. SalePrice (REMOVED OUTLIERS)"
        },
        "xaxis": {
         "anchor": "y",
         "domain": [
          0,
          1
         ],
         "title": {
          "text": "LotArea"
         }
        },
        "yaxis": {
         "anchor": "x",
         "domain": [
          0,
          1
         ],
         "title": {
          "text": "SalePrice"
         }
        }
       }
      }
     },
     "metadata": {},
     "output_type": "display_data"
    }
   ],
   "source": [
    "import plotly.express as px\n",
    "\n",
    "# Scatter plot between LotArea and SalePrice\n",
    "fig = px.scatter(train_data, x=\"LotArea\", y=\"SalePrice\", title=\"LotArea vs. SalePrice\")\n",
    "\n",
    "# Customize the layout for better visual appeal\n",
    "fig.update_layout(template=\"plotly_dark\")\n",
    "fig.update_layout(title_font_size=20)\n",
    "fig.update_layout(xaxis_title=\"LotArea\", yaxis_title=\"SalePrice\")\n",
    "\n",
    "# Display the plot\n",
    "fig.show()\n",
    "# Scatter plot between LotArea and SalePrice\n",
    "fig = px.scatter(train_data_no_outliers, x=\"LotArea\", y=\"SalePrice\", title=\"LotArea vs. SalePrice (REMOVED OUTLIERS)\")\n",
    "\n",
    "# Customize the layout for better visual appeal\n",
    "fig.update_layout(template=\"plotly_dark\")\n",
    "fig.update_layout(title_font_size=20)\n",
    "fig.update_layout(xaxis_title=\"LotArea\", yaxis_title=\"SalePrice\")\n",
    "\n",
    "# Display the plot\n",
    "fig.show()\n"
   ]
  },
  {
   "cell_type": "markdown",
   "metadata": {},
   "source": [
    "Dropped data set allows us to focus on the majority of cases."
   ]
  },
  {
   "cell_type": "code",
   "execution_count": 34,
   "metadata": {},
   "outputs": [
    {
     "data": {
      "application/vnd.plotly.v1+json": {
       "config": {
        "plotlyServerURL": "https://plot.ly"
       },
       "data": [
        {
         "hovertemplate": "OverallQual=%{x}<br>SalePrice=%{y}<extra></extra>",
         "legendgroup": "",
         "marker": {
          "color": "#636efa",
          "symbol": "circle"
         },
         "mode": "markers",
         "name": "",
         "orientation": "v",
         "showlegend": false,
         "type": "scatter",
         "x": [
          7,
          7,
          8,
          8,
          5,
          7,
          5,
          5,
          8,
          5,
          8,
          5,
          8,
          9,
          8,
          5,
          6,
          9,
          8,
          5,
          5,
          7,
          5,
          6,
          8,
          8,
          7,
          4,
          4,
          4,
          5,
          4,
          6,
          7,
          4,
          6,
          6,
          7,
          6,
          7,
          5,
          6,
          6,
          6,
          5,
          6,
          7,
          6,
          5,
          8,
          7,
          5,
          8,
          6,
          4,
          7,
          5,
          7,
          5,
          7,
          7,
          5,
          6,
          8,
          7,
          6,
          7,
          4,
          8,
          7,
          7,
          7,
          5,
          4,
          6,
          5,
          5,
          6,
          6,
          7,
          7,
          7,
          7,
          6,
          7,
          5,
          7,
          6,
          7,
          6,
          8,
          7,
          6,
          7,
          6,
          5,
          7,
          6,
          7,
          8,
          6,
          5,
          6,
          6,
          8,
          5,
          7,
          6,
          7,
          8,
          4,
          5,
          6,
          6,
          5,
          8,
          5,
          8,
          6,
          4,
          6,
          6,
          7,
          7,
          8,
          6,
          5,
          7,
          6,
          7,
          8,
          6,
          6,
          6,
          5,
          5,
          6,
          7,
          5,
          6,
          7,
          7,
          6,
          7,
          4,
          5,
          5,
          5,
          5,
          7,
          7,
          6,
          4,
          8,
          7,
          6,
          5,
          6,
          4,
          7,
          6,
          6,
          5,
          7,
          7,
          6,
          7,
          6,
          6,
          8,
          7,
          8,
          8,
          6,
          5,
          7,
          5,
          8,
          6,
          8,
          6,
          8,
          6,
          5,
          5,
          6,
          7,
          5,
          7,
          8,
          6,
          5,
          7,
          6,
          6,
          6,
          7,
          6,
          8,
          7,
          4,
          8,
          7,
          5,
          5,
          7,
          7,
          5,
          7,
          7,
          5,
          6,
          7,
          7,
          5,
          6,
          5,
          7,
          6,
          5,
          6,
          8,
          8,
          7,
          5,
          9,
          8,
          5,
          6,
          6,
          6,
          8,
          5,
          8,
          7,
          8,
          7,
          4,
          7,
          5,
          5,
          8,
          6,
          5,
          6,
          6,
          6,
          5,
          6,
          9,
          7,
          7,
          6,
          6,
          5,
          7,
          7,
          8,
          7,
          5,
          3,
          8,
          6,
          5,
          6,
          4,
          9,
          7,
          8,
          7,
          5,
          8,
          7,
          7,
          7,
          4,
          7,
          6,
          8,
          8,
          6,
          5,
          7,
          5,
          4,
          5,
          7,
          5,
          6,
          7,
          6,
          7,
          5,
          7,
          4,
          7,
          6,
          7,
          8,
          6,
          5,
          4,
          7,
          5,
          7,
          6,
          8,
          6,
          7,
          7,
          7,
          6,
          8,
          7,
          7,
          5,
          4,
          5,
          5,
          5,
          5,
          6,
          6,
          8,
          6,
          6,
          7,
          6,
          5,
          7,
          5,
          8,
          7,
          5,
          6,
          5,
          5,
          7,
          6,
          5,
          9,
          6,
          4,
          5,
          4,
          5,
          7,
          7,
          5,
          5,
          4,
          8,
          7,
          7,
          8,
          7,
          7,
          7,
          7,
          7,
          6,
          5,
          7,
          5,
          7,
          6,
          5,
          3,
          4,
          6,
          7,
          4,
          7,
          4,
          5,
          7,
          8,
          7,
          6,
          10,
          7,
          8,
          7,
          6,
          8,
          7,
          8,
          7,
          7,
          4,
          7,
          7,
          8,
          7,
          5,
          9,
          6,
          7,
          7,
          7,
          5,
          8,
          7,
          9,
          6,
          7,
          6,
          6,
          6,
          7,
          7,
          6,
          5,
          7,
          6,
          6,
          8,
          6,
          4,
          7,
          2,
          5,
          8,
          6,
          6,
          5,
          5,
          5,
          8,
          8,
          5,
          7,
          7,
          4,
          7,
          7,
          5,
          5,
          8,
          6,
          6,
          6,
          5,
          5,
          6,
          7,
          7,
          8,
          6,
          5,
          7,
          6,
          5,
          7,
          5,
          7,
          7,
          6,
          6,
          7,
          7,
          4,
          4,
          7,
          5,
          4,
          6,
          4,
          5,
          8,
          6,
          7,
          6,
          5,
          5,
          5,
          5,
          7,
          6,
          8,
          7,
          8,
          7,
          6,
          7,
          7,
          7,
          5,
          6,
          5,
          6,
          7,
          6,
          8,
          5,
          5,
          5,
          7,
          8,
          7,
          9,
          7,
          5,
          6,
          7,
          4,
          8,
          4,
          7,
          4,
          7,
          8,
          5,
          4,
          7,
          6,
          8,
          6,
          7,
          8,
          7,
          7,
          5,
          5,
          4,
          6,
          7,
          7,
          6,
          7,
          8,
          6,
          5,
          6,
          6,
          7,
          5,
          7,
          8,
          6,
          6,
          7,
          8,
          5,
          5,
          7,
          8,
          6,
          6,
          5,
          6,
          4,
          6,
          5,
          4,
          6,
          10,
          7,
          4,
          8,
          5,
          7,
          6
         ],
         "xaxis": "x",
         "y": [
          208500,
          223500,
          250000,
          307000,
          129500,
          279500,
          159000,
          139000,
          325300,
          129900,
          306000,
          149350,
          179900,
          277500,
          309000,
          109000,
          160000,
          319900,
          249700,
          127000,
          130000,
          196500,
          124900,
          158000,
          202500,
          317000,
          226000,
          80000,
          129500,
          135750,
          126500,
          123600,
          204750,
          214000,
          94750,
          205000,
          178000,
          198900,
          136900,
          180000,
          155000,
          163990,
          153900,
          181000,
          87000,
          155000,
          226000,
          244000,
          150750,
          220000,
          174000,
          143000,
          230000,
          231500,
          115000,
          260000,
          166000,
          204000,
          105000,
          222500,
          141000,
          115000,
          190000,
          269500,
          254900,
          162500,
          220000,
          103200,
          325624,
          183500,
          173000,
          192000,
          127000,
          140000,
          149000,
          110000,
          143900,
          145000,
          186000,
          252678,
          210000,
          167240,
          204900,
          200000,
          290000,
          125000,
          192500,
          216500,
          185500,
          113000,
          262500,
          205000,
          140000,
          180000,
          173000,
          145000,
          230000,
          207500,
          220000,
          276000,
          151000,
          73000,
          185000,
          148000,
          290000,
          124500,
          192000,
          185000,
          207500,
          244600,
          88000,
          122000,
          167000,
          142500,
          152000,
          267000,
          149900,
          305900,
          89500,
          82500,
          165600,
          132000,
          188500,
          187500,
          324000,
          145250,
          139000,
          207000,
          192000,
          214000,
          202900,
          140200,
          157500,
          173000,
          145000,
          132000,
          172400,
          219500,
          148000,
          179000,
          187750,
          213500,
          125000,
          191000,
          100000,
          109000,
          129000,
          123000,
          169500,
          241000,
          164990,
          168000,
          150000,
          339750,
          181134,
          149500,
          126000,
          139000,
          109008,
          195400,
          79900,
          181000,
          162900,
          172500,
          210000,
          127500,
          199900,
          119500,
          204000,
          210000,
          175500,
          161000,
          263435,
          188700,
          124000,
          178740,
          146500,
          250000,
          187000,
          251000,
          208900,
          297000,
          164000,
          132500,
          156000,
          172785,
          184000,
          130000,
          226700,
          215000,
          208300,
          124500,
          202665,
          158000,
          211000,
          150000,
          176000,
          175000,
          178000,
          188000,
          111250,
          248000,
          179665,
          129500,
          112500,
          284000,
          234000,
          108000,
          268000,
          214000,
          135960,
          120000,
          224500,
          170000,
          131500,
          118500,
          137000,
          185900,
          140000,
          110000,
          114504,
          275000,
          220000,
          221000,
          152000,
          313000,
          261500,
          147000,
          137500,
          183200,
          105500,
          305000,
          135000,
          209500,
          82500,
          264561,
          205950,
          108000,
          191000,
          145500,
          167000,
          230500,
          193500,
          168000,
          173500,
          103600,
          165000,
          128500,
          173000,
          285000,
          221000,
          227875,
          194700,
          141000,
          141500,
          196000,
          140000,
          254000,
          179540,
          109900,
          52000,
          189000,
          165000,
          128500,
          143000,
          124500,
          320000,
          194500,
          236500,
          222500,
          108000,
          239900,
          190000,
          179000,
          236000,
          96500,
          162000,
          217000,
          275500,
          212000,
          158900,
          100000,
          215200,
          134900,
          102000,
          114500,
          221500,
          142500,
          135000,
          176000,
          175900,
          187100,
          165500,
          233000,
          107900,
          160200,
          146800,
          269790,
          225000,
          143500,
          110000,
          109900,
          189000,
          118000,
          227680,
          144500,
          271000,
          155000,
          224000,
          183000,
          225000,
          139500,
          232600,
          189000,
          237000,
          139950,
          128000,
          144000,
          130500,
          171000,
          133500,
          187000,
          131500,
          215000,
          158000,
          174000,
          152000,
          152000,
          132500,
          250580,
          148500,
          248900,
          236000,
          109500,
          200500,
          66500,
          157000,
          187500,
          178000,
          100000,
          328900,
          140000,
          106500,
          135000,
          110000,
          153000,
          180000,
          240000,
          125500,
          143500,
          135000,
          285000,
          176000,
          222000,
          201000,
          190000,
          184900,
          253000,
          239799,
          192500,
          197500,
          132000,
          185000,
          116500,
          214900,
          178900,
          135000,
          37900,
          135000,
          99500,
          182000,
          85500,
          199900,
          110000,
          139000,
          159895,
          255900,
          197000,
          173900,
          337500,
          206000,
          232000,
          181000,
          119200,
          227000,
          203000,
          187500,
          160000,
          213490,
          176000,
          194000,
          191000,
          293077,
          230000,
          119750,
          315500,
          196000,
          262280,
          176485,
          200141,
          144500,
          255000,
          185850,
          335000,
          110500,
          328000,
          178000,
          154000,
          159500,
          194000,
          219500,
          155900,
          126000,
          192000,
          187500,
          147000,
          197000,
          176432,
          128000,
          157000,
          60000,
          135000,
          325000,
          181000,
          188000,
          129900,
          134500,
          117000,
          318000,
          184100,
          130000,
          212900,
          163900,
          115000,
          174000,
          215000,
          140000,
          93500,
          239500,
          169000,
          102000,
          196000,
          139000,
          149000,
          180000,
          174500,
          230000,
          235128,
          185000,
          129000,
          233170,
          173000,
          119500,
          250000,
          120000,
          195000,
          189000,
          158000,
          176000,
          219210,
          178000,
          148000,
          116050,
          197900,
          153500,
          107000,
          200000,
          113000,
          134500,
          229456,
          143000,
          184000,
          214000,
          127000,
          132500,
          142000,
          138887,
          195000,
          142500,
          265900,
          224900,
          230000,
          186500,
          169900,
          171750,
          165400,
          190000,
          128900,
          181000,
          144000,
          185750,
          227000,
          132500,
          278000,
          180500,
          115000,
          138500,
          225000,
          290000,
          232000,
          325000,
          202500,
          138000,
          179200,
          203000,
          119000,
          295493,
          111000,
          190000,
          82500,
          176500,
          227000,
          132500,
          100000,
          200000,
          155000,
          228500,
          177000,
          155835,
          283463,
          215000,
          170000,
          110000,
          149900,
          104900,
          156932,
          216000,
          193000,
          144000,
          274300,
          239000,
          91000,
          167500,
          237500,
          105000,
          235000,
          123000,
          246578,
          281213,
          137450,
          193000,
          193879,
          282922,
          133000,
          112000,
          230000,
          257000,
          136500,
          142000,
          140000,
          143750,
          64500,
          186500,
          160000,
          120500,
          149300,
          310000,
          179600,
          112000,
          287090,
          84500,
          185000,
          175000
         ],
         "yaxis": "y"
        }
       ],
       "layout": {
        "legend": {
         "tracegroupgap": 0
        },
        "template": {
         "data": {
          "bar": [
           {
            "error_x": {
             "color": "#f2f5fa"
            },
            "error_y": {
             "color": "#f2f5fa"
            },
            "marker": {
             "line": {
              "color": "rgb(17,17,17)",
              "width": 0.5
             },
             "pattern": {
              "fillmode": "overlay",
              "size": 10,
              "solidity": 0.2
             }
            },
            "type": "bar"
           }
          ],
          "barpolar": [
           {
            "marker": {
             "line": {
              "color": "rgb(17,17,17)",
              "width": 0.5
             },
             "pattern": {
              "fillmode": "overlay",
              "size": 10,
              "solidity": 0.2
             }
            },
            "type": "barpolar"
           }
          ],
          "carpet": [
           {
            "aaxis": {
             "endlinecolor": "#A2B1C6",
             "gridcolor": "#506784",
             "linecolor": "#506784",
             "minorgridcolor": "#506784",
             "startlinecolor": "#A2B1C6"
            },
            "baxis": {
             "endlinecolor": "#A2B1C6",
             "gridcolor": "#506784",
             "linecolor": "#506784",
             "minorgridcolor": "#506784",
             "startlinecolor": "#A2B1C6"
            },
            "type": "carpet"
           }
          ],
          "choropleth": [
           {
            "colorbar": {
             "outlinewidth": 0,
             "ticks": ""
            },
            "type": "choropleth"
           }
          ],
          "contour": [
           {
            "colorbar": {
             "outlinewidth": 0,
             "ticks": ""
            },
            "colorscale": [
             [
              0,
              "#0d0887"
             ],
             [
              0.1111111111111111,
              "#46039f"
             ],
             [
              0.2222222222222222,
              "#7201a8"
             ],
             [
              0.3333333333333333,
              "#9c179e"
             ],
             [
              0.4444444444444444,
              "#bd3786"
             ],
             [
              0.5555555555555556,
              "#d8576b"
             ],
             [
              0.6666666666666666,
              "#ed7953"
             ],
             [
              0.7777777777777778,
              "#fb9f3a"
             ],
             [
              0.8888888888888888,
              "#fdca26"
             ],
             [
              1,
              "#f0f921"
             ]
            ],
            "type": "contour"
           }
          ],
          "contourcarpet": [
           {
            "colorbar": {
             "outlinewidth": 0,
             "ticks": ""
            },
            "type": "contourcarpet"
           }
          ],
          "heatmap": [
           {
            "colorbar": {
             "outlinewidth": 0,
             "ticks": ""
            },
            "colorscale": [
             [
              0,
              "#0d0887"
             ],
             [
              0.1111111111111111,
              "#46039f"
             ],
             [
              0.2222222222222222,
              "#7201a8"
             ],
             [
              0.3333333333333333,
              "#9c179e"
             ],
             [
              0.4444444444444444,
              "#bd3786"
             ],
             [
              0.5555555555555556,
              "#d8576b"
             ],
             [
              0.6666666666666666,
              "#ed7953"
             ],
             [
              0.7777777777777778,
              "#fb9f3a"
             ],
             [
              0.8888888888888888,
              "#fdca26"
             ],
             [
              1,
              "#f0f921"
             ]
            ],
            "type": "heatmap"
           }
          ],
          "heatmapgl": [
           {
            "colorbar": {
             "outlinewidth": 0,
             "ticks": ""
            },
            "colorscale": [
             [
              0,
              "#0d0887"
             ],
             [
              0.1111111111111111,
              "#46039f"
             ],
             [
              0.2222222222222222,
              "#7201a8"
             ],
             [
              0.3333333333333333,
              "#9c179e"
             ],
             [
              0.4444444444444444,
              "#bd3786"
             ],
             [
              0.5555555555555556,
              "#d8576b"
             ],
             [
              0.6666666666666666,
              "#ed7953"
             ],
             [
              0.7777777777777778,
              "#fb9f3a"
             ],
             [
              0.8888888888888888,
              "#fdca26"
             ],
             [
              1,
              "#f0f921"
             ]
            ],
            "type": "heatmapgl"
           }
          ],
          "histogram": [
           {
            "marker": {
             "pattern": {
              "fillmode": "overlay",
              "size": 10,
              "solidity": 0.2
             }
            },
            "type": "histogram"
           }
          ],
          "histogram2d": [
           {
            "colorbar": {
             "outlinewidth": 0,
             "ticks": ""
            },
            "colorscale": [
             [
              0,
              "#0d0887"
             ],
             [
              0.1111111111111111,
              "#46039f"
             ],
             [
              0.2222222222222222,
              "#7201a8"
             ],
             [
              0.3333333333333333,
              "#9c179e"
             ],
             [
              0.4444444444444444,
              "#bd3786"
             ],
             [
              0.5555555555555556,
              "#d8576b"
             ],
             [
              0.6666666666666666,
              "#ed7953"
             ],
             [
              0.7777777777777778,
              "#fb9f3a"
             ],
             [
              0.8888888888888888,
              "#fdca26"
             ],
             [
              1,
              "#f0f921"
             ]
            ],
            "type": "histogram2d"
           }
          ],
          "histogram2dcontour": [
           {
            "colorbar": {
             "outlinewidth": 0,
             "ticks": ""
            },
            "colorscale": [
             [
              0,
              "#0d0887"
             ],
             [
              0.1111111111111111,
              "#46039f"
             ],
             [
              0.2222222222222222,
              "#7201a8"
             ],
             [
              0.3333333333333333,
              "#9c179e"
             ],
             [
              0.4444444444444444,
              "#bd3786"
             ],
             [
              0.5555555555555556,
              "#d8576b"
             ],
             [
              0.6666666666666666,
              "#ed7953"
             ],
             [
              0.7777777777777778,
              "#fb9f3a"
             ],
             [
              0.8888888888888888,
              "#fdca26"
             ],
             [
              1,
              "#f0f921"
             ]
            ],
            "type": "histogram2dcontour"
           }
          ],
          "mesh3d": [
           {
            "colorbar": {
             "outlinewidth": 0,
             "ticks": ""
            },
            "type": "mesh3d"
           }
          ],
          "parcoords": [
           {
            "line": {
             "colorbar": {
              "outlinewidth": 0,
              "ticks": ""
             }
            },
            "type": "parcoords"
           }
          ],
          "pie": [
           {
            "automargin": true,
            "type": "pie"
           }
          ],
          "scatter": [
           {
            "marker": {
             "line": {
              "color": "#283442"
             }
            },
            "type": "scatter"
           }
          ],
          "scatter3d": [
           {
            "line": {
             "colorbar": {
              "outlinewidth": 0,
              "ticks": ""
             }
            },
            "marker": {
             "colorbar": {
              "outlinewidth": 0,
              "ticks": ""
             }
            },
            "type": "scatter3d"
           }
          ],
          "scattercarpet": [
           {
            "marker": {
             "colorbar": {
              "outlinewidth": 0,
              "ticks": ""
             }
            },
            "type": "scattercarpet"
           }
          ],
          "scattergeo": [
           {
            "marker": {
             "colorbar": {
              "outlinewidth": 0,
              "ticks": ""
             }
            },
            "type": "scattergeo"
           }
          ],
          "scattergl": [
           {
            "marker": {
             "line": {
              "color": "#283442"
             }
            },
            "type": "scattergl"
           }
          ],
          "scattermapbox": [
           {
            "marker": {
             "colorbar": {
              "outlinewidth": 0,
              "ticks": ""
             }
            },
            "type": "scattermapbox"
           }
          ],
          "scatterpolar": [
           {
            "marker": {
             "colorbar": {
              "outlinewidth": 0,
              "ticks": ""
             }
            },
            "type": "scatterpolar"
           }
          ],
          "scatterpolargl": [
           {
            "marker": {
             "colorbar": {
              "outlinewidth": 0,
              "ticks": ""
             }
            },
            "type": "scatterpolargl"
           }
          ],
          "scatterternary": [
           {
            "marker": {
             "colorbar": {
              "outlinewidth": 0,
              "ticks": ""
             }
            },
            "type": "scatterternary"
           }
          ],
          "surface": [
           {
            "colorbar": {
             "outlinewidth": 0,
             "ticks": ""
            },
            "colorscale": [
             [
              0,
              "#0d0887"
             ],
             [
              0.1111111111111111,
              "#46039f"
             ],
             [
              0.2222222222222222,
              "#7201a8"
             ],
             [
              0.3333333333333333,
              "#9c179e"
             ],
             [
              0.4444444444444444,
              "#bd3786"
             ],
             [
              0.5555555555555556,
              "#d8576b"
             ],
             [
              0.6666666666666666,
              "#ed7953"
             ],
             [
              0.7777777777777778,
              "#fb9f3a"
             ],
             [
              0.8888888888888888,
              "#fdca26"
             ],
             [
              1,
              "#f0f921"
             ]
            ],
            "type": "surface"
           }
          ],
          "table": [
           {
            "cells": {
             "fill": {
              "color": "#506784"
             },
             "line": {
              "color": "rgb(17,17,17)"
             }
            },
            "header": {
             "fill": {
              "color": "#2a3f5f"
             },
             "line": {
              "color": "rgb(17,17,17)"
             }
            },
            "type": "table"
           }
          ]
         },
         "layout": {
          "annotationdefaults": {
           "arrowcolor": "#f2f5fa",
           "arrowhead": 0,
           "arrowwidth": 1
          },
          "autotypenumbers": "strict",
          "coloraxis": {
           "colorbar": {
            "outlinewidth": 0,
            "ticks": ""
           }
          },
          "colorscale": {
           "diverging": [
            [
             0,
             "#8e0152"
            ],
            [
             0.1,
             "#c51b7d"
            ],
            [
             0.2,
             "#de77ae"
            ],
            [
             0.3,
             "#f1b6da"
            ],
            [
             0.4,
             "#fde0ef"
            ],
            [
             0.5,
             "#f7f7f7"
            ],
            [
             0.6,
             "#e6f5d0"
            ],
            [
             0.7,
             "#b8e186"
            ],
            [
             0.8,
             "#7fbc41"
            ],
            [
             0.9,
             "#4d9221"
            ],
            [
             1,
             "#276419"
            ]
           ],
           "sequential": [
            [
             0,
             "#0d0887"
            ],
            [
             0.1111111111111111,
             "#46039f"
            ],
            [
             0.2222222222222222,
             "#7201a8"
            ],
            [
             0.3333333333333333,
             "#9c179e"
            ],
            [
             0.4444444444444444,
             "#bd3786"
            ],
            [
             0.5555555555555556,
             "#d8576b"
            ],
            [
             0.6666666666666666,
             "#ed7953"
            ],
            [
             0.7777777777777778,
             "#fb9f3a"
            ],
            [
             0.8888888888888888,
             "#fdca26"
            ],
            [
             1,
             "#f0f921"
            ]
           ],
           "sequentialminus": [
            [
             0,
             "#0d0887"
            ],
            [
             0.1111111111111111,
             "#46039f"
            ],
            [
             0.2222222222222222,
             "#7201a8"
            ],
            [
             0.3333333333333333,
             "#9c179e"
            ],
            [
             0.4444444444444444,
             "#bd3786"
            ],
            [
             0.5555555555555556,
             "#d8576b"
            ],
            [
             0.6666666666666666,
             "#ed7953"
            ],
            [
             0.7777777777777778,
             "#fb9f3a"
            ],
            [
             0.8888888888888888,
             "#fdca26"
            ],
            [
             1,
             "#f0f921"
            ]
           ]
          },
          "colorway": [
           "#636efa",
           "#EF553B",
           "#00cc96",
           "#ab63fa",
           "#FFA15A",
           "#19d3f3",
           "#FF6692",
           "#B6E880",
           "#FF97FF",
           "#FECB52"
          ],
          "font": {
           "color": "#f2f5fa"
          },
          "geo": {
           "bgcolor": "rgb(17,17,17)",
           "lakecolor": "rgb(17,17,17)",
           "landcolor": "rgb(17,17,17)",
           "showlakes": true,
           "showland": true,
           "subunitcolor": "#506784"
          },
          "hoverlabel": {
           "align": "left"
          },
          "hovermode": "closest",
          "mapbox": {
           "style": "dark"
          },
          "paper_bgcolor": "rgb(17,17,17)",
          "plot_bgcolor": "rgb(17,17,17)",
          "polar": {
           "angularaxis": {
            "gridcolor": "#506784",
            "linecolor": "#506784",
            "ticks": ""
           },
           "bgcolor": "rgb(17,17,17)",
           "radialaxis": {
            "gridcolor": "#506784",
            "linecolor": "#506784",
            "ticks": ""
           }
          },
          "scene": {
           "xaxis": {
            "backgroundcolor": "rgb(17,17,17)",
            "gridcolor": "#506784",
            "gridwidth": 2,
            "linecolor": "#506784",
            "showbackground": true,
            "ticks": "",
            "zerolinecolor": "#C8D4E3"
           },
           "yaxis": {
            "backgroundcolor": "rgb(17,17,17)",
            "gridcolor": "#506784",
            "gridwidth": 2,
            "linecolor": "#506784",
            "showbackground": true,
            "ticks": "",
            "zerolinecolor": "#C8D4E3"
           },
           "zaxis": {
            "backgroundcolor": "rgb(17,17,17)",
            "gridcolor": "#506784",
            "gridwidth": 2,
            "linecolor": "#506784",
            "showbackground": true,
            "ticks": "",
            "zerolinecolor": "#C8D4E3"
           }
          },
          "shapedefaults": {
           "line": {
            "color": "#f2f5fa"
           }
          },
          "sliderdefaults": {
           "bgcolor": "#C8D4E3",
           "bordercolor": "rgb(17,17,17)",
           "borderwidth": 1,
           "tickwidth": 0
          },
          "ternary": {
           "aaxis": {
            "gridcolor": "#506784",
            "linecolor": "#506784",
            "ticks": ""
           },
           "baxis": {
            "gridcolor": "#506784",
            "linecolor": "#506784",
            "ticks": ""
           },
           "bgcolor": "rgb(17,17,17)",
           "caxis": {
            "gridcolor": "#506784",
            "linecolor": "#506784",
            "ticks": ""
           }
          },
          "title": {
           "x": 0.05
          },
          "updatemenudefaults": {
           "bgcolor": "#506784",
           "borderwidth": 0
          },
          "xaxis": {
           "automargin": true,
           "gridcolor": "#283442",
           "linecolor": "#506784",
           "ticks": "",
           "title": {
            "standoff": 15
           },
           "zerolinecolor": "#283442",
           "zerolinewidth": 2
          },
          "yaxis": {
           "automargin": true,
           "gridcolor": "#283442",
           "linecolor": "#506784",
           "ticks": "",
           "title": {
            "standoff": 15
           },
           "zerolinecolor": "#283442",
           "zerolinewidth": 2
          }
         }
        },
        "title": {
         "font": {
          "size": 20
         },
         "text": "OverallQual vs SalePrice"
        },
        "xaxis": {
         "anchor": "y",
         "domain": [
          0,
          1
         ],
         "title": {
          "text": "OverallQual"
         }
        },
        "yaxis": {
         "anchor": "x",
         "domain": [
          0,
          1
         ],
         "title": {
          "text": "SalePrice"
         }
        }
       }
      }
     },
     "metadata": {},
     "output_type": "display_data"
    },
    {
     "data": {
      "application/vnd.plotly.v1+json": {
       "config": {
        "plotlyServerURL": "https://plot.ly"
       },
       "data": [
        {
         "hovertemplate": "GrLivArea=%{x}<br>SalePrice=%{y}<extra></extra>",
         "legendgroup": "",
         "marker": {
          "color": "#636efa",
          "symbol": "circle"
         },
         "mode": "markers",
         "name": "",
         "orientation": "v",
         "showlegend": false,
         "type": "scatter",
         "x": [
          1710,
          1786,
          2198,
          1694,
          1040,
          1494,
          1114,
          1339,
          2376,
          1060,
          1704,
          1228,
          1234,
          1561,
          2452,
          1057,
          1324,
          1752,
          1656,
          955,
          1360,
          1720,
          780,
          1158,
          1370,
          2473,
          1479,
          747,
          845,
          952,
          1065,
          990,
          1786,
          1588,
          960,
          1610,
          1732,
          1226,
          1855,
          1430,
          1125,
          1456,
          1199,
          1586,
          840,
          1348,
          2157,
          2054,
          1327,
          1296,
          1682,
          1214,
          1852,
          1764,
          864,
          1734,
          1385,
          1501,
          875,
          2035,
          1080,
          1344,
          1993,
          1968,
          1947,
          1232,
          1541,
          882,
          2161,
          1720,
          1217,
          1431,
          864,
          1121,
          848,
          1284,
          1696,
          1092,
          1212,
          1852,
          1436,
          1248,
          1498,
          2267,
          2520,
          912,
          1555,
          1960,
          1414,
          1487,
          1566,
          2110,
          1375,
          1668,
          1640,
          1314,
          2291,
          1728,
          1604,
          2574,
          1212,
          764,
          1511,
          1113,
          2270,
          816,
          2022,
          1262,
          1314,
          1468,
          858,
          900,
          1644,
          1003,
          1558,
          2452,
          894,
          2000,
          1406,
          861,
          1501,
          972,
          1432,
          1472,
          1719,
          1383,
          1056,
          1358,
          1638,
          1536,
          1908,
          1577,
          1478,
          1167,
          1505,
          1268,
          1664,
          1928,
          914,
          1800,
          1301,
          1797,
          1125,
          1479,
          788,
          1034,
          1144,
          894,
          1812,
          1550,
          1310,
          1572,
          1620,
          2078,
          1340,
          1400,
          1134,
          1196,
          907,
          1208,
          1198,
          1604,
          1573,
          1258,
          1908,
          1689,
          1886,
          1376,
          1756,
          1590,
          1242,
          1666,
          1935,
          1660,
          1040,
          1414,
          1644,
          1634,
          1710,
          1652,
          1493,
          1718,
          1216,
          999,
          1073,
          1456,
          1820,
          899,
          1768,
          1911,
          1218,
          1041,
          1368,
          2119,
          1796,
          1244,
          1266,
          1509,
          1414,
          1724,
          864,
          2285,
          1496,
          768,
          928,
          2046,
          1557,
          996,
          2295,
          1535,
          943,
          864,
          1692,
          1430,
          1795,
          816,
          860,
          1582,
          848,
          924,
          1368,
          1904,
          1915,
          1494,
          1040,
          2153,
          1872,
          1120,
          1054,
          1509,
          832,
          2262,
          980,
          1554,
          1411,
          1567,
          1665,
          1510,
          1716,
          1053,
          1486,
          1936,
          1679,
          1437,
          1476,
          1369,
          1208,
          988,
          1291,
          1668,
          1839,
          1761,
          1362,
          848,
          1539,
          1391,
          1164,
          1324,
          1456,
          904,
          729,
          1228,
          1350,
          971,
          848,
          864,
          1698,
          1232,
          1616,
          2031,
          948,
          1801,
          1728,
          1349,
          2256,
          1140,
          1320,
          1494,
          2098,
          1768,
          1386,
          1301,
          1547,
          858,
          1220,
          912,
          1614,
          894,
          1004,
          1253,
          1603,
          1430,
          1110,
          2084,
          901,
          1145,
          1062,
          2013,
          1496,
          1285,
          773,
          1196,
          1456,
          1128,
          1428,
          848,
          1689,
          1052,
          1358,
          1640,
          1733,
          1489,
          1489,
          1434,
          1829,
          1144,
          1067,
          1099,
          1200,
          1701,
          864,
          1855,
          848,
          1456,
          1445,
          1481,
          1370,
          1097,
          1148,
          1372,
          1002,
          1646,
          1949,
          894,
          1682,
          1131,
          1090,
          1717,
          1593,
          892,
          1709,
          1796,
          951,
          1236,
          858,
          1306,
          1509,
          1670,
          902,
          1268,
          1229,
          2374,
          1978,
          2236,
          1466,
          1500,
          1200,
          1971,
          1962,
          1776,
          1381,
          1057,
          1337,
          858,
          1894,
          1484,
          1098,
          968,
          1192,
          918,
          1428,
          869,
          1241,
          894,
          1121,
          1266,
          2290,
          1576,
          1500,
          1718,
          1208,
          1574,
          1504,
          1082,
          1665,
          1504,
          1360,
          1472,
          1506,
          1132,
          1220,
          1504,
          1646,
          1654,
          954,
          1620,
          1306,
          2329,
          1302,
          1316,
          1526,
          1989,
          1364,
          2184,
          1103,
          2260,
          1571,
          1556,
          1426,
          1240,
          1740,
          848,
          990,
          1459,
          1498,
          996,
          1247,
          1314,
          1324,
          1601,
          438,
          1134,
          2622,
          1690,
          1658,
          816,
          1008,
          833,
          1734,
          1419,
          894,
          1552,
          1482,
          1005,
          1555,
          1959,
          936,
          974,
          2020,
          1600,
          986,
          1567,
          952,
          1576,
          1298,
          1564,
          1314,
          1580,
          1876,
          894,
          1502,
          1671,
          923,
          2514,
          1130,
          1660,
          1804,
          1352,
          1456,
          1863,
          1212,
          1382,
          864,
          1779,
          1074,
          1056,
          1700,
          672,
          999,
          1314,
          1846,
          1490,
          1933,
          1507,
          1190,
          1188,
          1784,
          1948,
          1141,
          1484,
          1768,
          1517,
          1553,
          1034,
          1405,
          1656,
          1166,
          1050,
          1337,
          1524,
          1489,
          1573,
          1412,
          1659,
          1152,
          864,
          1052,
          1983,
          2526,
          1616,
          1652,
          1368,
          990,
          1294,
          1274,
          948,
          1630,
          948,
          1923,
          708,
          1632,
          1588,
          954,
          816,
          1861,
          1114,
          2169,
          1913,
          1456,
          1776,
          1494,
          1920,
          892,
          1078,
          1738,
          1412,
          1674,
          1790,
          848,
          2097,
          1571,
          790,
          1394,
          2117,
          1258,
          1525,
          900,
          1500,
          2482,
          1608,
          1593,
          1294,
          1464,
          768,
          833,
          1840,
          1844,
          848,
          1252,
          1558,
          958,
          968,
          1792,
          1126,
          864,
          848,
          2007,
          1422,
          1346,
          1578,
          1140,
          1221,
          1647
         ],
         "xaxis": "x",
         "y": [
          208500,
          223500,
          250000,
          307000,
          129500,
          279500,
          159000,
          139000,
          325300,
          129900,
          306000,
          149350,
          179900,
          277500,
          309000,
          109000,
          160000,
          319900,
          249700,
          127000,
          130000,
          196500,
          124900,
          158000,
          202500,
          317000,
          226000,
          80000,
          129500,
          135750,
          126500,
          123600,
          204750,
          214000,
          94750,
          205000,
          178000,
          198900,
          136900,
          180000,
          155000,
          163990,
          153900,
          181000,
          87000,
          155000,
          226000,
          244000,
          150750,
          220000,
          174000,
          143000,
          230000,
          231500,
          115000,
          260000,
          166000,
          204000,
          105000,
          222500,
          141000,
          115000,
          190000,
          269500,
          254900,
          162500,
          220000,
          103200,
          325624,
          183500,
          173000,
          192000,
          127000,
          140000,
          149000,
          110000,
          143900,
          145000,
          186000,
          252678,
          210000,
          167240,
          204900,
          200000,
          290000,
          125000,
          192500,
          216500,
          185500,
          113000,
          262500,
          205000,
          140000,
          180000,
          173000,
          145000,
          230000,
          207500,
          220000,
          276000,
          151000,
          73000,
          185000,
          148000,
          290000,
          124500,
          192000,
          185000,
          207500,
          244600,
          88000,
          122000,
          167000,
          142500,
          152000,
          267000,
          149900,
          305900,
          89500,
          82500,
          165600,
          132000,
          188500,
          187500,
          324000,
          145250,
          139000,
          207000,
          192000,
          214000,
          202900,
          140200,
          157500,
          173000,
          145000,
          132000,
          172400,
          219500,
          148000,
          179000,
          187750,
          213500,
          125000,
          191000,
          100000,
          109000,
          129000,
          123000,
          169500,
          241000,
          164990,
          168000,
          150000,
          339750,
          181134,
          149500,
          126000,
          139000,
          109008,
          195400,
          79900,
          181000,
          162900,
          172500,
          210000,
          127500,
          199900,
          119500,
          204000,
          210000,
          175500,
          161000,
          263435,
          188700,
          124000,
          178740,
          146500,
          250000,
          187000,
          251000,
          208900,
          297000,
          164000,
          132500,
          156000,
          172785,
          184000,
          130000,
          226700,
          215000,
          208300,
          124500,
          202665,
          158000,
          211000,
          150000,
          176000,
          175000,
          178000,
          188000,
          111250,
          248000,
          179665,
          129500,
          112500,
          284000,
          234000,
          108000,
          268000,
          214000,
          135960,
          120000,
          224500,
          170000,
          131500,
          118500,
          137000,
          185900,
          140000,
          110000,
          114504,
          275000,
          220000,
          221000,
          152000,
          313000,
          261500,
          147000,
          137500,
          183200,
          105500,
          305000,
          135000,
          209500,
          82500,
          264561,
          205950,
          108000,
          191000,
          145500,
          167000,
          230500,
          193500,
          168000,
          173500,
          103600,
          165000,
          128500,
          173000,
          285000,
          221000,
          227875,
          194700,
          141000,
          141500,
          196000,
          140000,
          254000,
          179540,
          109900,
          52000,
          189000,
          165000,
          128500,
          143000,
          124500,
          320000,
          194500,
          236500,
          222500,
          108000,
          239900,
          190000,
          179000,
          236000,
          96500,
          162000,
          217000,
          275500,
          212000,
          158900,
          100000,
          215200,
          134900,
          102000,
          114500,
          221500,
          142500,
          135000,
          176000,
          175900,
          187100,
          165500,
          233000,
          107900,
          160200,
          146800,
          269790,
          225000,
          143500,
          110000,
          109900,
          189000,
          118000,
          227680,
          144500,
          271000,
          155000,
          224000,
          183000,
          225000,
          139500,
          232600,
          189000,
          237000,
          139950,
          128000,
          144000,
          130500,
          171000,
          133500,
          187000,
          131500,
          215000,
          158000,
          174000,
          152000,
          152000,
          132500,
          250580,
          148500,
          248900,
          236000,
          109500,
          200500,
          66500,
          157000,
          187500,
          178000,
          100000,
          328900,
          140000,
          106500,
          135000,
          110000,
          153000,
          180000,
          240000,
          125500,
          143500,
          135000,
          285000,
          176000,
          222000,
          201000,
          190000,
          184900,
          253000,
          239799,
          192500,
          197500,
          132000,
          185000,
          116500,
          214900,
          178900,
          135000,
          37900,
          135000,
          99500,
          182000,
          85500,
          199900,
          110000,
          139000,
          159895,
          255900,
          197000,
          173900,
          337500,
          206000,
          232000,
          181000,
          119200,
          227000,
          203000,
          187500,
          160000,
          213490,
          176000,
          194000,
          191000,
          293077,
          230000,
          119750,
          315500,
          196000,
          262280,
          176485,
          200141,
          144500,
          255000,
          185850,
          335000,
          110500,
          328000,
          178000,
          154000,
          159500,
          194000,
          219500,
          155900,
          126000,
          192000,
          187500,
          147000,
          197000,
          176432,
          128000,
          157000,
          60000,
          135000,
          325000,
          181000,
          188000,
          129900,
          134500,
          117000,
          318000,
          184100,
          130000,
          212900,
          163900,
          115000,
          174000,
          215000,
          140000,
          93500,
          239500,
          169000,
          102000,
          196000,
          139000,
          149000,
          180000,
          174500,
          230000,
          235128,
          185000,
          129000,
          233170,
          173000,
          119500,
          250000,
          120000,
          195000,
          189000,
          158000,
          176000,
          219210,
          178000,
          148000,
          116050,
          197900,
          153500,
          107000,
          200000,
          113000,
          134500,
          229456,
          143000,
          184000,
          214000,
          127000,
          132500,
          142000,
          138887,
          195000,
          142500,
          265900,
          224900,
          230000,
          186500,
          169900,
          171750,
          165400,
          190000,
          128900,
          181000,
          144000,
          185750,
          227000,
          132500,
          278000,
          180500,
          115000,
          138500,
          225000,
          290000,
          232000,
          325000,
          202500,
          138000,
          179200,
          203000,
          119000,
          295493,
          111000,
          190000,
          82500,
          176500,
          227000,
          132500,
          100000,
          200000,
          155000,
          228500,
          177000,
          155835,
          283463,
          215000,
          170000,
          110000,
          149900,
          104900,
          156932,
          216000,
          193000,
          144000,
          274300,
          239000,
          91000,
          167500,
          237500,
          105000,
          235000,
          123000,
          246578,
          281213,
          137450,
          193000,
          193879,
          282922,
          133000,
          112000,
          230000,
          257000,
          136500,
          142000,
          140000,
          143750,
          64500,
          186500,
          160000,
          120500,
          149300,
          310000,
          179600,
          112000,
          287090,
          84500,
          185000,
          175000
         ],
         "yaxis": "y"
        }
       ],
       "layout": {
        "legend": {
         "tracegroupgap": 0
        },
        "template": {
         "data": {
          "bar": [
           {
            "error_x": {
             "color": "#f2f5fa"
            },
            "error_y": {
             "color": "#f2f5fa"
            },
            "marker": {
             "line": {
              "color": "rgb(17,17,17)",
              "width": 0.5
             },
             "pattern": {
              "fillmode": "overlay",
              "size": 10,
              "solidity": 0.2
             }
            },
            "type": "bar"
           }
          ],
          "barpolar": [
           {
            "marker": {
             "line": {
              "color": "rgb(17,17,17)",
              "width": 0.5
             },
             "pattern": {
              "fillmode": "overlay",
              "size": 10,
              "solidity": 0.2
             }
            },
            "type": "barpolar"
           }
          ],
          "carpet": [
           {
            "aaxis": {
             "endlinecolor": "#A2B1C6",
             "gridcolor": "#506784",
             "linecolor": "#506784",
             "minorgridcolor": "#506784",
             "startlinecolor": "#A2B1C6"
            },
            "baxis": {
             "endlinecolor": "#A2B1C6",
             "gridcolor": "#506784",
             "linecolor": "#506784",
             "minorgridcolor": "#506784",
             "startlinecolor": "#A2B1C6"
            },
            "type": "carpet"
           }
          ],
          "choropleth": [
           {
            "colorbar": {
             "outlinewidth": 0,
             "ticks": ""
            },
            "type": "choropleth"
           }
          ],
          "contour": [
           {
            "colorbar": {
             "outlinewidth": 0,
             "ticks": ""
            },
            "colorscale": [
             [
              0,
              "#0d0887"
             ],
             [
              0.1111111111111111,
              "#46039f"
             ],
             [
              0.2222222222222222,
              "#7201a8"
             ],
             [
              0.3333333333333333,
              "#9c179e"
             ],
             [
              0.4444444444444444,
              "#bd3786"
             ],
             [
              0.5555555555555556,
              "#d8576b"
             ],
             [
              0.6666666666666666,
              "#ed7953"
             ],
             [
              0.7777777777777778,
              "#fb9f3a"
             ],
             [
              0.8888888888888888,
              "#fdca26"
             ],
             [
              1,
              "#f0f921"
             ]
            ],
            "type": "contour"
           }
          ],
          "contourcarpet": [
           {
            "colorbar": {
             "outlinewidth": 0,
             "ticks": ""
            },
            "type": "contourcarpet"
           }
          ],
          "heatmap": [
           {
            "colorbar": {
             "outlinewidth": 0,
             "ticks": ""
            },
            "colorscale": [
             [
              0,
              "#0d0887"
             ],
             [
              0.1111111111111111,
              "#46039f"
             ],
             [
              0.2222222222222222,
              "#7201a8"
             ],
             [
              0.3333333333333333,
              "#9c179e"
             ],
             [
              0.4444444444444444,
              "#bd3786"
             ],
             [
              0.5555555555555556,
              "#d8576b"
             ],
             [
              0.6666666666666666,
              "#ed7953"
             ],
             [
              0.7777777777777778,
              "#fb9f3a"
             ],
             [
              0.8888888888888888,
              "#fdca26"
             ],
             [
              1,
              "#f0f921"
             ]
            ],
            "type": "heatmap"
           }
          ],
          "heatmapgl": [
           {
            "colorbar": {
             "outlinewidth": 0,
             "ticks": ""
            },
            "colorscale": [
             [
              0,
              "#0d0887"
             ],
             [
              0.1111111111111111,
              "#46039f"
             ],
             [
              0.2222222222222222,
              "#7201a8"
             ],
             [
              0.3333333333333333,
              "#9c179e"
             ],
             [
              0.4444444444444444,
              "#bd3786"
             ],
             [
              0.5555555555555556,
              "#d8576b"
             ],
             [
              0.6666666666666666,
              "#ed7953"
             ],
             [
              0.7777777777777778,
              "#fb9f3a"
             ],
             [
              0.8888888888888888,
              "#fdca26"
             ],
             [
              1,
              "#f0f921"
             ]
            ],
            "type": "heatmapgl"
           }
          ],
          "histogram": [
           {
            "marker": {
             "pattern": {
              "fillmode": "overlay",
              "size": 10,
              "solidity": 0.2
             }
            },
            "type": "histogram"
           }
          ],
          "histogram2d": [
           {
            "colorbar": {
             "outlinewidth": 0,
             "ticks": ""
            },
            "colorscale": [
             [
              0,
              "#0d0887"
             ],
             [
              0.1111111111111111,
              "#46039f"
             ],
             [
              0.2222222222222222,
              "#7201a8"
             ],
             [
              0.3333333333333333,
              "#9c179e"
             ],
             [
              0.4444444444444444,
              "#bd3786"
             ],
             [
              0.5555555555555556,
              "#d8576b"
             ],
             [
              0.6666666666666666,
              "#ed7953"
             ],
             [
              0.7777777777777778,
              "#fb9f3a"
             ],
             [
              0.8888888888888888,
              "#fdca26"
             ],
             [
              1,
              "#f0f921"
             ]
            ],
            "type": "histogram2d"
           }
          ],
          "histogram2dcontour": [
           {
            "colorbar": {
             "outlinewidth": 0,
             "ticks": ""
            },
            "colorscale": [
             [
              0,
              "#0d0887"
             ],
             [
              0.1111111111111111,
              "#46039f"
             ],
             [
              0.2222222222222222,
              "#7201a8"
             ],
             [
              0.3333333333333333,
              "#9c179e"
             ],
             [
              0.4444444444444444,
              "#bd3786"
             ],
             [
              0.5555555555555556,
              "#d8576b"
             ],
             [
              0.6666666666666666,
              "#ed7953"
             ],
             [
              0.7777777777777778,
              "#fb9f3a"
             ],
             [
              0.8888888888888888,
              "#fdca26"
             ],
             [
              1,
              "#f0f921"
             ]
            ],
            "type": "histogram2dcontour"
           }
          ],
          "mesh3d": [
           {
            "colorbar": {
             "outlinewidth": 0,
             "ticks": ""
            },
            "type": "mesh3d"
           }
          ],
          "parcoords": [
           {
            "line": {
             "colorbar": {
              "outlinewidth": 0,
              "ticks": ""
             }
            },
            "type": "parcoords"
           }
          ],
          "pie": [
           {
            "automargin": true,
            "type": "pie"
           }
          ],
          "scatter": [
           {
            "marker": {
             "line": {
              "color": "#283442"
             }
            },
            "type": "scatter"
           }
          ],
          "scatter3d": [
           {
            "line": {
             "colorbar": {
              "outlinewidth": 0,
              "ticks": ""
             }
            },
            "marker": {
             "colorbar": {
              "outlinewidth": 0,
              "ticks": ""
             }
            },
            "type": "scatter3d"
           }
          ],
          "scattercarpet": [
           {
            "marker": {
             "colorbar": {
              "outlinewidth": 0,
              "ticks": ""
             }
            },
            "type": "scattercarpet"
           }
          ],
          "scattergeo": [
           {
            "marker": {
             "colorbar": {
              "outlinewidth": 0,
              "ticks": ""
             }
            },
            "type": "scattergeo"
           }
          ],
          "scattergl": [
           {
            "marker": {
             "line": {
              "color": "#283442"
             }
            },
            "type": "scattergl"
           }
          ],
          "scattermapbox": [
           {
            "marker": {
             "colorbar": {
              "outlinewidth": 0,
              "ticks": ""
             }
            },
            "type": "scattermapbox"
           }
          ],
          "scatterpolar": [
           {
            "marker": {
             "colorbar": {
              "outlinewidth": 0,
              "ticks": ""
             }
            },
            "type": "scatterpolar"
           }
          ],
          "scatterpolargl": [
           {
            "marker": {
             "colorbar": {
              "outlinewidth": 0,
              "ticks": ""
             }
            },
            "type": "scatterpolargl"
           }
          ],
          "scatterternary": [
           {
            "marker": {
             "colorbar": {
              "outlinewidth": 0,
              "ticks": ""
             }
            },
            "type": "scatterternary"
           }
          ],
          "surface": [
           {
            "colorbar": {
             "outlinewidth": 0,
             "ticks": ""
            },
            "colorscale": [
             [
              0,
              "#0d0887"
             ],
             [
              0.1111111111111111,
              "#46039f"
             ],
             [
              0.2222222222222222,
              "#7201a8"
             ],
             [
              0.3333333333333333,
              "#9c179e"
             ],
             [
              0.4444444444444444,
              "#bd3786"
             ],
             [
              0.5555555555555556,
              "#d8576b"
             ],
             [
              0.6666666666666666,
              "#ed7953"
             ],
             [
              0.7777777777777778,
              "#fb9f3a"
             ],
             [
              0.8888888888888888,
              "#fdca26"
             ],
             [
              1,
              "#f0f921"
             ]
            ],
            "type": "surface"
           }
          ],
          "table": [
           {
            "cells": {
             "fill": {
              "color": "#506784"
             },
             "line": {
              "color": "rgb(17,17,17)"
             }
            },
            "header": {
             "fill": {
              "color": "#2a3f5f"
             },
             "line": {
              "color": "rgb(17,17,17)"
             }
            },
            "type": "table"
           }
          ]
         },
         "layout": {
          "annotationdefaults": {
           "arrowcolor": "#f2f5fa",
           "arrowhead": 0,
           "arrowwidth": 1
          },
          "autotypenumbers": "strict",
          "coloraxis": {
           "colorbar": {
            "outlinewidth": 0,
            "ticks": ""
           }
          },
          "colorscale": {
           "diverging": [
            [
             0,
             "#8e0152"
            ],
            [
             0.1,
             "#c51b7d"
            ],
            [
             0.2,
             "#de77ae"
            ],
            [
             0.3,
             "#f1b6da"
            ],
            [
             0.4,
             "#fde0ef"
            ],
            [
             0.5,
             "#f7f7f7"
            ],
            [
             0.6,
             "#e6f5d0"
            ],
            [
             0.7,
             "#b8e186"
            ],
            [
             0.8,
             "#7fbc41"
            ],
            [
             0.9,
             "#4d9221"
            ],
            [
             1,
             "#276419"
            ]
           ],
           "sequential": [
            [
             0,
             "#0d0887"
            ],
            [
             0.1111111111111111,
             "#46039f"
            ],
            [
             0.2222222222222222,
             "#7201a8"
            ],
            [
             0.3333333333333333,
             "#9c179e"
            ],
            [
             0.4444444444444444,
             "#bd3786"
            ],
            [
             0.5555555555555556,
             "#d8576b"
            ],
            [
             0.6666666666666666,
             "#ed7953"
            ],
            [
             0.7777777777777778,
             "#fb9f3a"
            ],
            [
             0.8888888888888888,
             "#fdca26"
            ],
            [
             1,
             "#f0f921"
            ]
           ],
           "sequentialminus": [
            [
             0,
             "#0d0887"
            ],
            [
             0.1111111111111111,
             "#46039f"
            ],
            [
             0.2222222222222222,
             "#7201a8"
            ],
            [
             0.3333333333333333,
             "#9c179e"
            ],
            [
             0.4444444444444444,
             "#bd3786"
            ],
            [
             0.5555555555555556,
             "#d8576b"
            ],
            [
             0.6666666666666666,
             "#ed7953"
            ],
            [
             0.7777777777777778,
             "#fb9f3a"
            ],
            [
             0.8888888888888888,
             "#fdca26"
            ],
            [
             1,
             "#f0f921"
            ]
           ]
          },
          "colorway": [
           "#636efa",
           "#EF553B",
           "#00cc96",
           "#ab63fa",
           "#FFA15A",
           "#19d3f3",
           "#FF6692",
           "#B6E880",
           "#FF97FF",
           "#FECB52"
          ],
          "font": {
           "color": "#f2f5fa"
          },
          "geo": {
           "bgcolor": "rgb(17,17,17)",
           "lakecolor": "rgb(17,17,17)",
           "landcolor": "rgb(17,17,17)",
           "showlakes": true,
           "showland": true,
           "subunitcolor": "#506784"
          },
          "hoverlabel": {
           "align": "left"
          },
          "hovermode": "closest",
          "mapbox": {
           "style": "dark"
          },
          "paper_bgcolor": "rgb(17,17,17)",
          "plot_bgcolor": "rgb(17,17,17)",
          "polar": {
           "angularaxis": {
            "gridcolor": "#506784",
            "linecolor": "#506784",
            "ticks": ""
           },
           "bgcolor": "rgb(17,17,17)",
           "radialaxis": {
            "gridcolor": "#506784",
            "linecolor": "#506784",
            "ticks": ""
           }
          },
          "scene": {
           "xaxis": {
            "backgroundcolor": "rgb(17,17,17)",
            "gridcolor": "#506784",
            "gridwidth": 2,
            "linecolor": "#506784",
            "showbackground": true,
            "ticks": "",
            "zerolinecolor": "#C8D4E3"
           },
           "yaxis": {
            "backgroundcolor": "rgb(17,17,17)",
            "gridcolor": "#506784",
            "gridwidth": 2,
            "linecolor": "#506784",
            "showbackground": true,
            "ticks": "",
            "zerolinecolor": "#C8D4E3"
           },
           "zaxis": {
            "backgroundcolor": "rgb(17,17,17)",
            "gridcolor": "#506784",
            "gridwidth": 2,
            "linecolor": "#506784",
            "showbackground": true,
            "ticks": "",
            "zerolinecolor": "#C8D4E3"
           }
          },
          "shapedefaults": {
           "line": {
            "color": "#f2f5fa"
           }
          },
          "sliderdefaults": {
           "bgcolor": "#C8D4E3",
           "bordercolor": "rgb(17,17,17)",
           "borderwidth": 1,
           "tickwidth": 0
          },
          "ternary": {
           "aaxis": {
            "gridcolor": "#506784",
            "linecolor": "#506784",
            "ticks": ""
           },
           "baxis": {
            "gridcolor": "#506784",
            "linecolor": "#506784",
            "ticks": ""
           },
           "bgcolor": "rgb(17,17,17)",
           "caxis": {
            "gridcolor": "#506784",
            "linecolor": "#506784",
            "ticks": ""
           }
          },
          "title": {
           "x": 0.05
          },
          "updatemenudefaults": {
           "bgcolor": "#506784",
           "borderwidth": 0
          },
          "xaxis": {
           "automargin": true,
           "gridcolor": "#283442",
           "linecolor": "#506784",
           "ticks": "",
           "title": {
            "standoff": 15
           },
           "zerolinecolor": "#283442",
           "zerolinewidth": 2
          },
          "yaxis": {
           "automargin": true,
           "gridcolor": "#283442",
           "linecolor": "#506784",
           "ticks": "",
           "title": {
            "standoff": 15
           },
           "zerolinecolor": "#283442",
           "zerolinewidth": 2
          }
         }
        },
        "title": {
         "font": {
          "size": 20
         },
         "text": "GrLivArea vs SalePrice"
        },
        "xaxis": {
         "anchor": "y",
         "domain": [
          0,
          1
         ],
         "title": {
          "text": "GrLivArea"
         }
        },
        "yaxis": {
         "anchor": "x",
         "domain": [
          0,
          1
         ],
         "title": {
          "text": "SalePrice"
         }
        }
       }
      }
     },
     "metadata": {},
     "output_type": "display_data"
    },
    {
     "data": {
      "application/vnd.plotly.v1+json": {
       "config": {
        "plotlyServerURL": "https://plot.ly"
       },
       "data": [
        {
         "hovertemplate": "GarageCars=%{x}<br>SalePrice=%{y}<extra></extra>",
         "legendgroup": "",
         "marker": {
          "color": "#636efa",
          "symbol": "circle"
         },
         "mode": "markers",
         "name": "",
         "orientation": "v",
         "showlegend": false,
         "type": "scatter",
         "x": [
          2,
          2,
          3,
          2,
          1,
          3,
          2,
          1,
          3,
          2,
          3,
          1,
          2,
          2,
          3,
          1,
          2,
          2,
          3,
          1,
          2,
          2,
          1,
          2,
          2,
          3,
          2,
          1,
          2,
          1,
          2,
          0,
          2,
          2,
          1,
          2,
          2,
          3,
          1,
          2,
          2,
          2,
          2,
          2,
          0,
          2,
          2,
          2,
          2,
          2,
          2,
          1,
          3,
          2,
          0,
          2,
          2,
          2,
          1,
          2,
          0,
          1,
          2,
          3,
          2,
          2,
          2,
          0,
          3,
          2,
          2,
          2,
          1,
          2,
          2,
          1,
          1,
          2,
          2,
          2,
          2,
          2,
          2,
          2,
          3,
          1,
          2,
          2,
          2,
          1,
          2,
          2,
          2,
          2,
          2,
          1,
          2,
          2,
          2,
          3,
          2,
          2,
          2,
          1,
          3,
          1,
          2,
          2,
          2,
          3,
          0,
          1,
          2,
          2,
          1,
          2,
          2,
          3,
          0,
          2,
          2,
          1,
          2,
          2,
          2,
          1,
          1,
          2,
          2,
          2,
          2,
          1,
          2,
          2,
          1,
          1,
          2,
          2,
          2,
          2,
          2,
          2,
          1,
          2,
          0,
          1,
          1,
          2,
          1,
          2,
          2,
          2,
          2,
          3,
          2,
          2,
          1,
          1,
          1,
          2,
          0,
          2,
          2,
          3,
          2,
          2,
          2,
          1,
          2,
          2,
          2,
          1,
          2,
          1,
          0,
          2,
          1,
          3,
          2,
          2,
          2,
          3,
          2,
          1,
          2,
          2,
          1,
          1,
          2,
          2,
          2,
          1,
          2,
          2,
          2,
          1,
          2,
          2,
          2,
          2,
          2,
          3,
          2,
          2,
          1,
          3,
          2,
          0,
          2,
          2,
          2,
          1,
          2,
          2,
          1,
          0,
          2,
          2,
          2,
          1,
          1,
          2,
          2,
          2,
          2,
          3,
          2,
          0,
          2,
          2,
          2,
          3,
          2,
          2,
          2,
          3,
          2,
          1,
          2,
          1,
          2,
          2,
          2,
          2,
          2,
          1,
          2,
          2,
          2,
          3,
          2,
          2,
          2,
          2,
          2,
          2,
          2,
          2,
          2,
          1,
          0,
          2,
          2,
          1,
          2,
          2,
          3,
          2,
          2,
          2,
          1,
          3,
          2,
          2,
          2,
          0,
          2,
          2,
          3,
          2,
          2,
          2,
          2,
          2,
          2,
          1,
          3,
          2,
          2,
          2,
          2,
          2,
          2,
          2,
          1,
          2,
          2,
          2,
          2,
          2,
          1,
          2,
          2,
          1,
          2,
          2,
          3,
          2,
          2,
          2,
          2,
          1,
          2,
          2,
          2,
          2,
          2,
          1,
          1,
          2,
          1,
          2,
          2,
          2,
          2,
          2,
          2,
          2,
          1,
          2,
          2,
          3,
          2,
          1,
          2,
          1,
          2,
          2,
          2,
          1,
          2,
          2,
          1,
          1,
          1,
          1,
          2,
          3,
          1,
          1,
          1,
          3,
          2,
          2,
          3,
          2,
          2,
          2,
          3,
          2,
          2,
          2,
          2,
          0,
          2,
          2,
          1,
          0,
          0,
          1,
          2,
          0,
          2,
          2,
          2,
          2,
          2,
          2,
          2,
          3,
          2,
          3,
          2,
          1,
          2,
          2,
          2,
          2,
          2,
          2,
          2,
          2,
          3,
          3,
          1,
          3,
          2,
          2,
          2,
          2,
          1,
          2,
          2,
          3,
          2,
          2,
          2,
          2,
          2,
          3,
          1,
          2,
          1,
          2,
          2,
          2,
          2,
          2,
          1,
          2,
          1,
          1,
          2,
          2,
          2,
          1,
          1,
          1,
          3,
          2,
          2,
          3,
          2,
          2,
          3,
          2,
          2,
          0,
          2,
          2,
          1,
          2,
          2,
          1,
          2,
          1,
          2,
          3,
          2,
          2,
          2,
          2,
          1,
          2,
          2,
          2,
          2,
          1,
          2,
          3,
          2,
          2,
          1,
          2,
          2,
          1,
          2,
          1,
          1,
          2,
          1,
          2,
          3,
          1,
          2,
          2,
          1,
          2,
          2,
          2,
          2,
          2,
          2,
          3,
          2,
          2,
          2,
          1,
          2,
          1,
          2,
          2,
          1,
          2,
          2,
          2,
          1,
          2,
          3,
          3,
          2,
          2,
          2,
          2,
          2,
          1,
          3,
          1,
          2,
          0,
          2,
          3,
          2,
          1,
          2,
          2,
          2,
          2,
          2,
          3,
          2,
          2,
          1,
          2,
          1,
          2,
          2,
          2,
          2,
          2,
          3,
          1,
          2,
          2,
          1,
          2,
          1,
          3,
          3,
          1,
          2,
          2,
          3,
          2,
          0,
          2,
          2,
          2,
          2,
          1,
          2,
          1,
          2,
          2,
          2,
          2,
          3,
          2,
          1,
          3,
          0,
          2,
          2
         ],
         "xaxis": "x",
         "y": [
          208500,
          223500,
          250000,
          307000,
          129500,
          279500,
          159000,
          139000,
          325300,
          129900,
          306000,
          149350,
          179900,
          277500,
          309000,
          109000,
          160000,
          319900,
          249700,
          127000,
          130000,
          196500,
          124900,
          158000,
          202500,
          317000,
          226000,
          80000,
          129500,
          135750,
          126500,
          123600,
          204750,
          214000,
          94750,
          205000,
          178000,
          198900,
          136900,
          180000,
          155000,
          163990,
          153900,
          181000,
          87000,
          155000,
          226000,
          244000,
          150750,
          220000,
          174000,
          143000,
          230000,
          231500,
          115000,
          260000,
          166000,
          204000,
          105000,
          222500,
          141000,
          115000,
          190000,
          269500,
          254900,
          162500,
          220000,
          103200,
          325624,
          183500,
          173000,
          192000,
          127000,
          140000,
          149000,
          110000,
          143900,
          145000,
          186000,
          252678,
          210000,
          167240,
          204900,
          200000,
          290000,
          125000,
          192500,
          216500,
          185500,
          113000,
          262500,
          205000,
          140000,
          180000,
          173000,
          145000,
          230000,
          207500,
          220000,
          276000,
          151000,
          73000,
          185000,
          148000,
          290000,
          124500,
          192000,
          185000,
          207500,
          244600,
          88000,
          122000,
          167000,
          142500,
          152000,
          267000,
          149900,
          305900,
          89500,
          82500,
          165600,
          132000,
          188500,
          187500,
          324000,
          145250,
          139000,
          207000,
          192000,
          214000,
          202900,
          140200,
          157500,
          173000,
          145000,
          132000,
          172400,
          219500,
          148000,
          179000,
          187750,
          213500,
          125000,
          191000,
          100000,
          109000,
          129000,
          123000,
          169500,
          241000,
          164990,
          168000,
          150000,
          339750,
          181134,
          149500,
          126000,
          139000,
          109008,
          195400,
          79900,
          181000,
          162900,
          172500,
          210000,
          127500,
          199900,
          119500,
          204000,
          210000,
          175500,
          161000,
          263435,
          188700,
          124000,
          178740,
          146500,
          250000,
          187000,
          251000,
          208900,
          297000,
          164000,
          132500,
          156000,
          172785,
          184000,
          130000,
          226700,
          215000,
          208300,
          124500,
          202665,
          158000,
          211000,
          150000,
          176000,
          175000,
          178000,
          188000,
          111250,
          248000,
          179665,
          129500,
          112500,
          284000,
          234000,
          108000,
          268000,
          214000,
          135960,
          120000,
          224500,
          170000,
          131500,
          118500,
          137000,
          185900,
          140000,
          110000,
          114504,
          275000,
          220000,
          221000,
          152000,
          313000,
          261500,
          147000,
          137500,
          183200,
          105500,
          305000,
          135000,
          209500,
          82500,
          264561,
          205950,
          108000,
          191000,
          145500,
          167000,
          230500,
          193500,
          168000,
          173500,
          103600,
          165000,
          128500,
          173000,
          285000,
          221000,
          227875,
          194700,
          141000,
          141500,
          196000,
          140000,
          254000,
          179540,
          109900,
          52000,
          189000,
          165000,
          128500,
          143000,
          124500,
          320000,
          194500,
          236500,
          222500,
          108000,
          239900,
          190000,
          179000,
          236000,
          96500,
          162000,
          217000,
          275500,
          212000,
          158900,
          100000,
          215200,
          134900,
          102000,
          114500,
          221500,
          142500,
          135000,
          176000,
          175900,
          187100,
          165500,
          233000,
          107900,
          160200,
          146800,
          269790,
          225000,
          143500,
          110000,
          109900,
          189000,
          118000,
          227680,
          144500,
          271000,
          155000,
          224000,
          183000,
          225000,
          139500,
          232600,
          189000,
          237000,
          139950,
          128000,
          144000,
          130500,
          171000,
          133500,
          187000,
          131500,
          215000,
          158000,
          174000,
          152000,
          152000,
          132500,
          250580,
          148500,
          248900,
          236000,
          109500,
          200500,
          66500,
          157000,
          187500,
          178000,
          100000,
          328900,
          140000,
          106500,
          135000,
          110000,
          153000,
          180000,
          240000,
          125500,
          143500,
          135000,
          285000,
          176000,
          222000,
          201000,
          190000,
          184900,
          253000,
          239799,
          192500,
          197500,
          132000,
          185000,
          116500,
          214900,
          178900,
          135000,
          37900,
          135000,
          99500,
          182000,
          85500,
          199900,
          110000,
          139000,
          159895,
          255900,
          197000,
          173900,
          337500,
          206000,
          232000,
          181000,
          119200,
          227000,
          203000,
          187500,
          160000,
          213490,
          176000,
          194000,
          191000,
          293077,
          230000,
          119750,
          315500,
          196000,
          262280,
          176485,
          200141,
          144500,
          255000,
          185850,
          335000,
          110500,
          328000,
          178000,
          154000,
          159500,
          194000,
          219500,
          155900,
          126000,
          192000,
          187500,
          147000,
          197000,
          176432,
          128000,
          157000,
          60000,
          135000,
          325000,
          181000,
          188000,
          129900,
          134500,
          117000,
          318000,
          184100,
          130000,
          212900,
          163900,
          115000,
          174000,
          215000,
          140000,
          93500,
          239500,
          169000,
          102000,
          196000,
          139000,
          149000,
          180000,
          174500,
          230000,
          235128,
          185000,
          129000,
          233170,
          173000,
          119500,
          250000,
          120000,
          195000,
          189000,
          158000,
          176000,
          219210,
          178000,
          148000,
          116050,
          197900,
          153500,
          107000,
          200000,
          113000,
          134500,
          229456,
          143000,
          184000,
          214000,
          127000,
          132500,
          142000,
          138887,
          195000,
          142500,
          265900,
          224900,
          230000,
          186500,
          169900,
          171750,
          165400,
          190000,
          128900,
          181000,
          144000,
          185750,
          227000,
          132500,
          278000,
          180500,
          115000,
          138500,
          225000,
          290000,
          232000,
          325000,
          202500,
          138000,
          179200,
          203000,
          119000,
          295493,
          111000,
          190000,
          82500,
          176500,
          227000,
          132500,
          100000,
          200000,
          155000,
          228500,
          177000,
          155835,
          283463,
          215000,
          170000,
          110000,
          149900,
          104900,
          156932,
          216000,
          193000,
          144000,
          274300,
          239000,
          91000,
          167500,
          237500,
          105000,
          235000,
          123000,
          246578,
          281213,
          137450,
          193000,
          193879,
          282922,
          133000,
          112000,
          230000,
          257000,
          136500,
          142000,
          140000,
          143750,
          64500,
          186500,
          160000,
          120500,
          149300,
          310000,
          179600,
          112000,
          287090,
          84500,
          185000,
          175000
         ],
         "yaxis": "y"
        }
       ],
       "layout": {
        "legend": {
         "tracegroupgap": 0
        },
        "template": {
         "data": {
          "bar": [
           {
            "error_x": {
             "color": "#f2f5fa"
            },
            "error_y": {
             "color": "#f2f5fa"
            },
            "marker": {
             "line": {
              "color": "rgb(17,17,17)",
              "width": 0.5
             },
             "pattern": {
              "fillmode": "overlay",
              "size": 10,
              "solidity": 0.2
             }
            },
            "type": "bar"
           }
          ],
          "barpolar": [
           {
            "marker": {
             "line": {
              "color": "rgb(17,17,17)",
              "width": 0.5
             },
             "pattern": {
              "fillmode": "overlay",
              "size": 10,
              "solidity": 0.2
             }
            },
            "type": "barpolar"
           }
          ],
          "carpet": [
           {
            "aaxis": {
             "endlinecolor": "#A2B1C6",
             "gridcolor": "#506784",
             "linecolor": "#506784",
             "minorgridcolor": "#506784",
             "startlinecolor": "#A2B1C6"
            },
            "baxis": {
             "endlinecolor": "#A2B1C6",
             "gridcolor": "#506784",
             "linecolor": "#506784",
             "minorgridcolor": "#506784",
             "startlinecolor": "#A2B1C6"
            },
            "type": "carpet"
           }
          ],
          "choropleth": [
           {
            "colorbar": {
             "outlinewidth": 0,
             "ticks": ""
            },
            "type": "choropleth"
           }
          ],
          "contour": [
           {
            "colorbar": {
             "outlinewidth": 0,
             "ticks": ""
            },
            "colorscale": [
             [
              0,
              "#0d0887"
             ],
             [
              0.1111111111111111,
              "#46039f"
             ],
             [
              0.2222222222222222,
              "#7201a8"
             ],
             [
              0.3333333333333333,
              "#9c179e"
             ],
             [
              0.4444444444444444,
              "#bd3786"
             ],
             [
              0.5555555555555556,
              "#d8576b"
             ],
             [
              0.6666666666666666,
              "#ed7953"
             ],
             [
              0.7777777777777778,
              "#fb9f3a"
             ],
             [
              0.8888888888888888,
              "#fdca26"
             ],
             [
              1,
              "#f0f921"
             ]
            ],
            "type": "contour"
           }
          ],
          "contourcarpet": [
           {
            "colorbar": {
             "outlinewidth": 0,
             "ticks": ""
            },
            "type": "contourcarpet"
           }
          ],
          "heatmap": [
           {
            "colorbar": {
             "outlinewidth": 0,
             "ticks": ""
            },
            "colorscale": [
             [
              0,
              "#0d0887"
             ],
             [
              0.1111111111111111,
              "#46039f"
             ],
             [
              0.2222222222222222,
              "#7201a8"
             ],
             [
              0.3333333333333333,
              "#9c179e"
             ],
             [
              0.4444444444444444,
              "#bd3786"
             ],
             [
              0.5555555555555556,
              "#d8576b"
             ],
             [
              0.6666666666666666,
              "#ed7953"
             ],
             [
              0.7777777777777778,
              "#fb9f3a"
             ],
             [
              0.8888888888888888,
              "#fdca26"
             ],
             [
              1,
              "#f0f921"
             ]
            ],
            "type": "heatmap"
           }
          ],
          "heatmapgl": [
           {
            "colorbar": {
             "outlinewidth": 0,
             "ticks": ""
            },
            "colorscale": [
             [
              0,
              "#0d0887"
             ],
             [
              0.1111111111111111,
              "#46039f"
             ],
             [
              0.2222222222222222,
              "#7201a8"
             ],
             [
              0.3333333333333333,
              "#9c179e"
             ],
             [
              0.4444444444444444,
              "#bd3786"
             ],
             [
              0.5555555555555556,
              "#d8576b"
             ],
             [
              0.6666666666666666,
              "#ed7953"
             ],
             [
              0.7777777777777778,
              "#fb9f3a"
             ],
             [
              0.8888888888888888,
              "#fdca26"
             ],
             [
              1,
              "#f0f921"
             ]
            ],
            "type": "heatmapgl"
           }
          ],
          "histogram": [
           {
            "marker": {
             "pattern": {
              "fillmode": "overlay",
              "size": 10,
              "solidity": 0.2
             }
            },
            "type": "histogram"
           }
          ],
          "histogram2d": [
           {
            "colorbar": {
             "outlinewidth": 0,
             "ticks": ""
            },
            "colorscale": [
             [
              0,
              "#0d0887"
             ],
             [
              0.1111111111111111,
              "#46039f"
             ],
             [
              0.2222222222222222,
              "#7201a8"
             ],
             [
              0.3333333333333333,
              "#9c179e"
             ],
             [
              0.4444444444444444,
              "#bd3786"
             ],
             [
              0.5555555555555556,
              "#d8576b"
             ],
             [
              0.6666666666666666,
              "#ed7953"
             ],
             [
              0.7777777777777778,
              "#fb9f3a"
             ],
             [
              0.8888888888888888,
              "#fdca26"
             ],
             [
              1,
              "#f0f921"
             ]
            ],
            "type": "histogram2d"
           }
          ],
          "histogram2dcontour": [
           {
            "colorbar": {
             "outlinewidth": 0,
             "ticks": ""
            },
            "colorscale": [
             [
              0,
              "#0d0887"
             ],
             [
              0.1111111111111111,
              "#46039f"
             ],
             [
              0.2222222222222222,
              "#7201a8"
             ],
             [
              0.3333333333333333,
              "#9c179e"
             ],
             [
              0.4444444444444444,
              "#bd3786"
             ],
             [
              0.5555555555555556,
              "#d8576b"
             ],
             [
              0.6666666666666666,
              "#ed7953"
             ],
             [
              0.7777777777777778,
              "#fb9f3a"
             ],
             [
              0.8888888888888888,
              "#fdca26"
             ],
             [
              1,
              "#f0f921"
             ]
            ],
            "type": "histogram2dcontour"
           }
          ],
          "mesh3d": [
           {
            "colorbar": {
             "outlinewidth": 0,
             "ticks": ""
            },
            "type": "mesh3d"
           }
          ],
          "parcoords": [
           {
            "line": {
             "colorbar": {
              "outlinewidth": 0,
              "ticks": ""
             }
            },
            "type": "parcoords"
           }
          ],
          "pie": [
           {
            "automargin": true,
            "type": "pie"
           }
          ],
          "scatter": [
           {
            "marker": {
             "line": {
              "color": "#283442"
             }
            },
            "type": "scatter"
           }
          ],
          "scatter3d": [
           {
            "line": {
             "colorbar": {
              "outlinewidth": 0,
              "ticks": ""
             }
            },
            "marker": {
             "colorbar": {
              "outlinewidth": 0,
              "ticks": ""
             }
            },
            "type": "scatter3d"
           }
          ],
          "scattercarpet": [
           {
            "marker": {
             "colorbar": {
              "outlinewidth": 0,
              "ticks": ""
             }
            },
            "type": "scattercarpet"
           }
          ],
          "scattergeo": [
           {
            "marker": {
             "colorbar": {
              "outlinewidth": 0,
              "ticks": ""
             }
            },
            "type": "scattergeo"
           }
          ],
          "scattergl": [
           {
            "marker": {
             "line": {
              "color": "#283442"
             }
            },
            "type": "scattergl"
           }
          ],
          "scattermapbox": [
           {
            "marker": {
             "colorbar": {
              "outlinewidth": 0,
              "ticks": ""
             }
            },
            "type": "scattermapbox"
           }
          ],
          "scatterpolar": [
           {
            "marker": {
             "colorbar": {
              "outlinewidth": 0,
              "ticks": ""
             }
            },
            "type": "scatterpolar"
           }
          ],
          "scatterpolargl": [
           {
            "marker": {
             "colorbar": {
              "outlinewidth": 0,
              "ticks": ""
             }
            },
            "type": "scatterpolargl"
           }
          ],
          "scatterternary": [
           {
            "marker": {
             "colorbar": {
              "outlinewidth": 0,
              "ticks": ""
             }
            },
            "type": "scatterternary"
           }
          ],
          "surface": [
           {
            "colorbar": {
             "outlinewidth": 0,
             "ticks": ""
            },
            "colorscale": [
             [
              0,
              "#0d0887"
             ],
             [
              0.1111111111111111,
              "#46039f"
             ],
             [
              0.2222222222222222,
              "#7201a8"
             ],
             [
              0.3333333333333333,
              "#9c179e"
             ],
             [
              0.4444444444444444,
              "#bd3786"
             ],
             [
              0.5555555555555556,
              "#d8576b"
             ],
             [
              0.6666666666666666,
              "#ed7953"
             ],
             [
              0.7777777777777778,
              "#fb9f3a"
             ],
             [
              0.8888888888888888,
              "#fdca26"
             ],
             [
              1,
              "#f0f921"
             ]
            ],
            "type": "surface"
           }
          ],
          "table": [
           {
            "cells": {
             "fill": {
              "color": "#506784"
             },
             "line": {
              "color": "rgb(17,17,17)"
             }
            },
            "header": {
             "fill": {
              "color": "#2a3f5f"
             },
             "line": {
              "color": "rgb(17,17,17)"
             }
            },
            "type": "table"
           }
          ]
         },
         "layout": {
          "annotationdefaults": {
           "arrowcolor": "#f2f5fa",
           "arrowhead": 0,
           "arrowwidth": 1
          },
          "autotypenumbers": "strict",
          "coloraxis": {
           "colorbar": {
            "outlinewidth": 0,
            "ticks": ""
           }
          },
          "colorscale": {
           "diverging": [
            [
             0,
             "#8e0152"
            ],
            [
             0.1,
             "#c51b7d"
            ],
            [
             0.2,
             "#de77ae"
            ],
            [
             0.3,
             "#f1b6da"
            ],
            [
             0.4,
             "#fde0ef"
            ],
            [
             0.5,
             "#f7f7f7"
            ],
            [
             0.6,
             "#e6f5d0"
            ],
            [
             0.7,
             "#b8e186"
            ],
            [
             0.8,
             "#7fbc41"
            ],
            [
             0.9,
             "#4d9221"
            ],
            [
             1,
             "#276419"
            ]
           ],
           "sequential": [
            [
             0,
             "#0d0887"
            ],
            [
             0.1111111111111111,
             "#46039f"
            ],
            [
             0.2222222222222222,
             "#7201a8"
            ],
            [
             0.3333333333333333,
             "#9c179e"
            ],
            [
             0.4444444444444444,
             "#bd3786"
            ],
            [
             0.5555555555555556,
             "#d8576b"
            ],
            [
             0.6666666666666666,
             "#ed7953"
            ],
            [
             0.7777777777777778,
             "#fb9f3a"
            ],
            [
             0.8888888888888888,
             "#fdca26"
            ],
            [
             1,
             "#f0f921"
            ]
           ],
           "sequentialminus": [
            [
             0,
             "#0d0887"
            ],
            [
             0.1111111111111111,
             "#46039f"
            ],
            [
             0.2222222222222222,
             "#7201a8"
            ],
            [
             0.3333333333333333,
             "#9c179e"
            ],
            [
             0.4444444444444444,
             "#bd3786"
            ],
            [
             0.5555555555555556,
             "#d8576b"
            ],
            [
             0.6666666666666666,
             "#ed7953"
            ],
            [
             0.7777777777777778,
             "#fb9f3a"
            ],
            [
             0.8888888888888888,
             "#fdca26"
            ],
            [
             1,
             "#f0f921"
            ]
           ]
          },
          "colorway": [
           "#636efa",
           "#EF553B",
           "#00cc96",
           "#ab63fa",
           "#FFA15A",
           "#19d3f3",
           "#FF6692",
           "#B6E880",
           "#FF97FF",
           "#FECB52"
          ],
          "font": {
           "color": "#f2f5fa"
          },
          "geo": {
           "bgcolor": "rgb(17,17,17)",
           "lakecolor": "rgb(17,17,17)",
           "landcolor": "rgb(17,17,17)",
           "showlakes": true,
           "showland": true,
           "subunitcolor": "#506784"
          },
          "hoverlabel": {
           "align": "left"
          },
          "hovermode": "closest",
          "mapbox": {
           "style": "dark"
          },
          "paper_bgcolor": "rgb(17,17,17)",
          "plot_bgcolor": "rgb(17,17,17)",
          "polar": {
           "angularaxis": {
            "gridcolor": "#506784",
            "linecolor": "#506784",
            "ticks": ""
           },
           "bgcolor": "rgb(17,17,17)",
           "radialaxis": {
            "gridcolor": "#506784",
            "linecolor": "#506784",
            "ticks": ""
           }
          },
          "scene": {
           "xaxis": {
            "backgroundcolor": "rgb(17,17,17)",
            "gridcolor": "#506784",
            "gridwidth": 2,
            "linecolor": "#506784",
            "showbackground": true,
            "ticks": "",
            "zerolinecolor": "#C8D4E3"
           },
           "yaxis": {
            "backgroundcolor": "rgb(17,17,17)",
            "gridcolor": "#506784",
            "gridwidth": 2,
            "linecolor": "#506784",
            "showbackground": true,
            "ticks": "",
            "zerolinecolor": "#C8D4E3"
           },
           "zaxis": {
            "backgroundcolor": "rgb(17,17,17)",
            "gridcolor": "#506784",
            "gridwidth": 2,
            "linecolor": "#506784",
            "showbackground": true,
            "ticks": "",
            "zerolinecolor": "#C8D4E3"
           }
          },
          "shapedefaults": {
           "line": {
            "color": "#f2f5fa"
           }
          },
          "sliderdefaults": {
           "bgcolor": "#C8D4E3",
           "bordercolor": "rgb(17,17,17)",
           "borderwidth": 1,
           "tickwidth": 0
          },
          "ternary": {
           "aaxis": {
            "gridcolor": "#506784",
            "linecolor": "#506784",
            "ticks": ""
           },
           "baxis": {
            "gridcolor": "#506784",
            "linecolor": "#506784",
            "ticks": ""
           },
           "bgcolor": "rgb(17,17,17)",
           "caxis": {
            "gridcolor": "#506784",
            "linecolor": "#506784",
            "ticks": ""
           }
          },
          "title": {
           "x": 0.05
          },
          "updatemenudefaults": {
           "bgcolor": "#506784",
           "borderwidth": 0
          },
          "xaxis": {
           "automargin": true,
           "gridcolor": "#283442",
           "linecolor": "#506784",
           "ticks": "",
           "title": {
            "standoff": 15
           },
           "zerolinecolor": "#283442",
           "zerolinewidth": 2
          },
          "yaxis": {
           "automargin": true,
           "gridcolor": "#283442",
           "linecolor": "#506784",
           "ticks": "",
           "title": {
            "standoff": 15
           },
           "zerolinecolor": "#283442",
           "zerolinewidth": 2
          }
         }
        },
        "title": {
         "font": {
          "size": 20
         },
         "text": "GarageCars vs SalePrice"
        },
        "xaxis": {
         "anchor": "y",
         "domain": [
          0,
          1
         ],
         "title": {
          "text": "GarageCars"
         }
        },
        "yaxis": {
         "anchor": "x",
         "domain": [
          0,
          1
         ],
         "title": {
          "text": "SalePrice"
         }
        }
       }
      }
     },
     "metadata": {},
     "output_type": "display_data"
    },
    {
     "data": {
      "application/vnd.plotly.v1+json": {
       "config": {
        "plotlyServerURL": "https://plot.ly"
       },
       "data": [
        {
         "hovertemplate": "TotalBsmtSF=%{x}<br>1stFlrSF=%{y}<extra></extra>",
         "legendgroup": "",
         "marker": {
          "color": "#636efa",
          "symbol": "circle"
         },
         "mode": "markers",
         "name": "",
         "orientation": "v",
         "showlegend": false,
         "type": "scatter",
         "x": [
          856,
          920,
          1145,
          1686,
          1040,
          1494,
          1114,
          1029,
          1158,
          1040,
          1704,
          1228,
          1234,
          1561,
          1117,
          1057,
          1088,
          1752,
          1656,
          955,
          384,
          860,
          780,
          1158,
          1370,
          1143,
          1453,
          747,
          845,
          952,
          1065,
          990,
          824,
          1588,
          960,
          1610,
          741,
          1226,
          994,
          384,
          1125,
          728,
          1199,
          1362,
          672,
          660,
          924,
          992,
          1063,
          1267,
          1304,
          1214,
          1004,
          928,
          864,
          1734,
          910,
          1490,
          715,
          884,
          1080,
          896,
          825,
          774,
          991,
          1232,
          1541,
          882,
          1582,
          840,
          1188,
          1431,
          864,
          1121,
          848,
          720,
          1140,
          1092,
          1212,
          900,
          1436,
          1248,
          1498,
          1010,
          1203,
          912,
          1373,
          860,
          1414,
          735,
          1566,
          948,
          1367,
          840,
          798,
          1314,
          975,
          864,
          1604,
          1482,
          506,
          680,
          802,
          1143,
          1152,
          816,
          1160,
          1262,
          1314,
          1468,
          858,
          882,
          1416,
          1003,
          910,
          1028,
          894,
          2000,
          319,
          861,
          697,
          972,
          716,
          1372,
          1719,
          1383,
          1056,
          1358,
          943,
          1536,
          967,
          972,
          1478,
          1158,
          883,
          1268,
          953,
          847,
          870,
          982,
          1293,
          939,
          1041,
          1468,
          788,
          735,
          1144,
          894,
          864,
          1092,
          1310,
          806,
          1281,
          1034,
          1340,
          672,
          756,
          1196,
          907,
          1208,
          901,
          926,
          1078,
          1258,
          915,
          1436,
          930,
          780,
          872,
          768,
          1242,
          588,
          832,
          715,
          1040,
          1375,
          728,
          1626,
          832,
          1494,
          1478,
          1705,
          1216,
          999,
          1073,
          728,
          1026,
          864,
          866,
          777,
          1218,
          1041,
          1368,
          689,
          794,
          1244,
          1257,
          1461,
          707,
          880,
          864,
          969,
          654,
          768,
          928,
          998,
          1374,
          996,
          1095,
          1517,
          943,
          864,
          846,
          384,
          1050,
          816,
          840,
          770,
          848,
          924,
          684,
          1058,
          908,
          1494,
          1040,
          1440,
          1299,
          1120,
          936,
          783,
          832,
          1482,
          980,
          1554,
          1386,
          1520,
          813,
          755,
          880,
          1053,
          1486,
          1406,
          1408,
          1188,
          738,
          672,
          1208,
          988,
          1291,
          1626,
          1195,
          874,
          1362,
          848,
          927,
          1391,
          1164,
          1324,
          728,
          876,
          270,
          1228,
          1064,
          971,
          848,
          864,
          1698,
          1232,
          1595,
          1153,
          948,
          893,
          864,
          1349,
          952,
          576,
          660,
          1479,
          1030,
          866,
          672,
          1145,
          756,
          858,
          836,
          912,
          1614,
          864,
          975,
          1237,
          761,
          1413,
          1097,
          956,
          901,
          1145,
          1029,
          1117,
          1496,
          660,
          773,
          1196,
          728,
          936,
          1417,
          848,
          1568,
          1010,
          1358,
          798,
          847,
          778,
          1489,
          1454,
          941,
          1144,
          1067,
          1099,
          768,
          1390,
          864,
          528,
          848,
          1273,
          1127,
          702,
          1090,
          1040,
          1148,
          1372,
          1002,
          1638,
          1050,
          894,
          804,
          676,
          1090,
          1156,
          808,
          892,
          1698,
          780,
          951,
          912,
          858,
          992,
          783,
          1670,
          876,
          1268,
          1134,
          1181,
          832,
          964,
          1466,
          1500,
          1176,
          1113,
          1391,
          936,
          1161,
          1057,
          1337,
          858,
          817,
          783,
          1098,
          600,
          720,
          918,
          1428,
          440,
          1241,
          894,
          1121,
          1266,
          1128,
          770,
          750,
          1700,
          1187,
          1574,
          1346,
          1082,
          810,
          1504,
          1220,
          384,
          1362,
          1132,
          1199,
          1346,
          1638,
          1654,
          920,
          1620,
          1306,
          1475,
          1302,
          1316,
          1216,
          1065,
          1364,
          1104,
          1103,
          1306,
          799,
          727,
          690,
          1240,
          800,
          848,
          990,
          1459,
          691,
          936,
          1247,
          1314,
          672,
          1271,
          290,
          1010,
          1463,
          924,
          773,
          816,
          1008,
          833,
          1734,
          408,
          894,
          1552,
          384,
          1005,
          1373,
          847,
          936,
          974,
          1128,
          916,
          960,
          1567,
          952,
          1042,
          1298,
          704,
          1314,
          1580,
          901,
          894,
          1502,
          959,
          876,
          1216,
          1120,
          831,
          994,
          663,
          728,
          879,
          1212,
          1051,
          864,
          866,
          1056,
          1056,
          1682,
          672,
          925,
          1300,
          1040,
          788,
          894,
          1075,
          1106,
          1188,
          747,
          847,
          1141,
          1476,
          884,
          792,
          756,
          1012,
          1405,
          746,
          856,
          1050,
          1405,
          874,
          1489,
          1573,
          780,
          1501,
          1152,
          864,
          1052,
          978,
          1165,
          1616,
          1652,
          1368,
          990,
          1278,
          1274,
          948,
          1622,
          864,
          750,
          420,
          935,
          1588,
          911,
          816,
          916,
          1114,
          1284,
          896,
          728,
          1732,
          1482,
          570,
          864,
          1078,
          715,
          616,
          814,
          873,
          848,
          1108,
          1571,
          768,
          384,
          1205,
          560,
          1525,
          864,
          1356,
          1094,
          976,
          839,
          1286,
          1485,
          768,
          833,
          944,
          1844,
          848,
          1252,
          913,
          958,
          656,
          936,
          1126,
          864,
          848,
          1017,
          1422,
          560,
          1573,
          1140,
          1221,
          953
         ],
         "xaxis": "x",
         "y": [
          856,
          920,
          1145,
          1694,
          1040,
          1494,
          1114,
          1339,
          1158,
          1060,
          1704,
          1228,
          1234,
          1561,
          1132,
          1057,
          1324,
          1752,
          1656,
          955,
          1360,
          860,
          780,
          1158,
          1370,
          1143,
          1479,
          747,
          845,
          952,
          1065,
          990,
          905,
          1588,
          960,
          1610,
          977,
          1226,
          1216,
          774,
          1125,
          728,
          1199,
          1586,
          840,
          660,
          1216,
          1022,
          1327,
          1296,
          1682,
          1214,
          1004,
          928,
          864,
          1734,
          910,
          1501,
          875,
          884,
          1080,
          896,
          1097,
          774,
          991,
          1232,
          1541,
          882,
          1610,
          840,
          1217,
          1431,
          864,
          1121,
          848,
          720,
          1696,
          1092,
          1212,
          932,
          1436,
          1248,
          1498,
          1010,
          1214,
          912,
          1555,
          860,
          1414,
          798,
          1566,
          1222,
          1375,
          840,
          798,
          1314,
          1005,
          864,
          1604,
          1482,
          1212,
          764,
          802,
          1113,
          1164,
          816,
          1156,
          1262,
          1314,
          1468,
          858,
          900,
          1644,
          1003,
          910,
          1210,
          894,
          2000,
          1035,
          861,
          697,
          972,
          716,
          1472,
          1719,
          1383,
          1056,
          1358,
          943,
          1536,
          993,
          972,
          1478,
          1167,
          988,
          1268,
          953,
          847,
          914,
          1007,
          1301,
          939,
          1125,
          1479,
          788,
          735,
          1144,
          894,
          876,
          1112,
          1310,
          806,
          1620,
          1050,
          1340,
          672,
          756,
          1196,
          907,
          1208,
          1088,
          926,
          1128,
          1258,
          933,
          1689,
          956,
          780,
          888,
          786,
          1242,
          833,
          832,
          849,
          1040,
          1414,
          888,
          1634,
          832,
          1652,
          1493,
          1718,
          1216,
          999,
          1073,
          728,
          1133,
          899,
          866,
          1065,
          1218,
          1041,
          1368,
          1378,
          882,
          1244,
          1266,
          1509,
          707,
          880,
          864,
          997,
          664,
          768,
          928,
          1006,
          1557,
          996,
          1166,
          1535,
          943,
          864,
          846,
          774,
          1050,
          816,
          860,
          770,
          848,
          924,
          684,
          1058,
          927,
          1494,
          1040,
          1476,
          1299,
          1120,
          1054,
          807,
          832,
          1482,
          980,
          1554,
          1411,
          1567,
          822,
          755,
          909,
          1053,
          1486,
          1454,
          1679,
          1437,
          738,
          697,
          1208,
          988,
          1291,
          1668,
          1195,
          874,
          1362,
          848,
          1067,
          1391,
          1164,
          1324,
          728,
          904,
          729,
          1228,
          1350,
          971,
          848,
          864,
          1698,
          1232,
          1616,
          1153,
          948,
          901,
          864,
          1349,
          980,
          792,
          660,
          1494,
          1038,
          866,
          672,
          1301,
          764,
          858,
          1220,
          912,
          1614,
          894,
          1004,
          1253,
          810,
          1430,
          1110,
          956,
          901,
          1145,
          1062,
          1127,
          1496,
          1285,
          773,
          1196,
          728,
          1128,
          1428,
          848,
          1689,
          1052,
          1358,
          798,
          847,
          944,
          1489,
          1434,
          941,
          1144,
          1067,
          1099,
          768,
          1701,
          864,
          1094,
          848,
          1456,
          1445,
          702,
          1370,
          1097,
          1148,
          1372,
          1002,
          1646,
          1062,
          894,
          804,
          676,
          1090,
          1187,
          808,
          892,
          1709,
          983,
          951,
          1236,
          858,
          1306,
          807,
          1670,
          902,
          1268,
          1229,
          1234,
          1098,
          993,
          1466,
          1500,
          1200,
          1113,
          1391,
          936,
          1381,
          1057,
          1337,
          858,
          824,
          783,
          1098,
          600,
          720,
          918,
          1428,
          869,
          1241,
          894,
          1121,
          1266,
          1149,
          778,
          750,
          1718,
          1208,
          1574,
          1504,
          1082,
          810,
          1504,
          1360,
          802,
          1506,
          1132,
          1220,
          1504,
          1646,
          1654,
          954,
          1620,
          1306,
          1532,
          1302,
          1316,
          1526,
          1091,
          1364,
          1130,
          1103,
          1306,
          799,
          829,
          698,
          1240,
          960,
          848,
          990,
          1459,
          691,
          996,
          1247,
          1314,
          757,
          1601,
          438,
          1134,
          1500,
          948,
          773,
          816,
          1008,
          833,
          1734,
          779,
          894,
          1552,
          812,
          1005,
          1555,
          847,
          936,
          974,
          1142,
          916,
          986,
          1567,
          952,
          1042,
          1298,
          860,
          1314,
          1580,
          943,
          894,
          1502,
          959,
          923,
          1298,
          1130,
          831,
          1028,
          663,
          728,
          879,
          1212,
          1382,
          864,
          866,
          1074,
          1056,
          1700,
          672,
          999,
          1314,
          1168,
          788,
          894,
          1507,
          1190,
          1188,
          892,
          847,
          1141,
          1484,
          884,
          792,
          756,
          1034,
          1405,
          760,
          1166,
          1050,
          1337,
          874,
          1489,
          1573,
          825,
          1659,
          1152,
          864,
          1052,
          1005,
          1203,
          1616,
          1652,
          1368,
          990,
          1294,
          1274,
          948,
          1630,
          948,
          1061,
          708,
          955,
          1588,
          954,
          816,
          920,
          1114,
          1284,
          1172,
          728,
          1776,
          1494,
          1222,
          892,
          1078,
          1281,
          616,
          814,
          882,
          848,
          1108,
          1571,
          790,
          754,
          2117,
          698,
          1525,
          900,
          1500,
          1133,
          1160,
          864,
          1294,
          1464,
          768,
          833,
          944,
          1844,
          848,
          1252,
          1048,
          958,
          968,
          962,
          1126,
          864,
          848,
          1026,
          1422,
          796,
          1578,
          1140,
          1221,
          953
         ],
         "yaxis": "y"
        }
       ],
       "layout": {
        "legend": {
         "tracegroupgap": 0
        },
        "template": {
         "data": {
          "bar": [
           {
            "error_x": {
             "color": "#f2f5fa"
            },
            "error_y": {
             "color": "#f2f5fa"
            },
            "marker": {
             "line": {
              "color": "rgb(17,17,17)",
              "width": 0.5
             },
             "pattern": {
              "fillmode": "overlay",
              "size": 10,
              "solidity": 0.2
             }
            },
            "type": "bar"
           }
          ],
          "barpolar": [
           {
            "marker": {
             "line": {
              "color": "rgb(17,17,17)",
              "width": 0.5
             },
             "pattern": {
              "fillmode": "overlay",
              "size": 10,
              "solidity": 0.2
             }
            },
            "type": "barpolar"
           }
          ],
          "carpet": [
           {
            "aaxis": {
             "endlinecolor": "#A2B1C6",
             "gridcolor": "#506784",
             "linecolor": "#506784",
             "minorgridcolor": "#506784",
             "startlinecolor": "#A2B1C6"
            },
            "baxis": {
             "endlinecolor": "#A2B1C6",
             "gridcolor": "#506784",
             "linecolor": "#506784",
             "minorgridcolor": "#506784",
             "startlinecolor": "#A2B1C6"
            },
            "type": "carpet"
           }
          ],
          "choropleth": [
           {
            "colorbar": {
             "outlinewidth": 0,
             "ticks": ""
            },
            "type": "choropleth"
           }
          ],
          "contour": [
           {
            "colorbar": {
             "outlinewidth": 0,
             "ticks": ""
            },
            "colorscale": [
             [
              0,
              "#0d0887"
             ],
             [
              0.1111111111111111,
              "#46039f"
             ],
             [
              0.2222222222222222,
              "#7201a8"
             ],
             [
              0.3333333333333333,
              "#9c179e"
             ],
             [
              0.4444444444444444,
              "#bd3786"
             ],
             [
              0.5555555555555556,
              "#d8576b"
             ],
             [
              0.6666666666666666,
              "#ed7953"
             ],
             [
              0.7777777777777778,
              "#fb9f3a"
             ],
             [
              0.8888888888888888,
              "#fdca26"
             ],
             [
              1,
              "#f0f921"
             ]
            ],
            "type": "contour"
           }
          ],
          "contourcarpet": [
           {
            "colorbar": {
             "outlinewidth": 0,
             "ticks": ""
            },
            "type": "contourcarpet"
           }
          ],
          "heatmap": [
           {
            "colorbar": {
             "outlinewidth": 0,
             "ticks": ""
            },
            "colorscale": [
             [
              0,
              "#0d0887"
             ],
             [
              0.1111111111111111,
              "#46039f"
             ],
             [
              0.2222222222222222,
              "#7201a8"
             ],
             [
              0.3333333333333333,
              "#9c179e"
             ],
             [
              0.4444444444444444,
              "#bd3786"
             ],
             [
              0.5555555555555556,
              "#d8576b"
             ],
             [
              0.6666666666666666,
              "#ed7953"
             ],
             [
              0.7777777777777778,
              "#fb9f3a"
             ],
             [
              0.8888888888888888,
              "#fdca26"
             ],
             [
              1,
              "#f0f921"
             ]
            ],
            "type": "heatmap"
           }
          ],
          "heatmapgl": [
           {
            "colorbar": {
             "outlinewidth": 0,
             "ticks": ""
            },
            "colorscale": [
             [
              0,
              "#0d0887"
             ],
             [
              0.1111111111111111,
              "#46039f"
             ],
             [
              0.2222222222222222,
              "#7201a8"
             ],
             [
              0.3333333333333333,
              "#9c179e"
             ],
             [
              0.4444444444444444,
              "#bd3786"
             ],
             [
              0.5555555555555556,
              "#d8576b"
             ],
             [
              0.6666666666666666,
              "#ed7953"
             ],
             [
              0.7777777777777778,
              "#fb9f3a"
             ],
             [
              0.8888888888888888,
              "#fdca26"
             ],
             [
              1,
              "#f0f921"
             ]
            ],
            "type": "heatmapgl"
           }
          ],
          "histogram": [
           {
            "marker": {
             "pattern": {
              "fillmode": "overlay",
              "size": 10,
              "solidity": 0.2
             }
            },
            "type": "histogram"
           }
          ],
          "histogram2d": [
           {
            "colorbar": {
             "outlinewidth": 0,
             "ticks": ""
            },
            "colorscale": [
             [
              0,
              "#0d0887"
             ],
             [
              0.1111111111111111,
              "#46039f"
             ],
             [
              0.2222222222222222,
              "#7201a8"
             ],
             [
              0.3333333333333333,
              "#9c179e"
             ],
             [
              0.4444444444444444,
              "#bd3786"
             ],
             [
              0.5555555555555556,
              "#d8576b"
             ],
             [
              0.6666666666666666,
              "#ed7953"
             ],
             [
              0.7777777777777778,
              "#fb9f3a"
             ],
             [
              0.8888888888888888,
              "#fdca26"
             ],
             [
              1,
              "#f0f921"
             ]
            ],
            "type": "histogram2d"
           }
          ],
          "histogram2dcontour": [
           {
            "colorbar": {
             "outlinewidth": 0,
             "ticks": ""
            },
            "colorscale": [
             [
              0,
              "#0d0887"
             ],
             [
              0.1111111111111111,
              "#46039f"
             ],
             [
              0.2222222222222222,
              "#7201a8"
             ],
             [
              0.3333333333333333,
              "#9c179e"
             ],
             [
              0.4444444444444444,
              "#bd3786"
             ],
             [
              0.5555555555555556,
              "#d8576b"
             ],
             [
              0.6666666666666666,
              "#ed7953"
             ],
             [
              0.7777777777777778,
              "#fb9f3a"
             ],
             [
              0.8888888888888888,
              "#fdca26"
             ],
             [
              1,
              "#f0f921"
             ]
            ],
            "type": "histogram2dcontour"
           }
          ],
          "mesh3d": [
           {
            "colorbar": {
             "outlinewidth": 0,
             "ticks": ""
            },
            "type": "mesh3d"
           }
          ],
          "parcoords": [
           {
            "line": {
             "colorbar": {
              "outlinewidth": 0,
              "ticks": ""
             }
            },
            "type": "parcoords"
           }
          ],
          "pie": [
           {
            "automargin": true,
            "type": "pie"
           }
          ],
          "scatter": [
           {
            "marker": {
             "line": {
              "color": "#283442"
             }
            },
            "type": "scatter"
           }
          ],
          "scatter3d": [
           {
            "line": {
             "colorbar": {
              "outlinewidth": 0,
              "ticks": ""
             }
            },
            "marker": {
             "colorbar": {
              "outlinewidth": 0,
              "ticks": ""
             }
            },
            "type": "scatter3d"
           }
          ],
          "scattercarpet": [
           {
            "marker": {
             "colorbar": {
              "outlinewidth": 0,
              "ticks": ""
             }
            },
            "type": "scattercarpet"
           }
          ],
          "scattergeo": [
           {
            "marker": {
             "colorbar": {
              "outlinewidth": 0,
              "ticks": ""
             }
            },
            "type": "scattergeo"
           }
          ],
          "scattergl": [
           {
            "marker": {
             "line": {
              "color": "#283442"
             }
            },
            "type": "scattergl"
           }
          ],
          "scattermapbox": [
           {
            "marker": {
             "colorbar": {
              "outlinewidth": 0,
              "ticks": ""
             }
            },
            "type": "scattermapbox"
           }
          ],
          "scatterpolar": [
           {
            "marker": {
             "colorbar": {
              "outlinewidth": 0,
              "ticks": ""
             }
            },
            "type": "scatterpolar"
           }
          ],
          "scatterpolargl": [
           {
            "marker": {
             "colorbar": {
              "outlinewidth": 0,
              "ticks": ""
             }
            },
            "type": "scatterpolargl"
           }
          ],
          "scatterternary": [
           {
            "marker": {
             "colorbar": {
              "outlinewidth": 0,
              "ticks": ""
             }
            },
            "type": "scatterternary"
           }
          ],
          "surface": [
           {
            "colorbar": {
             "outlinewidth": 0,
             "ticks": ""
            },
            "colorscale": [
             [
              0,
              "#0d0887"
             ],
             [
              0.1111111111111111,
              "#46039f"
             ],
             [
              0.2222222222222222,
              "#7201a8"
             ],
             [
              0.3333333333333333,
              "#9c179e"
             ],
             [
              0.4444444444444444,
              "#bd3786"
             ],
             [
              0.5555555555555556,
              "#d8576b"
             ],
             [
              0.6666666666666666,
              "#ed7953"
             ],
             [
              0.7777777777777778,
              "#fb9f3a"
             ],
             [
              0.8888888888888888,
              "#fdca26"
             ],
             [
              1,
              "#f0f921"
             ]
            ],
            "type": "surface"
           }
          ],
          "table": [
           {
            "cells": {
             "fill": {
              "color": "#506784"
             },
             "line": {
              "color": "rgb(17,17,17)"
             }
            },
            "header": {
             "fill": {
              "color": "#2a3f5f"
             },
             "line": {
              "color": "rgb(17,17,17)"
             }
            },
            "type": "table"
           }
          ]
         },
         "layout": {
          "annotationdefaults": {
           "arrowcolor": "#f2f5fa",
           "arrowhead": 0,
           "arrowwidth": 1
          },
          "autotypenumbers": "strict",
          "coloraxis": {
           "colorbar": {
            "outlinewidth": 0,
            "ticks": ""
           }
          },
          "colorscale": {
           "diverging": [
            [
             0,
             "#8e0152"
            ],
            [
             0.1,
             "#c51b7d"
            ],
            [
             0.2,
             "#de77ae"
            ],
            [
             0.3,
             "#f1b6da"
            ],
            [
             0.4,
             "#fde0ef"
            ],
            [
             0.5,
             "#f7f7f7"
            ],
            [
             0.6,
             "#e6f5d0"
            ],
            [
             0.7,
             "#b8e186"
            ],
            [
             0.8,
             "#7fbc41"
            ],
            [
             0.9,
             "#4d9221"
            ],
            [
             1,
             "#276419"
            ]
           ],
           "sequential": [
            [
             0,
             "#0d0887"
            ],
            [
             0.1111111111111111,
             "#46039f"
            ],
            [
             0.2222222222222222,
             "#7201a8"
            ],
            [
             0.3333333333333333,
             "#9c179e"
            ],
            [
             0.4444444444444444,
             "#bd3786"
            ],
            [
             0.5555555555555556,
             "#d8576b"
            ],
            [
             0.6666666666666666,
             "#ed7953"
            ],
            [
             0.7777777777777778,
             "#fb9f3a"
            ],
            [
             0.8888888888888888,
             "#fdca26"
            ],
            [
             1,
             "#f0f921"
            ]
           ],
           "sequentialminus": [
            [
             0,
             "#0d0887"
            ],
            [
             0.1111111111111111,
             "#46039f"
            ],
            [
             0.2222222222222222,
             "#7201a8"
            ],
            [
             0.3333333333333333,
             "#9c179e"
            ],
            [
             0.4444444444444444,
             "#bd3786"
            ],
            [
             0.5555555555555556,
             "#d8576b"
            ],
            [
             0.6666666666666666,
             "#ed7953"
            ],
            [
             0.7777777777777778,
             "#fb9f3a"
            ],
            [
             0.8888888888888888,
             "#fdca26"
            ],
            [
             1,
             "#f0f921"
            ]
           ]
          },
          "colorway": [
           "#636efa",
           "#EF553B",
           "#00cc96",
           "#ab63fa",
           "#FFA15A",
           "#19d3f3",
           "#FF6692",
           "#B6E880",
           "#FF97FF",
           "#FECB52"
          ],
          "font": {
           "color": "#f2f5fa"
          },
          "geo": {
           "bgcolor": "rgb(17,17,17)",
           "lakecolor": "rgb(17,17,17)",
           "landcolor": "rgb(17,17,17)",
           "showlakes": true,
           "showland": true,
           "subunitcolor": "#506784"
          },
          "hoverlabel": {
           "align": "left"
          },
          "hovermode": "closest",
          "mapbox": {
           "style": "dark"
          },
          "paper_bgcolor": "rgb(17,17,17)",
          "plot_bgcolor": "rgb(17,17,17)",
          "polar": {
           "angularaxis": {
            "gridcolor": "#506784",
            "linecolor": "#506784",
            "ticks": ""
           },
           "bgcolor": "rgb(17,17,17)",
           "radialaxis": {
            "gridcolor": "#506784",
            "linecolor": "#506784",
            "ticks": ""
           }
          },
          "scene": {
           "xaxis": {
            "backgroundcolor": "rgb(17,17,17)",
            "gridcolor": "#506784",
            "gridwidth": 2,
            "linecolor": "#506784",
            "showbackground": true,
            "ticks": "",
            "zerolinecolor": "#C8D4E3"
           },
           "yaxis": {
            "backgroundcolor": "rgb(17,17,17)",
            "gridcolor": "#506784",
            "gridwidth": 2,
            "linecolor": "#506784",
            "showbackground": true,
            "ticks": "",
            "zerolinecolor": "#C8D4E3"
           },
           "zaxis": {
            "backgroundcolor": "rgb(17,17,17)",
            "gridcolor": "#506784",
            "gridwidth": 2,
            "linecolor": "#506784",
            "showbackground": true,
            "ticks": "",
            "zerolinecolor": "#C8D4E3"
           }
          },
          "shapedefaults": {
           "line": {
            "color": "#f2f5fa"
           }
          },
          "sliderdefaults": {
           "bgcolor": "#C8D4E3",
           "bordercolor": "rgb(17,17,17)",
           "borderwidth": 1,
           "tickwidth": 0
          },
          "ternary": {
           "aaxis": {
            "gridcolor": "#506784",
            "linecolor": "#506784",
            "ticks": ""
           },
           "baxis": {
            "gridcolor": "#506784",
            "linecolor": "#506784",
            "ticks": ""
           },
           "bgcolor": "rgb(17,17,17)",
           "caxis": {
            "gridcolor": "#506784",
            "linecolor": "#506784",
            "ticks": ""
           }
          },
          "title": {
           "x": 0.05
          },
          "updatemenudefaults": {
           "bgcolor": "#506784",
           "borderwidth": 0
          },
          "xaxis": {
           "automargin": true,
           "gridcolor": "#283442",
           "linecolor": "#506784",
           "ticks": "",
           "title": {
            "standoff": 15
           },
           "zerolinecolor": "#283442",
           "zerolinewidth": 2
          },
          "yaxis": {
           "automargin": true,
           "gridcolor": "#283442",
           "linecolor": "#506784",
           "ticks": "",
           "title": {
            "standoff": 15
           },
           "zerolinecolor": "#283442",
           "zerolinewidth": 2
          }
         }
        },
        "title": {
         "font": {
          "size": 20
         },
         "text": "TotalBsmtSF vs 1stFlrSF"
        },
        "xaxis": {
         "anchor": "y",
         "domain": [
          0,
          1
         ],
         "title": {
          "text": "TotalBsmtSF"
         }
        },
        "yaxis": {
         "anchor": "x",
         "domain": [
          0,
          1
         ],
         "title": {
          "text": "1stFlrSF"
         }
        }
       }
      }
     },
     "metadata": {},
     "output_type": "display_data"
    },
    {
     "data": {
      "application/vnd.plotly.v1+json": {
       "config": {
        "plotlyServerURL": "https://plot.ly"
       },
       "data": [
        {
         "hovertemplate": "GrLivArea=%{x}<br>TotRmsAbvGrd=%{y}<extra></extra>",
         "legendgroup": "",
         "marker": {
          "color": "#636efa",
          "symbol": "circle"
         },
         "mode": "markers",
         "name": "",
         "orientation": "v",
         "showlegend": false,
         "type": "scatter",
         "x": [
          1710,
          1786,
          2198,
          1694,
          1040,
          1494,
          1114,
          1339,
          2376,
          1060,
          1704,
          1228,
          1234,
          1561,
          2452,
          1057,
          1324,
          1752,
          1656,
          955,
          1360,
          1720,
          780,
          1158,
          1370,
          2473,
          1479,
          747,
          845,
          952,
          1065,
          990,
          1786,
          1588,
          960,
          1610,
          1732,
          1226,
          1855,
          1430,
          1125,
          1456,
          1199,
          1586,
          840,
          1348,
          2157,
          2054,
          1327,
          1296,
          1682,
          1214,
          1852,
          1764,
          864,
          1734,
          1385,
          1501,
          875,
          2035,
          1080,
          1344,
          1993,
          1968,
          1947,
          1232,
          1541,
          882,
          2161,
          1720,
          1217,
          1431,
          864,
          1121,
          848,
          1284,
          1696,
          1092,
          1212,
          1852,
          1436,
          1248,
          1498,
          2267,
          2520,
          912,
          1555,
          1960,
          1414,
          1487,
          1566,
          2110,
          1375,
          1668,
          1640,
          1314,
          2291,
          1728,
          1604,
          2574,
          1212,
          764,
          1511,
          1113,
          2270,
          816,
          2022,
          1262,
          1314,
          1468,
          858,
          900,
          1644,
          1003,
          1558,
          2452,
          894,
          2000,
          1406,
          861,
          1501,
          972,
          1432,
          1472,
          1719,
          1383,
          1056,
          1358,
          1638,
          1536,
          1908,
          1577,
          1478,
          1167,
          1505,
          1268,
          1664,
          1928,
          914,
          1800,
          1301,
          1797,
          1125,
          1479,
          788,
          1034,
          1144,
          894,
          1812,
          1550,
          1310,
          1572,
          1620,
          2078,
          1340,
          1400,
          1134,
          1196,
          907,
          1208,
          1198,
          1604,
          1573,
          1258,
          1908,
          1689,
          1886,
          1376,
          1756,
          1590,
          1242,
          1666,
          1935,
          1660,
          1040,
          1414,
          1644,
          1634,
          1710,
          1652,
          1493,
          1718,
          1216,
          999,
          1073,
          1456,
          1820,
          899,
          1768,
          1911,
          1218,
          1041,
          1368,
          2119,
          1796,
          1244,
          1266,
          1509,
          1414,
          1724,
          864,
          2285,
          1496,
          768,
          928,
          2046,
          1557,
          996,
          2295,
          1535,
          943,
          864,
          1692,
          1430,
          1795,
          816,
          860,
          1582,
          848,
          924,
          1368,
          1904,
          1915,
          1494,
          1040,
          2153,
          1872,
          1120,
          1054,
          1509,
          832,
          2262,
          980,
          1554,
          1411,
          1567,
          1665,
          1510,
          1716,
          1053,
          1486,
          1936,
          1679,
          1437,
          1476,
          1369,
          1208,
          988,
          1291,
          1668,
          1839,
          1761,
          1362,
          848,
          1539,
          1391,
          1164,
          1324,
          1456,
          904,
          729,
          1228,
          1350,
          971,
          848,
          864,
          1698,
          1232,
          1616,
          2031,
          948,
          1801,
          1728,
          1349,
          2256,
          1140,
          1320,
          1494,
          2098,
          1768,
          1386,
          1301,
          1547,
          858,
          1220,
          912,
          1614,
          894,
          1004,
          1253,
          1603,
          1430,
          1110,
          2084,
          901,
          1145,
          1062,
          2013,
          1496,
          1285,
          773,
          1196,
          1456,
          1128,
          1428,
          848,
          1689,
          1052,
          1358,
          1640,
          1733,
          1489,
          1489,
          1434,
          1829,
          1144,
          1067,
          1099,
          1200,
          1701,
          864,
          1855,
          848,
          1456,
          1445,
          1481,
          1370,
          1097,
          1148,
          1372,
          1002,
          1646,
          1949,
          894,
          1682,
          1131,
          1090,
          1717,
          1593,
          892,
          1709,
          1796,
          951,
          1236,
          858,
          1306,
          1509,
          1670,
          902,
          1268,
          1229,
          2374,
          1978,
          2236,
          1466,
          1500,
          1200,
          1971,
          1962,
          1776,
          1381,
          1057,
          1337,
          858,
          1894,
          1484,
          1098,
          968,
          1192,
          918,
          1428,
          869,
          1241,
          894,
          1121,
          1266,
          2290,
          1576,
          1500,
          1718,
          1208,
          1574,
          1504,
          1082,
          1665,
          1504,
          1360,
          1472,
          1506,
          1132,
          1220,
          1504,
          1646,
          1654,
          954,
          1620,
          1306,
          2329,
          1302,
          1316,
          1526,
          1989,
          1364,
          2184,
          1103,
          2260,
          1571,
          1556,
          1426,
          1240,
          1740,
          848,
          990,
          1459,
          1498,
          996,
          1247,
          1314,
          1324,
          1601,
          438,
          1134,
          2622,
          1690,
          1658,
          816,
          1008,
          833,
          1734,
          1419,
          894,
          1552,
          1482,
          1005,
          1555,
          1959,
          936,
          974,
          2020,
          1600,
          986,
          1567,
          952,
          1576,
          1298,
          1564,
          1314,
          1580,
          1876,
          894,
          1502,
          1671,
          923,
          2514,
          1130,
          1660,
          1804,
          1352,
          1456,
          1863,
          1212,
          1382,
          864,
          1779,
          1074,
          1056,
          1700,
          672,
          999,
          1314,
          1846,
          1490,
          1933,
          1507,
          1190,
          1188,
          1784,
          1948,
          1141,
          1484,
          1768,
          1517,
          1553,
          1034,
          1405,
          1656,
          1166,
          1050,
          1337,
          1524,
          1489,
          1573,
          1412,
          1659,
          1152,
          864,
          1052,
          1983,
          2526,
          1616,
          1652,
          1368,
          990,
          1294,
          1274,
          948,
          1630,
          948,
          1923,
          708,
          1632,
          1588,
          954,
          816,
          1861,
          1114,
          2169,
          1913,
          1456,
          1776,
          1494,
          1920,
          892,
          1078,
          1738,
          1412,
          1674,
          1790,
          848,
          2097,
          1571,
          790,
          1394,
          2117,
          1258,
          1525,
          900,
          1500,
          2482,
          1608,
          1593,
          1294,
          1464,
          768,
          833,
          1840,
          1844,
          848,
          1252,
          1558,
          958,
          968,
          1792,
          1126,
          864,
          848,
          2007,
          1422,
          1346,
          1578,
          1140,
          1221,
          1647
         ],
         "xaxis": "x",
         "y": [
          8,
          6,
          9,
          7,
          5,
          7,
          6,
          6,
          9,
          6,
          7,
          6,
          7,
          6,
          9,
          5,
          6,
          6,
          7,
          6,
          6,
          7,
          4,
          5,
          6,
          9,
          7,
          4,
          4,
          4,
          6,
          5,
          7,
          6,
          6,
          6,
          7,
          6,
          7,
          7,
          5,
          8,
          5,
          7,
          5,
          6,
          8,
          7,
          7,
          6,
          7,
          5,
          7,
          7,
          5,
          7,
          6,
          6,
          5,
          8,
          6,
          7,
          8,
          8,
          8,
          6,
          7,
          4,
          8,
          7,
          6,
          6,
          5,
          5,
          3,
          5,
          8,
          6,
          6,
          7,
          8,
          5,
          5,
          8,
          9,
          5,
          7,
          8,
          6,
          7,
          7,
          8,
          5,
          8,
          6,
          5,
          8,
          7,
          8,
          10,
          6,
          4,
          8,
          6,
          9,
          5,
          8,
          5,
          6,
          6,
          5,
          5,
          7,
          6,
          6,
          9,
          5,
          8,
          6,
          4,
          6,
          5,
          6,
          6,
          6,
          7,
          6,
          6,
          7,
          7,
          9,
          6,
          6,
          6,
          8,
          7,
          7,
          8,
          5,
          7,
          5,
          8,
          6,
          6,
          4,
          5,
          6,
          6,
          8,
          7,
          6,
          7,
          8,
          8,
          6,
          6,
          7,
          6,
          5,
          6,
          7,
          7,
          8,
          6,
          8,
          7,
          10,
          7,
          7,
          6,
          6,
          7,
          8,
          6,
          5,
          6,
          7,
          7,
          7,
          6,
          7,
          7,
          5,
          6,
          6,
          8,
          8,
          5,
          7,
          8,
          4,
          6,
          6,
          7,
          7,
          6,
          6,
          5,
          6,
          8,
          5,
          8,
          7,
          5,
          5,
          8,
          7,
          6,
          9,
          7,
          4,
          4,
          6,
          8,
          7,
          5,
          4,
          6,
          4,
          5,
          7,
          8,
          8,
          6,
          6,
          8,
          7,
          6,
          6,
          7,
          4,
          10,
          6,
          6,
          6,
          7,
          7,
          7,
          7,
          5,
          7,
          7,
          7,
          6,
          7,
          6,
          6,
          5,
          6,
          7,
          7,
          7,
          6,
          3,
          5,
          5,
          6,
          6,
          8,
          6,
          5,
          5,
          7,
          5,
          3,
          5,
          8,
          6,
          5,
          8,
          6,
          8,
          7,
          6,
          8,
          7,
          6,
          6,
          8,
          7,
          6,
          5,
          7,
          5,
          6,
          5,
          7,
          5,
          4,
          6,
          7,
          6,
          4,
          8,
          4,
          5,
          5,
          8,
          7,
          7,
          4,
          5,
          7,
          5,
          6,
          4,
          7,
          6,
          6,
          6,
          7,
          7,
          7,
          6,
          7,
          6,
          4,
          6,
          6,
          6,
          5,
          7,
          3,
          7,
          7,
          6,
          6,
          6,
          6,
          6,
          5,
          6,
          8,
          5,
          7,
          5,
          5,
          7,
          7,
          5,
          5,
          8,
          6,
          6,
          4,
          5,
          8,
          7,
          6,
          5,
          6,
          10,
          9,
          8,
          7,
          6,
          5,
          8,
          7,
          7,
          5,
          6,
          6,
          4,
          8,
          8,
          6,
          6,
          6,
          5,
          6,
          4,
          4,
          5,
          5,
          6,
          9,
          6,
          6,
          7,
          6,
          7,
          7,
          5,
          6,
          6,
          4,
          7,
          6,
          5,
          6,
          7,
          7,
          6,
          5,
          6,
          5,
          10,
          6,
          6,
          7,
          7,
          6,
          10,
          5,
          7,
          7,
          8,
          6,
          5,
          6,
          3,
          5,
          6,
          6,
          5,
          4,
          6,
          6,
          7,
          3,
          6,
          9,
          7,
          8,
          5,
          6,
          4,
          7,
          7,
          5,
          7,
          7,
          5,
          7,
          8,
          4,
          5,
          8,
          7,
          5,
          5,
          4,
          8,
          5,
          7,
          6,
          7,
          8,
          5,
          7,
          7,
          5,
          8,
          5,
          7,
          7,
          7,
          8,
          9,
          6,
          6,
          5,
          6,
          6,
          5,
          7,
          4,
          6,
          6,
          7,
          8,
          9,
          7,
          6,
          6,
          9,
          8,
          6,
          6,
          8,
          7,
          6,
          6,
          6,
          7,
          5,
          5,
          5,
          7,
          7,
          6,
          6,
          5,
          6,
          5,
          5,
          9,
          8,
          7,
          6,
          6,
          5,
          6,
          6,
          5,
          8,
          5,
          8,
          5,
          8,
          7,
          6,
          3,
          8,
          6,
          7,
          9,
          8,
          7,
          5,
          8,
          5,
          6,
          7,
          6,
          7,
          7,
          4,
          8,
          7,
          4,
          7,
          7,
          6,
          6,
          6,
          6,
          9,
          7,
          8,
          6,
          6,
          5,
          5,
          6,
          7,
          3,
          7,
          6,
          5,
          5,
          8,
          5,
          5,
          3,
          10,
          7,
          6,
          7,
          6,
          6,
          7
         ],
         "yaxis": "y"
        }
       ],
       "layout": {
        "legend": {
         "tracegroupgap": 0
        },
        "template": {
         "data": {
          "bar": [
           {
            "error_x": {
             "color": "#f2f5fa"
            },
            "error_y": {
             "color": "#f2f5fa"
            },
            "marker": {
             "line": {
              "color": "rgb(17,17,17)",
              "width": 0.5
             },
             "pattern": {
              "fillmode": "overlay",
              "size": 10,
              "solidity": 0.2
             }
            },
            "type": "bar"
           }
          ],
          "barpolar": [
           {
            "marker": {
             "line": {
              "color": "rgb(17,17,17)",
              "width": 0.5
             },
             "pattern": {
              "fillmode": "overlay",
              "size": 10,
              "solidity": 0.2
             }
            },
            "type": "barpolar"
           }
          ],
          "carpet": [
           {
            "aaxis": {
             "endlinecolor": "#A2B1C6",
             "gridcolor": "#506784",
             "linecolor": "#506784",
             "minorgridcolor": "#506784",
             "startlinecolor": "#A2B1C6"
            },
            "baxis": {
             "endlinecolor": "#A2B1C6",
             "gridcolor": "#506784",
             "linecolor": "#506784",
             "minorgridcolor": "#506784",
             "startlinecolor": "#A2B1C6"
            },
            "type": "carpet"
           }
          ],
          "choropleth": [
           {
            "colorbar": {
             "outlinewidth": 0,
             "ticks": ""
            },
            "type": "choropleth"
           }
          ],
          "contour": [
           {
            "colorbar": {
             "outlinewidth": 0,
             "ticks": ""
            },
            "colorscale": [
             [
              0,
              "#0d0887"
             ],
             [
              0.1111111111111111,
              "#46039f"
             ],
             [
              0.2222222222222222,
              "#7201a8"
             ],
             [
              0.3333333333333333,
              "#9c179e"
             ],
             [
              0.4444444444444444,
              "#bd3786"
             ],
             [
              0.5555555555555556,
              "#d8576b"
             ],
             [
              0.6666666666666666,
              "#ed7953"
             ],
             [
              0.7777777777777778,
              "#fb9f3a"
             ],
             [
              0.8888888888888888,
              "#fdca26"
             ],
             [
              1,
              "#f0f921"
             ]
            ],
            "type": "contour"
           }
          ],
          "contourcarpet": [
           {
            "colorbar": {
             "outlinewidth": 0,
             "ticks": ""
            },
            "type": "contourcarpet"
           }
          ],
          "heatmap": [
           {
            "colorbar": {
             "outlinewidth": 0,
             "ticks": ""
            },
            "colorscale": [
             [
              0,
              "#0d0887"
             ],
             [
              0.1111111111111111,
              "#46039f"
             ],
             [
              0.2222222222222222,
              "#7201a8"
             ],
             [
              0.3333333333333333,
              "#9c179e"
             ],
             [
              0.4444444444444444,
              "#bd3786"
             ],
             [
              0.5555555555555556,
              "#d8576b"
             ],
             [
              0.6666666666666666,
              "#ed7953"
             ],
             [
              0.7777777777777778,
              "#fb9f3a"
             ],
             [
              0.8888888888888888,
              "#fdca26"
             ],
             [
              1,
              "#f0f921"
             ]
            ],
            "type": "heatmap"
           }
          ],
          "heatmapgl": [
           {
            "colorbar": {
             "outlinewidth": 0,
             "ticks": ""
            },
            "colorscale": [
             [
              0,
              "#0d0887"
             ],
             [
              0.1111111111111111,
              "#46039f"
             ],
             [
              0.2222222222222222,
              "#7201a8"
             ],
             [
              0.3333333333333333,
              "#9c179e"
             ],
             [
              0.4444444444444444,
              "#bd3786"
             ],
             [
              0.5555555555555556,
              "#d8576b"
             ],
             [
              0.6666666666666666,
              "#ed7953"
             ],
             [
              0.7777777777777778,
              "#fb9f3a"
             ],
             [
              0.8888888888888888,
              "#fdca26"
             ],
             [
              1,
              "#f0f921"
             ]
            ],
            "type": "heatmapgl"
           }
          ],
          "histogram": [
           {
            "marker": {
             "pattern": {
              "fillmode": "overlay",
              "size": 10,
              "solidity": 0.2
             }
            },
            "type": "histogram"
           }
          ],
          "histogram2d": [
           {
            "colorbar": {
             "outlinewidth": 0,
             "ticks": ""
            },
            "colorscale": [
             [
              0,
              "#0d0887"
             ],
             [
              0.1111111111111111,
              "#46039f"
             ],
             [
              0.2222222222222222,
              "#7201a8"
             ],
             [
              0.3333333333333333,
              "#9c179e"
             ],
             [
              0.4444444444444444,
              "#bd3786"
             ],
             [
              0.5555555555555556,
              "#d8576b"
             ],
             [
              0.6666666666666666,
              "#ed7953"
             ],
             [
              0.7777777777777778,
              "#fb9f3a"
             ],
             [
              0.8888888888888888,
              "#fdca26"
             ],
             [
              1,
              "#f0f921"
             ]
            ],
            "type": "histogram2d"
           }
          ],
          "histogram2dcontour": [
           {
            "colorbar": {
             "outlinewidth": 0,
             "ticks": ""
            },
            "colorscale": [
             [
              0,
              "#0d0887"
             ],
             [
              0.1111111111111111,
              "#46039f"
             ],
             [
              0.2222222222222222,
              "#7201a8"
             ],
             [
              0.3333333333333333,
              "#9c179e"
             ],
             [
              0.4444444444444444,
              "#bd3786"
             ],
             [
              0.5555555555555556,
              "#d8576b"
             ],
             [
              0.6666666666666666,
              "#ed7953"
             ],
             [
              0.7777777777777778,
              "#fb9f3a"
             ],
             [
              0.8888888888888888,
              "#fdca26"
             ],
             [
              1,
              "#f0f921"
             ]
            ],
            "type": "histogram2dcontour"
           }
          ],
          "mesh3d": [
           {
            "colorbar": {
             "outlinewidth": 0,
             "ticks": ""
            },
            "type": "mesh3d"
           }
          ],
          "parcoords": [
           {
            "line": {
             "colorbar": {
              "outlinewidth": 0,
              "ticks": ""
             }
            },
            "type": "parcoords"
           }
          ],
          "pie": [
           {
            "automargin": true,
            "type": "pie"
           }
          ],
          "scatter": [
           {
            "marker": {
             "line": {
              "color": "#283442"
             }
            },
            "type": "scatter"
           }
          ],
          "scatter3d": [
           {
            "line": {
             "colorbar": {
              "outlinewidth": 0,
              "ticks": ""
             }
            },
            "marker": {
             "colorbar": {
              "outlinewidth": 0,
              "ticks": ""
             }
            },
            "type": "scatter3d"
           }
          ],
          "scattercarpet": [
           {
            "marker": {
             "colorbar": {
              "outlinewidth": 0,
              "ticks": ""
             }
            },
            "type": "scattercarpet"
           }
          ],
          "scattergeo": [
           {
            "marker": {
             "colorbar": {
              "outlinewidth": 0,
              "ticks": ""
             }
            },
            "type": "scattergeo"
           }
          ],
          "scattergl": [
           {
            "marker": {
             "line": {
              "color": "#283442"
             }
            },
            "type": "scattergl"
           }
          ],
          "scattermapbox": [
           {
            "marker": {
             "colorbar": {
              "outlinewidth": 0,
              "ticks": ""
             }
            },
            "type": "scattermapbox"
           }
          ],
          "scatterpolar": [
           {
            "marker": {
             "colorbar": {
              "outlinewidth": 0,
              "ticks": ""
             }
            },
            "type": "scatterpolar"
           }
          ],
          "scatterpolargl": [
           {
            "marker": {
             "colorbar": {
              "outlinewidth": 0,
              "ticks": ""
             }
            },
            "type": "scatterpolargl"
           }
          ],
          "scatterternary": [
           {
            "marker": {
             "colorbar": {
              "outlinewidth": 0,
              "ticks": ""
             }
            },
            "type": "scatterternary"
           }
          ],
          "surface": [
           {
            "colorbar": {
             "outlinewidth": 0,
             "ticks": ""
            },
            "colorscale": [
             [
              0,
              "#0d0887"
             ],
             [
              0.1111111111111111,
              "#46039f"
             ],
             [
              0.2222222222222222,
              "#7201a8"
             ],
             [
              0.3333333333333333,
              "#9c179e"
             ],
             [
              0.4444444444444444,
              "#bd3786"
             ],
             [
              0.5555555555555556,
              "#d8576b"
             ],
             [
              0.6666666666666666,
              "#ed7953"
             ],
             [
              0.7777777777777778,
              "#fb9f3a"
             ],
             [
              0.8888888888888888,
              "#fdca26"
             ],
             [
              1,
              "#f0f921"
             ]
            ],
            "type": "surface"
           }
          ],
          "table": [
           {
            "cells": {
             "fill": {
              "color": "#506784"
             },
             "line": {
              "color": "rgb(17,17,17)"
             }
            },
            "header": {
             "fill": {
              "color": "#2a3f5f"
             },
             "line": {
              "color": "rgb(17,17,17)"
             }
            },
            "type": "table"
           }
          ]
         },
         "layout": {
          "annotationdefaults": {
           "arrowcolor": "#f2f5fa",
           "arrowhead": 0,
           "arrowwidth": 1
          },
          "autotypenumbers": "strict",
          "coloraxis": {
           "colorbar": {
            "outlinewidth": 0,
            "ticks": ""
           }
          },
          "colorscale": {
           "diverging": [
            [
             0,
             "#8e0152"
            ],
            [
             0.1,
             "#c51b7d"
            ],
            [
             0.2,
             "#de77ae"
            ],
            [
             0.3,
             "#f1b6da"
            ],
            [
             0.4,
             "#fde0ef"
            ],
            [
             0.5,
             "#f7f7f7"
            ],
            [
             0.6,
             "#e6f5d0"
            ],
            [
             0.7,
             "#b8e186"
            ],
            [
             0.8,
             "#7fbc41"
            ],
            [
             0.9,
             "#4d9221"
            ],
            [
             1,
             "#276419"
            ]
           ],
           "sequential": [
            [
             0,
             "#0d0887"
            ],
            [
             0.1111111111111111,
             "#46039f"
            ],
            [
             0.2222222222222222,
             "#7201a8"
            ],
            [
             0.3333333333333333,
             "#9c179e"
            ],
            [
             0.4444444444444444,
             "#bd3786"
            ],
            [
             0.5555555555555556,
             "#d8576b"
            ],
            [
             0.6666666666666666,
             "#ed7953"
            ],
            [
             0.7777777777777778,
             "#fb9f3a"
            ],
            [
             0.8888888888888888,
             "#fdca26"
            ],
            [
             1,
             "#f0f921"
            ]
           ],
           "sequentialminus": [
            [
             0,
             "#0d0887"
            ],
            [
             0.1111111111111111,
             "#46039f"
            ],
            [
             0.2222222222222222,
             "#7201a8"
            ],
            [
             0.3333333333333333,
             "#9c179e"
            ],
            [
             0.4444444444444444,
             "#bd3786"
            ],
            [
             0.5555555555555556,
             "#d8576b"
            ],
            [
             0.6666666666666666,
             "#ed7953"
            ],
            [
             0.7777777777777778,
             "#fb9f3a"
            ],
            [
             0.8888888888888888,
             "#fdca26"
            ],
            [
             1,
             "#f0f921"
            ]
           ]
          },
          "colorway": [
           "#636efa",
           "#EF553B",
           "#00cc96",
           "#ab63fa",
           "#FFA15A",
           "#19d3f3",
           "#FF6692",
           "#B6E880",
           "#FF97FF",
           "#FECB52"
          ],
          "font": {
           "color": "#f2f5fa"
          },
          "geo": {
           "bgcolor": "rgb(17,17,17)",
           "lakecolor": "rgb(17,17,17)",
           "landcolor": "rgb(17,17,17)",
           "showlakes": true,
           "showland": true,
           "subunitcolor": "#506784"
          },
          "hoverlabel": {
           "align": "left"
          },
          "hovermode": "closest",
          "mapbox": {
           "style": "dark"
          },
          "paper_bgcolor": "rgb(17,17,17)",
          "plot_bgcolor": "rgb(17,17,17)",
          "polar": {
           "angularaxis": {
            "gridcolor": "#506784",
            "linecolor": "#506784",
            "ticks": ""
           },
           "bgcolor": "rgb(17,17,17)",
           "radialaxis": {
            "gridcolor": "#506784",
            "linecolor": "#506784",
            "ticks": ""
           }
          },
          "scene": {
           "xaxis": {
            "backgroundcolor": "rgb(17,17,17)",
            "gridcolor": "#506784",
            "gridwidth": 2,
            "linecolor": "#506784",
            "showbackground": true,
            "ticks": "",
            "zerolinecolor": "#C8D4E3"
           },
           "yaxis": {
            "backgroundcolor": "rgb(17,17,17)",
            "gridcolor": "#506784",
            "gridwidth": 2,
            "linecolor": "#506784",
            "showbackground": true,
            "ticks": "",
            "zerolinecolor": "#C8D4E3"
           },
           "zaxis": {
            "backgroundcolor": "rgb(17,17,17)",
            "gridcolor": "#506784",
            "gridwidth": 2,
            "linecolor": "#506784",
            "showbackground": true,
            "ticks": "",
            "zerolinecolor": "#C8D4E3"
           }
          },
          "shapedefaults": {
           "line": {
            "color": "#f2f5fa"
           }
          },
          "sliderdefaults": {
           "bgcolor": "#C8D4E3",
           "bordercolor": "rgb(17,17,17)",
           "borderwidth": 1,
           "tickwidth": 0
          },
          "ternary": {
           "aaxis": {
            "gridcolor": "#506784",
            "linecolor": "#506784",
            "ticks": ""
           },
           "baxis": {
            "gridcolor": "#506784",
            "linecolor": "#506784",
            "ticks": ""
           },
           "bgcolor": "rgb(17,17,17)",
           "caxis": {
            "gridcolor": "#506784",
            "linecolor": "#506784",
            "ticks": ""
           }
          },
          "title": {
           "x": 0.05
          },
          "updatemenudefaults": {
           "bgcolor": "#506784",
           "borderwidth": 0
          },
          "xaxis": {
           "automargin": true,
           "gridcolor": "#283442",
           "linecolor": "#506784",
           "ticks": "",
           "title": {
            "standoff": 15
           },
           "zerolinecolor": "#283442",
           "zerolinewidth": 2
          },
          "yaxis": {
           "automargin": true,
           "gridcolor": "#283442",
           "linecolor": "#506784",
           "ticks": "",
           "title": {
            "standoff": 15
           },
           "zerolinecolor": "#283442",
           "zerolinewidth": 2
          }
         }
        },
        "title": {
         "font": {
          "size": 20
         },
         "text": "GrLivArea vs TotRmsAbvGrd"
        },
        "xaxis": {
         "anchor": "y",
         "domain": [
          0,
          1
         ],
         "title": {
          "text": "GrLivArea"
         }
        },
        "yaxis": {
         "anchor": "x",
         "domain": [
          0,
          1
         ],
         "title": {
          "text": "TotRmsAbvGrd"
         }
        }
       }
      }
     },
     "metadata": {},
     "output_type": "display_data"
    },
    {
     "data": {
      "application/vnd.plotly.v1+json": {
       "config": {
        "plotlyServerURL": "https://plot.ly"
       },
       "data": [
        {
         "hovertemplate": "GarageCars=%{x}<br>GarageArea=%{y}<extra></extra>",
         "legendgroup": "",
         "marker": {
          "color": "#636efa",
          "symbol": "circle"
         },
         "mode": "markers",
         "name": "",
         "orientation": "v",
         "showlegend": false,
         "type": "scatter",
         "x": [
          2,
          2,
          3,
          2,
          1,
          3,
          2,
          1,
          3,
          2,
          3,
          1,
          2,
          2,
          3,
          1,
          2,
          2,
          3,
          1,
          2,
          2,
          1,
          2,
          2,
          3,
          2,
          1,
          2,
          1,
          2,
          0,
          2,
          2,
          1,
          2,
          2,
          3,
          1,
          2,
          2,
          2,
          2,
          2,
          0,
          2,
          2,
          2,
          2,
          2,
          2,
          1,
          3,
          2,
          0,
          2,
          2,
          2,
          1,
          2,
          0,
          1,
          2,
          3,
          2,
          2,
          2,
          0,
          3,
          2,
          2,
          2,
          1,
          2,
          2,
          1,
          1,
          2,
          2,
          2,
          2,
          2,
          2,
          2,
          3,
          1,
          2,
          2,
          2,
          1,
          2,
          2,
          2,
          2,
          2,
          1,
          2,
          2,
          2,
          3,
          2,
          2,
          2,
          1,
          3,
          1,
          2,
          2,
          2,
          3,
          0,
          1,
          2,
          2,
          1,
          2,
          2,
          3,
          0,
          2,
          2,
          1,
          2,
          2,
          2,
          1,
          1,
          2,
          2,
          2,
          2,
          1,
          2,
          2,
          1,
          1,
          2,
          2,
          2,
          2,
          2,
          2,
          1,
          2,
          0,
          1,
          1,
          2,
          1,
          2,
          2,
          2,
          2,
          3,
          2,
          2,
          1,
          1,
          1,
          2,
          0,
          2,
          2,
          3,
          2,
          2,
          2,
          1,
          2,
          2,
          2,
          1,
          2,
          1,
          0,
          2,
          1,
          3,
          2,
          2,
          2,
          3,
          2,
          1,
          2,
          2,
          1,
          1,
          2,
          2,
          2,
          1,
          2,
          2,
          2,
          1,
          2,
          2,
          2,
          2,
          2,
          3,
          2,
          2,
          1,
          3,
          2,
          0,
          2,
          2,
          2,
          1,
          2,
          2,
          1,
          0,
          2,
          2,
          2,
          1,
          1,
          2,
          2,
          2,
          2,
          3,
          2,
          0,
          2,
          2,
          2,
          3,
          2,
          2,
          2,
          3,
          2,
          1,
          2,
          1,
          2,
          2,
          2,
          2,
          2,
          1,
          2,
          2,
          2,
          3,
          2,
          2,
          2,
          2,
          2,
          2,
          2,
          2,
          2,
          1,
          0,
          2,
          2,
          1,
          2,
          2,
          3,
          2,
          2,
          2,
          1,
          3,
          2,
          2,
          2,
          0,
          2,
          2,
          3,
          2,
          2,
          2,
          2,
          2,
          2,
          1,
          3,
          2,
          2,
          2,
          2,
          2,
          2,
          2,
          1,
          2,
          2,
          2,
          2,
          2,
          1,
          2,
          2,
          1,
          2,
          2,
          3,
          2,
          2,
          2,
          2,
          1,
          2,
          2,
          2,
          2,
          2,
          1,
          1,
          2,
          1,
          2,
          2,
          2,
          2,
          2,
          2,
          2,
          1,
          2,
          2,
          3,
          2,
          1,
          2,
          1,
          2,
          2,
          2,
          1,
          2,
          2,
          1,
          1,
          1,
          1,
          2,
          3,
          1,
          1,
          1,
          3,
          2,
          2,
          3,
          2,
          2,
          2,
          3,
          2,
          2,
          2,
          2,
          0,
          2,
          2,
          1,
          0,
          0,
          1,
          2,
          0,
          2,
          2,
          2,
          2,
          2,
          2,
          2,
          3,
          2,
          3,
          2,
          1,
          2,
          2,
          2,
          2,
          2,
          2,
          2,
          2,
          3,
          3,
          1,
          3,
          2,
          2,
          2,
          2,
          1,
          2,
          2,
          3,
          2,
          2,
          2,
          2,
          2,
          3,
          1,
          2,
          1,
          2,
          2,
          2,
          2,
          2,
          1,
          2,
          1,
          1,
          2,
          2,
          2,
          1,
          1,
          1,
          3,
          2,
          2,
          3,
          2,
          2,
          3,
          2,
          2,
          0,
          2,
          2,
          1,
          2,
          2,
          1,
          2,
          1,
          2,
          3,
          2,
          2,
          2,
          2,
          1,
          2,
          2,
          2,
          2,
          1,
          2,
          3,
          2,
          2,
          1,
          2,
          2,
          1,
          2,
          1,
          1,
          2,
          1,
          2,
          3,
          1,
          2,
          2,
          1,
          2,
          2,
          2,
          2,
          2,
          2,
          3,
          2,
          2,
          2,
          1,
          2,
          1,
          2,
          2,
          1,
          2,
          2,
          2,
          1,
          2,
          3,
          3,
          2,
          2,
          2,
          2,
          2,
          1,
          3,
          1,
          2,
          0,
          2,
          3,
          2,
          1,
          2,
          2,
          2,
          2,
          2,
          3,
          2,
          2,
          1,
          2,
          1,
          2,
          2,
          2,
          2,
          2,
          3,
          1,
          2,
          2,
          1,
          2,
          1,
          3,
          3,
          1,
          2,
          2,
          3,
          2,
          0,
          2,
          2,
          2,
          2,
          1,
          2,
          1,
          2,
          2,
          2,
          2,
          3,
          2,
          1,
          3,
          0,
          2,
          2
         ],
         "xaxis": "x",
         "y": [
          548,
          608,
          836,
          636,
          384,
          840,
          576,
          294,
          853,
          572,
          772,
          271,
          484,
          556,
          691,
          246,
          440,
          576,
          826,
          386,
          572,
          565,
          352,
          576,
          484,
          852,
          558,
          220,
          360,
          283,
          461,
          0,
          684,
          472,
          432,
          480,
          476,
          740,
          325,
          400,
          430,
          390,
          530,
          435,
          0,
          453,
          487,
          390,
          624,
          471,
          530,
          318,
          660,
          470,
          0,
          660,
          720,
          577,
          180,
          434,
          0,
          240,
          495,
          680,
          678,
          516,
          532,
          0,
          789,
          440,
          497,
          666,
          352,
          440,
          420,
          240,
          349,
          504,
          460,
          644,
          484,
          438,
          675,
          390,
          721,
          336,
          430,
          440,
          494,
          220,
          750,
          463,
          451,
          500,
          520,
          294,
          429,
          673,
          660,
          868,
          492,
          504,
          413,
          504,
          671,
          264,
          505,
          572,
          626,
          898,
          0,
          280,
          418,
          588,
          282,
          683,
          552,
          888,
          0,
          539,
          420,
          240,
          432,
          588,
          473,
          292,
          308,
          484,
          472,
          532,
          431,
          312,
          498,
          400,
          240,
          244,
          460,
          434,
          576,
          463,
          572,
          639,
          352,
          577,
          0,
          240,
          596,
          600,
          264,
          438,
          400,
          373,
          490,
          836,
          396,
          440,
          240,
          297,
          352,
          628,
          0,
          470,
          360,
          648,
          493,
          480,
          431,
          198,
          422,
          676,
          528,
          228,
          552,
          240,
          0,
          398,
          312,
          866,
          506,
          499,
          508,
          826,
          402,
          264,
          515,
          429,
          240,
          288,
          603,
          471,
          676,
          270,
          474,
          583,
          546,
          336,
          453,
          600,
          403,
          527,
          576,
          648,
          426,
          624,
          288,
          871,
          420,
          0,
          590,
          532,
          600,
          288,
          650,
          400,
          352,
          0,
          528,
          520,
          420,
          280,
          216,
          736,
          506,
          530,
          576,
          736,
          531,
          0,
          480,
          393,
          528,
          749,
          484,
          627,
          544,
          648,
          562,
          296,
          512,
          312,
          480,
          504,
          575,
          576,
          540,
          300,
          546,
          572,
          431,
          702,
          486,
          578,
          460,
          420,
          576,
          530,
          528,
          550,
          400,
          408,
          0,
          472,
          478,
          300,
          420,
          463,
          768,
          632,
          608,
          541,
          300,
          800,
          572,
          539,
          554,
          0,
          400,
          576,
          878,
          578,
          440,
          440,
          614,
          576,
          396,
          275,
          865,
          440,
          504,
          402,
          484,
          605,
          602,
          618,
          281,
          397,
          539,
          455,
          474,
          528,
          240,
          440,
          410,
          286,
          554,
          420,
          857,
          440,
          484,
          595,
          433,
          240,
          776,
          527,
          613,
          456,
          436,
          352,
          240,
          611,
          338,
          512,
          420,
          400,
          645,
          343,
          479,
          480,
          672,
          529,
          902,
          870,
          574,
          308,
          523,
          200,
          450,
          400,
          389,
          288,
          506,
          483,
          327,
          288,
          684,
          756,
          393,
          690,
          288,
          252,
          284,
          656,
          486,
          642,
          610,
          570,
          555,
          689,
          868,
          474,
          676,
          576,
          531,
          0,
          510,
          393,
          260,
          0,
          0,
          264,
          480,
          0,
          569,
          400,
          480,
          388,
          779,
          614,
          564,
          786,
          632,
          824,
          457,
          240,
          528,
          478,
          565,
          402,
          440,
          451,
          632,
          437,
          800,
          900,
          240,
          912,
          624,
          514,
          436,
          440,
          364,
          586,
          484,
          836,
          440,
          533,
          380,
          441,
          440,
          826,
          240,
          420,
          299,
          527,
          409,
          564,
          550,
          440,
          240,
          478,
          246,
          254,
          712,
          463,
          431,
          308,
          240,
          326,
          928,
          527,
          450,
          782,
          392,
          672,
          660,
          434,
          672,
          0,
          466,
          460,
          180,
          714,
          840,
          225,
          403,
          234,
          626,
          830,
          540,
          450,
          644,
          472,
          264,
          693,
          720,
          493,
          442,
          299,
          400,
          660,
          573,
          459,
          280,
          546,
          495,
          384,
          544,
          234,
          300,
          552,
          315,
          388,
          668,
          404,
          540,
          531,
          180,
          434,
          484,
          472,
          543,
          400,
          615,
          888,
          478,
          397,
          400,
          338,
          511,
          315,
          462,
          544,
          280,
          499,
          484,
          572,
          288,
          490,
          844,
          834,
          840,
          474,
          480,
          496,
          508,
          280,
          860,
          248,
          564,
          0,
          462,
          825,
          576,
          288,
          492,
          576,
          647,
          342,
          440,
          712,
          514,
          487,
          264,
          500,
          368,
          432,
          663,
          588,
          420,
          583,
          722,
          160,
          400,
          550,
          280,
          541,
          288,
          648,
          642,
          216,
          398,
          662,
          754,
          396,
          0,
          622,
          620,
          420,
          528,
          288,
          440,
          216,
          451,
          484,
          528,
          420,
          812,
          626,
          384,
          840,
          0,
          400,
          460
         ],
         "yaxis": "y"
        }
       ],
       "layout": {
        "legend": {
         "tracegroupgap": 0
        },
        "template": {
         "data": {
          "bar": [
           {
            "error_x": {
             "color": "#f2f5fa"
            },
            "error_y": {
             "color": "#f2f5fa"
            },
            "marker": {
             "line": {
              "color": "rgb(17,17,17)",
              "width": 0.5
             },
             "pattern": {
              "fillmode": "overlay",
              "size": 10,
              "solidity": 0.2
             }
            },
            "type": "bar"
           }
          ],
          "barpolar": [
           {
            "marker": {
             "line": {
              "color": "rgb(17,17,17)",
              "width": 0.5
             },
             "pattern": {
              "fillmode": "overlay",
              "size": 10,
              "solidity": 0.2
             }
            },
            "type": "barpolar"
           }
          ],
          "carpet": [
           {
            "aaxis": {
             "endlinecolor": "#A2B1C6",
             "gridcolor": "#506784",
             "linecolor": "#506784",
             "minorgridcolor": "#506784",
             "startlinecolor": "#A2B1C6"
            },
            "baxis": {
             "endlinecolor": "#A2B1C6",
             "gridcolor": "#506784",
             "linecolor": "#506784",
             "minorgridcolor": "#506784",
             "startlinecolor": "#A2B1C6"
            },
            "type": "carpet"
           }
          ],
          "choropleth": [
           {
            "colorbar": {
             "outlinewidth": 0,
             "ticks": ""
            },
            "type": "choropleth"
           }
          ],
          "contour": [
           {
            "colorbar": {
             "outlinewidth": 0,
             "ticks": ""
            },
            "colorscale": [
             [
              0,
              "#0d0887"
             ],
             [
              0.1111111111111111,
              "#46039f"
             ],
             [
              0.2222222222222222,
              "#7201a8"
             ],
             [
              0.3333333333333333,
              "#9c179e"
             ],
             [
              0.4444444444444444,
              "#bd3786"
             ],
             [
              0.5555555555555556,
              "#d8576b"
             ],
             [
              0.6666666666666666,
              "#ed7953"
             ],
             [
              0.7777777777777778,
              "#fb9f3a"
             ],
             [
              0.8888888888888888,
              "#fdca26"
             ],
             [
              1,
              "#f0f921"
             ]
            ],
            "type": "contour"
           }
          ],
          "contourcarpet": [
           {
            "colorbar": {
             "outlinewidth": 0,
             "ticks": ""
            },
            "type": "contourcarpet"
           }
          ],
          "heatmap": [
           {
            "colorbar": {
             "outlinewidth": 0,
             "ticks": ""
            },
            "colorscale": [
             [
              0,
              "#0d0887"
             ],
             [
              0.1111111111111111,
              "#46039f"
             ],
             [
              0.2222222222222222,
              "#7201a8"
             ],
             [
              0.3333333333333333,
              "#9c179e"
             ],
             [
              0.4444444444444444,
              "#bd3786"
             ],
             [
              0.5555555555555556,
              "#d8576b"
             ],
             [
              0.6666666666666666,
              "#ed7953"
             ],
             [
              0.7777777777777778,
              "#fb9f3a"
             ],
             [
              0.8888888888888888,
              "#fdca26"
             ],
             [
              1,
              "#f0f921"
             ]
            ],
            "type": "heatmap"
           }
          ],
          "heatmapgl": [
           {
            "colorbar": {
             "outlinewidth": 0,
             "ticks": ""
            },
            "colorscale": [
             [
              0,
              "#0d0887"
             ],
             [
              0.1111111111111111,
              "#46039f"
             ],
             [
              0.2222222222222222,
              "#7201a8"
             ],
             [
              0.3333333333333333,
              "#9c179e"
             ],
             [
              0.4444444444444444,
              "#bd3786"
             ],
             [
              0.5555555555555556,
              "#d8576b"
             ],
             [
              0.6666666666666666,
              "#ed7953"
             ],
             [
              0.7777777777777778,
              "#fb9f3a"
             ],
             [
              0.8888888888888888,
              "#fdca26"
             ],
             [
              1,
              "#f0f921"
             ]
            ],
            "type": "heatmapgl"
           }
          ],
          "histogram": [
           {
            "marker": {
             "pattern": {
              "fillmode": "overlay",
              "size": 10,
              "solidity": 0.2
             }
            },
            "type": "histogram"
           }
          ],
          "histogram2d": [
           {
            "colorbar": {
             "outlinewidth": 0,
             "ticks": ""
            },
            "colorscale": [
             [
              0,
              "#0d0887"
             ],
             [
              0.1111111111111111,
              "#46039f"
             ],
             [
              0.2222222222222222,
              "#7201a8"
             ],
             [
              0.3333333333333333,
              "#9c179e"
             ],
             [
              0.4444444444444444,
              "#bd3786"
             ],
             [
              0.5555555555555556,
              "#d8576b"
             ],
             [
              0.6666666666666666,
              "#ed7953"
             ],
             [
              0.7777777777777778,
              "#fb9f3a"
             ],
             [
              0.8888888888888888,
              "#fdca26"
             ],
             [
              1,
              "#f0f921"
             ]
            ],
            "type": "histogram2d"
           }
          ],
          "histogram2dcontour": [
           {
            "colorbar": {
             "outlinewidth": 0,
             "ticks": ""
            },
            "colorscale": [
             [
              0,
              "#0d0887"
             ],
             [
              0.1111111111111111,
              "#46039f"
             ],
             [
              0.2222222222222222,
              "#7201a8"
             ],
             [
              0.3333333333333333,
              "#9c179e"
             ],
             [
              0.4444444444444444,
              "#bd3786"
             ],
             [
              0.5555555555555556,
              "#d8576b"
             ],
             [
              0.6666666666666666,
              "#ed7953"
             ],
             [
              0.7777777777777778,
              "#fb9f3a"
             ],
             [
              0.8888888888888888,
              "#fdca26"
             ],
             [
              1,
              "#f0f921"
             ]
            ],
            "type": "histogram2dcontour"
           }
          ],
          "mesh3d": [
           {
            "colorbar": {
             "outlinewidth": 0,
             "ticks": ""
            },
            "type": "mesh3d"
           }
          ],
          "parcoords": [
           {
            "line": {
             "colorbar": {
              "outlinewidth": 0,
              "ticks": ""
             }
            },
            "type": "parcoords"
           }
          ],
          "pie": [
           {
            "automargin": true,
            "type": "pie"
           }
          ],
          "scatter": [
           {
            "marker": {
             "line": {
              "color": "#283442"
             }
            },
            "type": "scatter"
           }
          ],
          "scatter3d": [
           {
            "line": {
             "colorbar": {
              "outlinewidth": 0,
              "ticks": ""
             }
            },
            "marker": {
             "colorbar": {
              "outlinewidth": 0,
              "ticks": ""
             }
            },
            "type": "scatter3d"
           }
          ],
          "scattercarpet": [
           {
            "marker": {
             "colorbar": {
              "outlinewidth": 0,
              "ticks": ""
             }
            },
            "type": "scattercarpet"
           }
          ],
          "scattergeo": [
           {
            "marker": {
             "colorbar": {
              "outlinewidth": 0,
              "ticks": ""
             }
            },
            "type": "scattergeo"
           }
          ],
          "scattergl": [
           {
            "marker": {
             "line": {
              "color": "#283442"
             }
            },
            "type": "scattergl"
           }
          ],
          "scattermapbox": [
           {
            "marker": {
             "colorbar": {
              "outlinewidth": 0,
              "ticks": ""
             }
            },
            "type": "scattermapbox"
           }
          ],
          "scatterpolar": [
           {
            "marker": {
             "colorbar": {
              "outlinewidth": 0,
              "ticks": ""
             }
            },
            "type": "scatterpolar"
           }
          ],
          "scatterpolargl": [
           {
            "marker": {
             "colorbar": {
              "outlinewidth": 0,
              "ticks": ""
             }
            },
            "type": "scatterpolargl"
           }
          ],
          "scatterternary": [
           {
            "marker": {
             "colorbar": {
              "outlinewidth": 0,
              "ticks": ""
             }
            },
            "type": "scatterternary"
           }
          ],
          "surface": [
           {
            "colorbar": {
             "outlinewidth": 0,
             "ticks": ""
            },
            "colorscale": [
             [
              0,
              "#0d0887"
             ],
             [
              0.1111111111111111,
              "#46039f"
             ],
             [
              0.2222222222222222,
              "#7201a8"
             ],
             [
              0.3333333333333333,
              "#9c179e"
             ],
             [
              0.4444444444444444,
              "#bd3786"
             ],
             [
              0.5555555555555556,
              "#d8576b"
             ],
             [
              0.6666666666666666,
              "#ed7953"
             ],
             [
              0.7777777777777778,
              "#fb9f3a"
             ],
             [
              0.8888888888888888,
              "#fdca26"
             ],
             [
              1,
              "#f0f921"
             ]
            ],
            "type": "surface"
           }
          ],
          "table": [
           {
            "cells": {
             "fill": {
              "color": "#506784"
             },
             "line": {
              "color": "rgb(17,17,17)"
             }
            },
            "header": {
             "fill": {
              "color": "#2a3f5f"
             },
             "line": {
              "color": "rgb(17,17,17)"
             }
            },
            "type": "table"
           }
          ]
         },
         "layout": {
          "annotationdefaults": {
           "arrowcolor": "#f2f5fa",
           "arrowhead": 0,
           "arrowwidth": 1
          },
          "autotypenumbers": "strict",
          "coloraxis": {
           "colorbar": {
            "outlinewidth": 0,
            "ticks": ""
           }
          },
          "colorscale": {
           "diverging": [
            [
             0,
             "#8e0152"
            ],
            [
             0.1,
             "#c51b7d"
            ],
            [
             0.2,
             "#de77ae"
            ],
            [
             0.3,
             "#f1b6da"
            ],
            [
             0.4,
             "#fde0ef"
            ],
            [
             0.5,
             "#f7f7f7"
            ],
            [
             0.6,
             "#e6f5d0"
            ],
            [
             0.7,
             "#b8e186"
            ],
            [
             0.8,
             "#7fbc41"
            ],
            [
             0.9,
             "#4d9221"
            ],
            [
             1,
             "#276419"
            ]
           ],
           "sequential": [
            [
             0,
             "#0d0887"
            ],
            [
             0.1111111111111111,
             "#46039f"
            ],
            [
             0.2222222222222222,
             "#7201a8"
            ],
            [
             0.3333333333333333,
             "#9c179e"
            ],
            [
             0.4444444444444444,
             "#bd3786"
            ],
            [
             0.5555555555555556,
             "#d8576b"
            ],
            [
             0.6666666666666666,
             "#ed7953"
            ],
            [
             0.7777777777777778,
             "#fb9f3a"
            ],
            [
             0.8888888888888888,
             "#fdca26"
            ],
            [
             1,
             "#f0f921"
            ]
           ],
           "sequentialminus": [
            [
             0,
             "#0d0887"
            ],
            [
             0.1111111111111111,
             "#46039f"
            ],
            [
             0.2222222222222222,
             "#7201a8"
            ],
            [
             0.3333333333333333,
             "#9c179e"
            ],
            [
             0.4444444444444444,
             "#bd3786"
            ],
            [
             0.5555555555555556,
             "#d8576b"
            ],
            [
             0.6666666666666666,
             "#ed7953"
            ],
            [
             0.7777777777777778,
             "#fb9f3a"
            ],
            [
             0.8888888888888888,
             "#fdca26"
            ],
            [
             1,
             "#f0f921"
            ]
           ]
          },
          "colorway": [
           "#636efa",
           "#EF553B",
           "#00cc96",
           "#ab63fa",
           "#FFA15A",
           "#19d3f3",
           "#FF6692",
           "#B6E880",
           "#FF97FF",
           "#FECB52"
          ],
          "font": {
           "color": "#f2f5fa"
          },
          "geo": {
           "bgcolor": "rgb(17,17,17)",
           "lakecolor": "rgb(17,17,17)",
           "landcolor": "rgb(17,17,17)",
           "showlakes": true,
           "showland": true,
           "subunitcolor": "#506784"
          },
          "hoverlabel": {
           "align": "left"
          },
          "hovermode": "closest",
          "mapbox": {
           "style": "dark"
          },
          "paper_bgcolor": "rgb(17,17,17)",
          "plot_bgcolor": "rgb(17,17,17)",
          "polar": {
           "angularaxis": {
            "gridcolor": "#506784",
            "linecolor": "#506784",
            "ticks": ""
           },
           "bgcolor": "rgb(17,17,17)",
           "radialaxis": {
            "gridcolor": "#506784",
            "linecolor": "#506784",
            "ticks": ""
           }
          },
          "scene": {
           "xaxis": {
            "backgroundcolor": "rgb(17,17,17)",
            "gridcolor": "#506784",
            "gridwidth": 2,
            "linecolor": "#506784",
            "showbackground": true,
            "ticks": "",
            "zerolinecolor": "#C8D4E3"
           },
           "yaxis": {
            "backgroundcolor": "rgb(17,17,17)",
            "gridcolor": "#506784",
            "gridwidth": 2,
            "linecolor": "#506784",
            "showbackground": true,
            "ticks": "",
            "zerolinecolor": "#C8D4E3"
           },
           "zaxis": {
            "backgroundcolor": "rgb(17,17,17)",
            "gridcolor": "#506784",
            "gridwidth": 2,
            "linecolor": "#506784",
            "showbackground": true,
            "ticks": "",
            "zerolinecolor": "#C8D4E3"
           }
          },
          "shapedefaults": {
           "line": {
            "color": "#f2f5fa"
           }
          },
          "sliderdefaults": {
           "bgcolor": "#C8D4E3",
           "bordercolor": "rgb(17,17,17)",
           "borderwidth": 1,
           "tickwidth": 0
          },
          "ternary": {
           "aaxis": {
            "gridcolor": "#506784",
            "linecolor": "#506784",
            "ticks": ""
           },
           "baxis": {
            "gridcolor": "#506784",
            "linecolor": "#506784",
            "ticks": ""
           },
           "bgcolor": "rgb(17,17,17)",
           "caxis": {
            "gridcolor": "#506784",
            "linecolor": "#506784",
            "ticks": ""
           }
          },
          "title": {
           "x": 0.05
          },
          "updatemenudefaults": {
           "bgcolor": "#506784",
           "borderwidth": 0
          },
          "xaxis": {
           "automargin": true,
           "gridcolor": "#283442",
           "linecolor": "#506784",
           "ticks": "",
           "title": {
            "standoff": 15
           },
           "zerolinecolor": "#283442",
           "zerolinewidth": 2
          },
          "yaxis": {
           "automargin": true,
           "gridcolor": "#283442",
           "linecolor": "#506784",
           "ticks": "",
           "title": {
            "standoff": 15
           },
           "zerolinecolor": "#283442",
           "zerolinewidth": 2
          }
         }
        },
        "title": {
         "font": {
          "size": 20
         },
         "text": "GarageCars vs GarageArea"
        },
        "xaxis": {
         "anchor": "y",
         "domain": [
          0,
          1
         ],
         "title": {
          "text": "GarageCars"
         }
        },
        "yaxis": {
         "anchor": "x",
         "domain": [
          0,
          1
         ],
         "title": {
          "text": "GarageArea"
         }
        }
       }
      }
     },
     "metadata": {},
     "output_type": "display_data"
    },
    {
     "data": {
      "application/vnd.plotly.v1+json": {
       "config": {
        "plotlyServerURL": "https://plot.ly"
       },
       "data": [
        {
         "hovertemplate": "BedroomAbvGr=%{x}<br>TotRmsAbvGrd=%{y}<extra></extra>",
         "legendgroup": "",
         "marker": {
          "color": "#636efa",
          "symbol": "circle"
         },
         "mode": "markers",
         "name": "",
         "orientation": "v",
         "showlegend": false,
         "type": "scatter",
         "x": [
          3,
          3,
          4,
          3,
          3,
          3,
          3,
          3,
          4,
          3,
          3,
          3,
          3,
          2,
          4,
          3,
          3,
          2,
          3,
          3,
          3,
          3,
          2,
          3,
          2,
          4,
          3,
          2,
          2,
          2,
          3,
          3,
          3,
          3,
          3,
          3,
          3,
          3,
          4,
          3,
          2,
          3,
          2,
          3,
          3,
          3,
          4,
          3,
          3,
          2,
          3,
          3,
          3,
          3,
          3,
          3,
          4,
          3,
          2,
          3,
          3,
          3,
          4,
          4,
          3,
          3,
          3,
          1,
          3,
          3,
          3,
          3,
          3,
          2,
          1,
          2,
          3,
          3,
          3,
          3,
          3,
          2,
          2,
          4,
          4,
          3,
          2,
          4,
          3,
          3,
          3,
          3,
          2,
          3,
          3,
          3,
          4,
          3,
          3,
          3,
          3,
          2,
          3,
          3,
          4,
          2,
          4,
          2,
          2,
          3,
          3,
          3,
          3,
          3,
          4,
          4,
          3,
          3,
          3,
          1,
          3,
          2,
          3,
          3,
          1,
          3,
          3,
          2,
          3,
          3,
          4,
          3,
          3,
          3,
          3,
          2,
          3,
          4,
          2,
          3,
          2,
          3,
          3,
          3,
          2,
          2,
          3,
          2,
          4,
          2,
          3,
          3,
          3,
          3,
          3,
          3,
          3,
          2,
          3,
          2,
          4,
          3,
          3,
          2,
          4,
          3,
          4,
          3,
          3,
          3,
          3,
          3,
          3,
          3,
          3,
          2,
          3,
          3,
          3,
          2,
          3,
          3,
          2,
          3,
          3,
          3,
          4,
          3,
          3,
          3,
          2,
          3,
          2,
          3,
          3,
          3,
          3,
          3,
          3,
          3,
          3,
          4,
          3,
          2,
          3,
          3,
          2,
          3,
          4,
          3,
          2,
          2,
          3,
          3,
          4,
          3,
          2,
          3,
          1,
          3,
          3,
          3,
          3,
          3,
          3,
          3,
          3,
          3,
          3,
          3,
          2,
          4,
          3,
          2,
          3,
          1,
          3,
          4,
          2,
          3,
          3,
          3,
          3,
          3,
          3,
          3,
          3,
          3,
          2,
          3,
          4,
          3,
          2,
          1,
          3,
          2,
          3,
          2,
          3,
          3,
          2,
          2,
          3,
          3,
          1,
          3,
          3,
          2,
          2,
          3,
          3,
          3,
          3,
          3,
          4,
          3,
          3,
          3,
          3,
          3,
          3,
          2,
          3,
          2,
          2,
          2,
          3,
          3,
          2,
          3,
          3,
          3,
          1,
          4,
          2,
          2,
          3,
          3,
          3,
          3,
          2,
          2,
          3,
          2,
          3,
          1,
          3,
          3,
          2,
          3,
          3,
          3,
          3,
          3,
          3,
          3,
          2,
          3,
          3,
          3,
          3,
          3,
          1,
          2,
          3,
          3,
          3,
          3,
          3,
          3,
          3,
          3,
          3,
          2,
          3,
          3,
          2,
          3,
          3,
          3,
          2,
          4,
          2,
          3,
          2,
          2,
          3,
          3,
          3,
          3,
          3,
          4,
          4,
          4,
          3,
          3,
          2,
          3,
          3,
          3,
          3,
          3,
          3,
          2,
          4,
          3,
          3,
          2,
          4,
          2,
          3,
          2,
          1,
          3,
          3,
          2,
          4,
          3,
          3,
          3,
          2,
          3,
          1,
          2,
          3,
          3,
          1,
          3,
          2,
          2,
          2,
          2,
          3,
          3,
          2,
          2,
          1,
          4,
          3,
          3,
          4,
          3,
          2,
          3,
          2,
          3,
          3,
          4,
          3,
          2,
          3,
          1,
          3,
          3,
          3,
          2,
          1,
          3,
          3,
          3,
          1,
          2,
          3,
          3,
          3,
          2,
          2,
          2,
          3,
          3,
          3,
          3,
          3,
          2,
          2,
          4,
          2,
          3,
          3,
          3,
          2,
          2,
          2,
          3,
          3,
          3,
          2,
          3,
          4,
          3,
          3,
          3,
          3,
          4,
          2,
          3,
          3,
          4,
          3,
          4,
          3,
          3,
          3,
          3,
          3,
          2,
          3,
          2,
          3,
          3,
          3,
          3,
          4,
          4,
          3,
          3,
          4,
          4,
          3,
          2,
          3,
          3,
          3,
          3,
          2,
          3,
          2,
          2,
          2,
          3,
          3,
          3,
          4,
          2,
          3,
          2,
          3,
          3,
          4,
          3,
          2,
          2,
          3,
          3,
          3,
          3,
          3,
          3,
          3,
          2,
          3,
          3,
          3,
          2,
          3,
          3,
          3,
          3,
          3,
          3,
          3,
          4,
          3,
          3,
          4,
          3,
          3,
          3,
          1,
          3,
          3,
          2,
          3,
          4,
          2,
          3,
          3,
          2,
          4,
          3,
          3,
          2,
          3,
          2,
          3,
          3,
          2,
          1,
          3,
          3,
          2,
          4,
          3,
          3,
          3,
          1,
          3,
          3,
          2,
          3,
          3,
          2,
          3
         ],
         "xaxis": "x",
         "y": [
          8,
          6,
          9,
          7,
          5,
          7,
          6,
          6,
          9,
          6,
          7,
          6,
          7,
          6,
          9,
          5,
          6,
          6,
          7,
          6,
          6,
          7,
          4,
          5,
          6,
          9,
          7,
          4,
          4,
          4,
          6,
          5,
          7,
          6,
          6,
          6,
          7,
          6,
          7,
          7,
          5,
          8,
          5,
          7,
          5,
          6,
          8,
          7,
          7,
          6,
          7,
          5,
          7,
          7,
          5,
          7,
          6,
          6,
          5,
          8,
          6,
          7,
          8,
          8,
          8,
          6,
          7,
          4,
          8,
          7,
          6,
          6,
          5,
          5,
          3,
          5,
          8,
          6,
          6,
          7,
          8,
          5,
          5,
          8,
          9,
          5,
          7,
          8,
          6,
          7,
          7,
          8,
          5,
          8,
          6,
          5,
          8,
          7,
          8,
          10,
          6,
          4,
          8,
          6,
          9,
          5,
          8,
          5,
          6,
          6,
          5,
          5,
          7,
          6,
          6,
          9,
          5,
          8,
          6,
          4,
          6,
          5,
          6,
          6,
          6,
          7,
          6,
          6,
          7,
          7,
          9,
          6,
          6,
          6,
          8,
          7,
          7,
          8,
          5,
          7,
          5,
          8,
          6,
          6,
          4,
          5,
          6,
          6,
          8,
          7,
          6,
          7,
          8,
          8,
          6,
          6,
          7,
          6,
          5,
          6,
          7,
          7,
          8,
          6,
          8,
          7,
          10,
          7,
          7,
          6,
          6,
          7,
          8,
          6,
          5,
          6,
          7,
          7,
          7,
          6,
          7,
          7,
          5,
          6,
          6,
          8,
          8,
          5,
          7,
          8,
          4,
          6,
          6,
          7,
          7,
          6,
          6,
          5,
          6,
          8,
          5,
          8,
          7,
          5,
          5,
          8,
          7,
          6,
          9,
          7,
          4,
          4,
          6,
          8,
          7,
          5,
          4,
          6,
          4,
          5,
          7,
          8,
          8,
          6,
          6,
          8,
          7,
          6,
          6,
          7,
          4,
          10,
          6,
          6,
          6,
          7,
          7,
          7,
          7,
          5,
          7,
          7,
          7,
          6,
          7,
          6,
          6,
          5,
          6,
          7,
          7,
          7,
          6,
          3,
          5,
          5,
          6,
          6,
          8,
          6,
          5,
          5,
          7,
          5,
          3,
          5,
          8,
          6,
          5,
          8,
          6,
          8,
          7,
          6,
          8,
          7,
          6,
          6,
          8,
          7,
          6,
          5,
          7,
          5,
          6,
          5,
          7,
          5,
          4,
          6,
          7,
          6,
          4,
          8,
          4,
          5,
          5,
          8,
          7,
          7,
          4,
          5,
          7,
          5,
          6,
          4,
          7,
          6,
          6,
          6,
          7,
          7,
          7,
          6,
          7,
          6,
          4,
          6,
          6,
          6,
          5,
          7,
          3,
          7,
          7,
          6,
          6,
          6,
          6,
          6,
          5,
          6,
          8,
          5,
          7,
          5,
          5,
          7,
          7,
          5,
          5,
          8,
          6,
          6,
          4,
          5,
          8,
          7,
          6,
          5,
          6,
          10,
          9,
          8,
          7,
          6,
          5,
          8,
          7,
          7,
          5,
          6,
          6,
          4,
          8,
          8,
          6,
          6,
          6,
          5,
          6,
          4,
          4,
          5,
          5,
          6,
          9,
          6,
          6,
          7,
          6,
          7,
          7,
          5,
          6,
          6,
          4,
          7,
          6,
          5,
          6,
          7,
          7,
          6,
          5,
          6,
          5,
          10,
          6,
          6,
          7,
          7,
          6,
          10,
          5,
          7,
          7,
          8,
          6,
          5,
          6,
          3,
          5,
          6,
          6,
          5,
          4,
          6,
          6,
          7,
          3,
          6,
          9,
          7,
          8,
          5,
          6,
          4,
          7,
          7,
          5,
          7,
          7,
          5,
          7,
          8,
          4,
          5,
          8,
          7,
          5,
          5,
          4,
          8,
          5,
          7,
          6,
          7,
          8,
          5,
          7,
          7,
          5,
          8,
          5,
          7,
          7,
          7,
          8,
          9,
          6,
          6,
          5,
          6,
          6,
          5,
          7,
          4,
          6,
          6,
          7,
          8,
          9,
          7,
          6,
          6,
          9,
          8,
          6,
          6,
          8,
          7,
          6,
          6,
          6,
          7,
          5,
          5,
          5,
          7,
          7,
          6,
          6,
          5,
          6,
          5,
          5,
          9,
          8,
          7,
          6,
          6,
          5,
          6,
          6,
          5,
          8,
          5,
          8,
          5,
          8,
          7,
          6,
          3,
          8,
          6,
          7,
          9,
          8,
          7,
          5,
          8,
          5,
          6,
          7,
          6,
          7,
          7,
          4,
          8,
          7,
          4,
          7,
          7,
          6,
          6,
          6,
          6,
          9,
          7,
          8,
          6,
          6,
          5,
          5,
          6,
          7,
          3,
          7,
          6,
          5,
          5,
          8,
          5,
          5,
          3,
          10,
          7,
          6,
          7,
          6,
          6,
          7
         ],
         "yaxis": "y"
        }
       ],
       "layout": {
        "legend": {
         "tracegroupgap": 0
        },
        "template": {
         "data": {
          "bar": [
           {
            "error_x": {
             "color": "#f2f5fa"
            },
            "error_y": {
             "color": "#f2f5fa"
            },
            "marker": {
             "line": {
              "color": "rgb(17,17,17)",
              "width": 0.5
             },
             "pattern": {
              "fillmode": "overlay",
              "size": 10,
              "solidity": 0.2
             }
            },
            "type": "bar"
           }
          ],
          "barpolar": [
           {
            "marker": {
             "line": {
              "color": "rgb(17,17,17)",
              "width": 0.5
             },
             "pattern": {
              "fillmode": "overlay",
              "size": 10,
              "solidity": 0.2
             }
            },
            "type": "barpolar"
           }
          ],
          "carpet": [
           {
            "aaxis": {
             "endlinecolor": "#A2B1C6",
             "gridcolor": "#506784",
             "linecolor": "#506784",
             "minorgridcolor": "#506784",
             "startlinecolor": "#A2B1C6"
            },
            "baxis": {
             "endlinecolor": "#A2B1C6",
             "gridcolor": "#506784",
             "linecolor": "#506784",
             "minorgridcolor": "#506784",
             "startlinecolor": "#A2B1C6"
            },
            "type": "carpet"
           }
          ],
          "choropleth": [
           {
            "colorbar": {
             "outlinewidth": 0,
             "ticks": ""
            },
            "type": "choropleth"
           }
          ],
          "contour": [
           {
            "colorbar": {
             "outlinewidth": 0,
             "ticks": ""
            },
            "colorscale": [
             [
              0,
              "#0d0887"
             ],
             [
              0.1111111111111111,
              "#46039f"
             ],
             [
              0.2222222222222222,
              "#7201a8"
             ],
             [
              0.3333333333333333,
              "#9c179e"
             ],
             [
              0.4444444444444444,
              "#bd3786"
             ],
             [
              0.5555555555555556,
              "#d8576b"
             ],
             [
              0.6666666666666666,
              "#ed7953"
             ],
             [
              0.7777777777777778,
              "#fb9f3a"
             ],
             [
              0.8888888888888888,
              "#fdca26"
             ],
             [
              1,
              "#f0f921"
             ]
            ],
            "type": "contour"
           }
          ],
          "contourcarpet": [
           {
            "colorbar": {
             "outlinewidth": 0,
             "ticks": ""
            },
            "type": "contourcarpet"
           }
          ],
          "heatmap": [
           {
            "colorbar": {
             "outlinewidth": 0,
             "ticks": ""
            },
            "colorscale": [
             [
              0,
              "#0d0887"
             ],
             [
              0.1111111111111111,
              "#46039f"
             ],
             [
              0.2222222222222222,
              "#7201a8"
             ],
             [
              0.3333333333333333,
              "#9c179e"
             ],
             [
              0.4444444444444444,
              "#bd3786"
             ],
             [
              0.5555555555555556,
              "#d8576b"
             ],
             [
              0.6666666666666666,
              "#ed7953"
             ],
             [
              0.7777777777777778,
              "#fb9f3a"
             ],
             [
              0.8888888888888888,
              "#fdca26"
             ],
             [
              1,
              "#f0f921"
             ]
            ],
            "type": "heatmap"
           }
          ],
          "heatmapgl": [
           {
            "colorbar": {
             "outlinewidth": 0,
             "ticks": ""
            },
            "colorscale": [
             [
              0,
              "#0d0887"
             ],
             [
              0.1111111111111111,
              "#46039f"
             ],
             [
              0.2222222222222222,
              "#7201a8"
             ],
             [
              0.3333333333333333,
              "#9c179e"
             ],
             [
              0.4444444444444444,
              "#bd3786"
             ],
             [
              0.5555555555555556,
              "#d8576b"
             ],
             [
              0.6666666666666666,
              "#ed7953"
             ],
             [
              0.7777777777777778,
              "#fb9f3a"
             ],
             [
              0.8888888888888888,
              "#fdca26"
             ],
             [
              1,
              "#f0f921"
             ]
            ],
            "type": "heatmapgl"
           }
          ],
          "histogram": [
           {
            "marker": {
             "pattern": {
              "fillmode": "overlay",
              "size": 10,
              "solidity": 0.2
             }
            },
            "type": "histogram"
           }
          ],
          "histogram2d": [
           {
            "colorbar": {
             "outlinewidth": 0,
             "ticks": ""
            },
            "colorscale": [
             [
              0,
              "#0d0887"
             ],
             [
              0.1111111111111111,
              "#46039f"
             ],
             [
              0.2222222222222222,
              "#7201a8"
             ],
             [
              0.3333333333333333,
              "#9c179e"
             ],
             [
              0.4444444444444444,
              "#bd3786"
             ],
             [
              0.5555555555555556,
              "#d8576b"
             ],
             [
              0.6666666666666666,
              "#ed7953"
             ],
             [
              0.7777777777777778,
              "#fb9f3a"
             ],
             [
              0.8888888888888888,
              "#fdca26"
             ],
             [
              1,
              "#f0f921"
             ]
            ],
            "type": "histogram2d"
           }
          ],
          "histogram2dcontour": [
           {
            "colorbar": {
             "outlinewidth": 0,
             "ticks": ""
            },
            "colorscale": [
             [
              0,
              "#0d0887"
             ],
             [
              0.1111111111111111,
              "#46039f"
             ],
             [
              0.2222222222222222,
              "#7201a8"
             ],
             [
              0.3333333333333333,
              "#9c179e"
             ],
             [
              0.4444444444444444,
              "#bd3786"
             ],
             [
              0.5555555555555556,
              "#d8576b"
             ],
             [
              0.6666666666666666,
              "#ed7953"
             ],
             [
              0.7777777777777778,
              "#fb9f3a"
             ],
             [
              0.8888888888888888,
              "#fdca26"
             ],
             [
              1,
              "#f0f921"
             ]
            ],
            "type": "histogram2dcontour"
           }
          ],
          "mesh3d": [
           {
            "colorbar": {
             "outlinewidth": 0,
             "ticks": ""
            },
            "type": "mesh3d"
           }
          ],
          "parcoords": [
           {
            "line": {
             "colorbar": {
              "outlinewidth": 0,
              "ticks": ""
             }
            },
            "type": "parcoords"
           }
          ],
          "pie": [
           {
            "automargin": true,
            "type": "pie"
           }
          ],
          "scatter": [
           {
            "marker": {
             "line": {
              "color": "#283442"
             }
            },
            "type": "scatter"
           }
          ],
          "scatter3d": [
           {
            "line": {
             "colorbar": {
              "outlinewidth": 0,
              "ticks": ""
             }
            },
            "marker": {
             "colorbar": {
              "outlinewidth": 0,
              "ticks": ""
             }
            },
            "type": "scatter3d"
           }
          ],
          "scattercarpet": [
           {
            "marker": {
             "colorbar": {
              "outlinewidth": 0,
              "ticks": ""
             }
            },
            "type": "scattercarpet"
           }
          ],
          "scattergeo": [
           {
            "marker": {
             "colorbar": {
              "outlinewidth": 0,
              "ticks": ""
             }
            },
            "type": "scattergeo"
           }
          ],
          "scattergl": [
           {
            "marker": {
             "line": {
              "color": "#283442"
             }
            },
            "type": "scattergl"
           }
          ],
          "scattermapbox": [
           {
            "marker": {
             "colorbar": {
              "outlinewidth": 0,
              "ticks": ""
             }
            },
            "type": "scattermapbox"
           }
          ],
          "scatterpolar": [
           {
            "marker": {
             "colorbar": {
              "outlinewidth": 0,
              "ticks": ""
             }
            },
            "type": "scatterpolar"
           }
          ],
          "scatterpolargl": [
           {
            "marker": {
             "colorbar": {
              "outlinewidth": 0,
              "ticks": ""
             }
            },
            "type": "scatterpolargl"
           }
          ],
          "scatterternary": [
           {
            "marker": {
             "colorbar": {
              "outlinewidth": 0,
              "ticks": ""
             }
            },
            "type": "scatterternary"
           }
          ],
          "surface": [
           {
            "colorbar": {
             "outlinewidth": 0,
             "ticks": ""
            },
            "colorscale": [
             [
              0,
              "#0d0887"
             ],
             [
              0.1111111111111111,
              "#46039f"
             ],
             [
              0.2222222222222222,
              "#7201a8"
             ],
             [
              0.3333333333333333,
              "#9c179e"
             ],
             [
              0.4444444444444444,
              "#bd3786"
             ],
             [
              0.5555555555555556,
              "#d8576b"
             ],
             [
              0.6666666666666666,
              "#ed7953"
             ],
             [
              0.7777777777777778,
              "#fb9f3a"
             ],
             [
              0.8888888888888888,
              "#fdca26"
             ],
             [
              1,
              "#f0f921"
             ]
            ],
            "type": "surface"
           }
          ],
          "table": [
           {
            "cells": {
             "fill": {
              "color": "#506784"
             },
             "line": {
              "color": "rgb(17,17,17)"
             }
            },
            "header": {
             "fill": {
              "color": "#2a3f5f"
             },
             "line": {
              "color": "rgb(17,17,17)"
             }
            },
            "type": "table"
           }
          ]
         },
         "layout": {
          "annotationdefaults": {
           "arrowcolor": "#f2f5fa",
           "arrowhead": 0,
           "arrowwidth": 1
          },
          "autotypenumbers": "strict",
          "coloraxis": {
           "colorbar": {
            "outlinewidth": 0,
            "ticks": ""
           }
          },
          "colorscale": {
           "diverging": [
            [
             0,
             "#8e0152"
            ],
            [
             0.1,
             "#c51b7d"
            ],
            [
             0.2,
             "#de77ae"
            ],
            [
             0.3,
             "#f1b6da"
            ],
            [
             0.4,
             "#fde0ef"
            ],
            [
             0.5,
             "#f7f7f7"
            ],
            [
             0.6,
             "#e6f5d0"
            ],
            [
             0.7,
             "#b8e186"
            ],
            [
             0.8,
             "#7fbc41"
            ],
            [
             0.9,
             "#4d9221"
            ],
            [
             1,
             "#276419"
            ]
           ],
           "sequential": [
            [
             0,
             "#0d0887"
            ],
            [
             0.1111111111111111,
             "#46039f"
            ],
            [
             0.2222222222222222,
             "#7201a8"
            ],
            [
             0.3333333333333333,
             "#9c179e"
            ],
            [
             0.4444444444444444,
             "#bd3786"
            ],
            [
             0.5555555555555556,
             "#d8576b"
            ],
            [
             0.6666666666666666,
             "#ed7953"
            ],
            [
             0.7777777777777778,
             "#fb9f3a"
            ],
            [
             0.8888888888888888,
             "#fdca26"
            ],
            [
             1,
             "#f0f921"
            ]
           ],
           "sequentialminus": [
            [
             0,
             "#0d0887"
            ],
            [
             0.1111111111111111,
             "#46039f"
            ],
            [
             0.2222222222222222,
             "#7201a8"
            ],
            [
             0.3333333333333333,
             "#9c179e"
            ],
            [
             0.4444444444444444,
             "#bd3786"
            ],
            [
             0.5555555555555556,
             "#d8576b"
            ],
            [
             0.6666666666666666,
             "#ed7953"
            ],
            [
             0.7777777777777778,
             "#fb9f3a"
            ],
            [
             0.8888888888888888,
             "#fdca26"
            ],
            [
             1,
             "#f0f921"
            ]
           ]
          },
          "colorway": [
           "#636efa",
           "#EF553B",
           "#00cc96",
           "#ab63fa",
           "#FFA15A",
           "#19d3f3",
           "#FF6692",
           "#B6E880",
           "#FF97FF",
           "#FECB52"
          ],
          "font": {
           "color": "#f2f5fa"
          },
          "geo": {
           "bgcolor": "rgb(17,17,17)",
           "lakecolor": "rgb(17,17,17)",
           "landcolor": "rgb(17,17,17)",
           "showlakes": true,
           "showland": true,
           "subunitcolor": "#506784"
          },
          "hoverlabel": {
           "align": "left"
          },
          "hovermode": "closest",
          "mapbox": {
           "style": "dark"
          },
          "paper_bgcolor": "rgb(17,17,17)",
          "plot_bgcolor": "rgb(17,17,17)",
          "polar": {
           "angularaxis": {
            "gridcolor": "#506784",
            "linecolor": "#506784",
            "ticks": ""
           },
           "bgcolor": "rgb(17,17,17)",
           "radialaxis": {
            "gridcolor": "#506784",
            "linecolor": "#506784",
            "ticks": ""
           }
          },
          "scene": {
           "xaxis": {
            "backgroundcolor": "rgb(17,17,17)",
            "gridcolor": "#506784",
            "gridwidth": 2,
            "linecolor": "#506784",
            "showbackground": true,
            "ticks": "",
            "zerolinecolor": "#C8D4E3"
           },
           "yaxis": {
            "backgroundcolor": "rgb(17,17,17)",
            "gridcolor": "#506784",
            "gridwidth": 2,
            "linecolor": "#506784",
            "showbackground": true,
            "ticks": "",
            "zerolinecolor": "#C8D4E3"
           },
           "zaxis": {
            "backgroundcolor": "rgb(17,17,17)",
            "gridcolor": "#506784",
            "gridwidth": 2,
            "linecolor": "#506784",
            "showbackground": true,
            "ticks": "",
            "zerolinecolor": "#C8D4E3"
           }
          },
          "shapedefaults": {
           "line": {
            "color": "#f2f5fa"
           }
          },
          "sliderdefaults": {
           "bgcolor": "#C8D4E3",
           "bordercolor": "rgb(17,17,17)",
           "borderwidth": 1,
           "tickwidth": 0
          },
          "ternary": {
           "aaxis": {
            "gridcolor": "#506784",
            "linecolor": "#506784",
            "ticks": ""
           },
           "baxis": {
            "gridcolor": "#506784",
            "linecolor": "#506784",
            "ticks": ""
           },
           "bgcolor": "rgb(17,17,17)",
           "caxis": {
            "gridcolor": "#506784",
            "linecolor": "#506784",
            "ticks": ""
           }
          },
          "title": {
           "x": 0.05
          },
          "updatemenudefaults": {
           "bgcolor": "#506784",
           "borderwidth": 0
          },
          "xaxis": {
           "automargin": true,
           "gridcolor": "#283442",
           "linecolor": "#506784",
           "ticks": "",
           "title": {
            "standoff": 15
           },
           "zerolinecolor": "#283442",
           "zerolinewidth": 2
          },
          "yaxis": {
           "automargin": true,
           "gridcolor": "#283442",
           "linecolor": "#506784",
           "ticks": "",
           "title": {
            "standoff": 15
           },
           "zerolinecolor": "#283442",
           "zerolinewidth": 2
          }
         }
        },
        "title": {
         "font": {
          "size": 20
         },
         "text": "BedroomAbvGr vs TotRmsAbvGrd"
        },
        "xaxis": {
         "anchor": "y",
         "domain": [
          0,
          1
         ],
         "title": {
          "text": "BedroomAbvGr"
         }
        },
        "yaxis": {
         "anchor": "x",
         "domain": [
          0,
          1
         ],
         "title": {
          "text": "TotRmsAbvGrd"
         }
        }
       }
      }
     },
     "metadata": {},
     "output_type": "display_data"
    },
    {
     "data": {
      "application/vnd.plotly.v1+json": {
       "config": {
        "plotlyServerURL": "https://plot.ly"
       },
       "data": [
        {
         "hovertemplate": "BsmtFinSF1=%{x}<br>BsmtFullBath=%{y}<extra></extra>",
         "legendgroup": "",
         "marker": {
          "color": "#636efa",
          "symbol": "circle"
         },
         "mode": "markers",
         "name": "",
         "orientation": "v",
         "showlegend": false,
         "type": "scatter",
         "x": [
          706,
          486,
          655,
          1369,
          906,
          0,
          646,
          504,
          0,
          840,
          1218,
          0,
          0,
          1153,
          0,
          731,
          643,
          456,
          24,
          763,
          384,
          0,
          632,
          941,
          24,
          0,
          1013,
          0,
          565,
          228,
          0,
          588,
          648,
          1162,
          520,
          1200,
          0,
          0,
          444,
          250,
          0,
          0,
          300,
          0,
          116,
          512,
          445,
          695,
          405,
          1005,
          0,
          695,
          668,
          821,
          432,
          1300,
          507,
          679,
          209,
          0,
          680,
          0,
          416,
          0,
          222,
          660,
          1201,
          0,
          1288,
          0,
          611,
          560,
          390,
          0,
          662,
          312,
          0,
          787,
          36,
          822,
          946,
          16,
          0,
          0,
          565,
          842,
          16,
          625,
          24,
          94,
          1078,
          695,
          0,
          0,
          0,
          922,
          0,
          503,
          1334,
          0,
          506,
          0,
          714,
          751,
          524,
          546,
          392,
          905,
          904,
          0,
          614,
          450,
          1285,
          819,
          420,
          281,
          894,
          1464,
          0,
          262,
          518,
          680,
          425,
          1036,
          1619,
          565,
          846,
          720,
          828,
          810,
          0,
          0,
          1270,
          560,
          399,
          540,
          0,
          0,
          298,
          0,
          0,
          0,
          631,
          0,
          266,
          0,
          739,
          777,
          540,
          812,
          24,
          0,
          1116,
          789,
          24,
          209,
          312,
          616,
          288,
          664,
          0,
          0,
          0,
          0,
          642,
          0,
          0,
          0,
          742,
          0,
          916,
          0,
          544,
          326,
          616,
          0,
          386,
          0,
          426,
          1196,
          994,
          1288,
          897,
          588,
          836,
          0,
          329,
          450,
          400,
          380,
          27,
          991,
          0,
          0,
          706,
          777,
          0,
          783,
          0,
          0,
          600,
          0,
          554,
          619,
          308,
          866,
          0,
          290,
          728,
          2,
          943,
          414,
          0,
          0,
          0,
          816,
          672,
          490,
          685,
          0,
          0,
          546,
          789,
          922,
          732,
          904,
          990,
          206,
          763,
          457,
          0,
          871,
          560,
          24,
          822,
          1154,
          0,
          0,
          0,
          806,
          637,
          0,
          1138,
          988,
          193,
          551,
          767,
          827,
          1003,
          1059,
          0,
          0,
          20,
          697,
          0,
          16,
          0,
          863,
          0,
          0,
          0,
          767,
          0,
          523,
          662,
          191,
          1234,
          724,
          1180,
          252,
          0,
          0,
          0,
          0,
          300,
          0,
          0,
          1200,
          0,
          20,
          438,
          405,
          24,
          685,
          836,
          456,
          20,
          762,
          975,
          0,
          387,
          0,
          1097,
          656,
          0,
          16,
          539,
          862,
          0,
          0,
          570,
          197,
          648,
          812,
          0,
          662,
          1218,
          504,
          733,
          0,
          0,
          0,
          0,
          20,
          483,
          572,
          442,
          0,
          352,
          1390,
          460,
          0,
          659,
          0,
          564,
          0,
          0,
          338,
          1148,
          0,
          828,
          0,
          750,
          0,
          505,
          0,
          980,
          902,
          0,
          432,
          1238,
          400,
          285,
          465,
          322,
          860,
          0,
          0,
          599,
          196,
          1059,
          0,
          552,
          0,
          16,
          20,
          833,
          341,
          464,
          0,
          982,
          417,
          699,
          696,
          624,
          0,
          902,
          0,
          0,
          0,
          0,
          0,
          1106,
          552,
          651,
          0,
          0,
          0,
          0,
          1172,
          686,
          24,
          16,
          336,
          643,
          690,
          1036,
          0,
          16,
          1024,
          684,
          16,
          1513,
          986,
          0,
          1022,
          900,
          1085,
          0,
          0,
          383,
          932,
          659,
          936,
          397,
          1201,
          0,
          298,
          535,
          0,
          410,
          662,
          495,
          0,
          592,
          747,
          1039,
          24,
          672,
          704,
          290,
          588,
          1032,
          0,
          219,
          708,
          643,
          415,
          1004,
          353,
          702,
          24,
          0,
          0,
          0,
          0,
          936,
          212,
          584,
          0,
          0,
          1567,
          852,
          0,
          1258,
          275,
          904,
          0,
          442,
          492,
          0,
          786,
          658,
          1216,
          821,
          0,
          0,
          371,
          0,
          0,
          0,
          547,
          0,
          0,
          788,
          1056,
          340,
          344,
          784,
          936,
          196,
          724,
          0,
          666,
          803,
          1000,
          0,
          0,
          0,
          428,
          550,
          0,
          0,
          539,
          0,
          0,
          655,
          504,
          266,
          460,
          0,
          788,
          0,
          1158,
          1014,
          167,
          1016,
          694,
          740,
          0,
          1572,
          0,
          746,
          1200,
          925,
          732,
          0,
          492,
          674,
          280,
          0,
          0,
          483,
          690,
          700,
          814,
          0,
          0,
          0,
          80,
          1443,
          0,
          340,
          734,
          0,
          0,
          533,
          633,
          685,
          975,
          0,
          384,
          0,
          865,
          204,
          1400,
          769,
          1070,
          0,
          264,
          759,
          0,
          929,
          656,
          625,
          666,
          976,
          686,
          0,
          580,
          958,
          0,
          0,
          936,
          616,
          697,
          765,
          0,
          0,
          0,
          0,
          410,
          0
         ],
         "xaxis": "x",
         "y": [
          1,
          1,
          1,
          1,
          1,
          0,
          1,
          0,
          0,
          1,
          1,
          0,
          0,
          1,
          0,
          1,
          0,
          1,
          0,
          1,
          0,
          0,
          0,
          1,
          0,
          0,
          1,
          0,
          1,
          0,
          0,
          1,
          1,
          0,
          1,
          1,
          0,
          0,
          0,
          0,
          0,
          0,
          0,
          0,
          0,
          0,
          0,
          1,
          1,
          1,
          0,
          0,
          0,
          1,
          0,
          1,
          0,
          1,
          1,
          0,
          1,
          0,
          0,
          0,
          0,
          0,
          0,
          0,
          1,
          0,
          1,
          1,
          0,
          0,
          1,
          0,
          0,
          1,
          0,
          1,
          1,
          0,
          0,
          0,
          0,
          0,
          0,
          1,
          0,
          0,
          1,
          1,
          0,
          0,
          0,
          1,
          0,
          0,
          1,
          0,
          1,
          0,
          1,
          1,
          0,
          0,
          0,
          0,
          1,
          0,
          0,
          0,
          1,
          1,
          0,
          0,
          1,
          1,
          0,
          0,
          0,
          1,
          1,
          1,
          2,
          0,
          1,
          1,
          1,
          1,
          0,
          0,
          1,
          1,
          1,
          0,
          0,
          0,
          0,
          0,
          1,
          0,
          1,
          0,
          0,
          0,
          1,
          0,
          0,
          1,
          0,
          0,
          1,
          1,
          0,
          0,
          1,
          1,
          0,
          1,
          0,
          0,
          0,
          0,
          1,
          0,
          0,
          0,
          1,
          0,
          0,
          0,
          1,
          0,
          0,
          0,
          0,
          0,
          0,
          1,
          1,
          1,
          1,
          1,
          1,
          0,
          1,
          0,
          0,
          0,
          0,
          1,
          0,
          0,
          1,
          0,
          0,
          1,
          0,
          0,
          0,
          0,
          1,
          1,
          0,
          1,
          0,
          1,
          1,
          0,
          1,
          1,
          0,
          0,
          0,
          1,
          1,
          0,
          1,
          0,
          0,
          1,
          1,
          1,
          1,
          1,
          1,
          0,
          1,
          1,
          0,
          1,
          0,
          0,
          0,
          1,
          0,
          1,
          0,
          1,
          1,
          0,
          1,
          1,
          1,
          1,
          1,
          1,
          1,
          1,
          0,
          0,
          0,
          1,
          0,
          0,
          0,
          1,
          0,
          0,
          0,
          1,
          0,
          0,
          1,
          0,
          1,
          1,
          1,
          0,
          0,
          0,
          0,
          0,
          0,
          0,
          0,
          1,
          0,
          0,
          0,
          0,
          0,
          1,
          0,
          0,
          0,
          1,
          1,
          0,
          0,
          0,
          1,
          1,
          0,
          0,
          1,
          1,
          0,
          0,
          0,
          1,
          1,
          0,
          0,
          1,
          1,
          1,
          1,
          0,
          0,
          0,
          0,
          0,
          1,
          1,
          0,
          0,
          0,
          1,
          1,
          0,
          1,
          0,
          0,
          0,
          0,
          0,
          1,
          0,
          1,
          0,
          1,
          0,
          0,
          0,
          1,
          0,
          0,
          0,
          1,
          1,
          0,
          0,
          0,
          1,
          0,
          0,
          0,
          0,
          0,
          0,
          0,
          0,
          0,
          0,
          1,
          0,
          0,
          0,
          1,
          0,
          1,
          1,
          1,
          0,
          1,
          0,
          0,
          0,
          0,
          0,
          1,
          0,
          1,
          0,
          0,
          0,
          0,
          1,
          1,
          0,
          0,
          0,
          1,
          1,
          1,
          0,
          0,
          1,
          1,
          0,
          1,
          1,
          0,
          1,
          1,
          1,
          0,
          0,
          0,
          1,
          1,
          1,
          0,
          1,
          0,
          0,
          0,
          0,
          0,
          1,
          0,
          0,
          0,
          1,
          1,
          0,
          0,
          0,
          0,
          0,
          1,
          0,
          1,
          1,
          1,
          0,
          1,
          1,
          1,
          0,
          0,
          0,
          0,
          0,
          1,
          0,
          0,
          0,
          0,
          1,
          1,
          0,
          1,
          0,
          1,
          0,
          0,
          0,
          0,
          1,
          1,
          0,
          1,
          0,
          0,
          0,
          0,
          0,
          0,
          0,
          0,
          0,
          1,
          1,
          1,
          1,
          1,
          1,
          0,
          1,
          0,
          0,
          1,
          1,
          0,
          0,
          0,
          0,
          1,
          0,
          0,
          1,
          0,
          0,
          1,
          0,
          1,
          0,
          0,
          1,
          0,
          1,
          1,
          1,
          1,
          0,
          1,
          0,
          1,
          0,
          1,
          1,
          1,
          1,
          1,
          0,
          1,
          0,
          0,
          0,
          0,
          1,
          1,
          1,
          0,
          0,
          0,
          1,
          1,
          0,
          0,
          1,
          0,
          0,
          1,
          1,
          1,
          1,
          0,
          0,
          0,
          0,
          0,
          1,
          1,
          1,
          0,
          0,
          1,
          0,
          1,
          1,
          1,
          1,
          1,
          1,
          0,
          1,
          0,
          0,
          1,
          1,
          0,
          1,
          1,
          0,
          0,
          0,
          0,
          1,
          0
         ],
         "yaxis": "y"
        }
       ],
       "layout": {
        "legend": {
         "tracegroupgap": 0
        },
        "template": {
         "data": {
          "bar": [
           {
            "error_x": {
             "color": "#f2f5fa"
            },
            "error_y": {
             "color": "#f2f5fa"
            },
            "marker": {
             "line": {
              "color": "rgb(17,17,17)",
              "width": 0.5
             },
             "pattern": {
              "fillmode": "overlay",
              "size": 10,
              "solidity": 0.2
             }
            },
            "type": "bar"
           }
          ],
          "barpolar": [
           {
            "marker": {
             "line": {
              "color": "rgb(17,17,17)",
              "width": 0.5
             },
             "pattern": {
              "fillmode": "overlay",
              "size": 10,
              "solidity": 0.2
             }
            },
            "type": "barpolar"
           }
          ],
          "carpet": [
           {
            "aaxis": {
             "endlinecolor": "#A2B1C6",
             "gridcolor": "#506784",
             "linecolor": "#506784",
             "minorgridcolor": "#506784",
             "startlinecolor": "#A2B1C6"
            },
            "baxis": {
             "endlinecolor": "#A2B1C6",
             "gridcolor": "#506784",
             "linecolor": "#506784",
             "minorgridcolor": "#506784",
             "startlinecolor": "#A2B1C6"
            },
            "type": "carpet"
           }
          ],
          "choropleth": [
           {
            "colorbar": {
             "outlinewidth": 0,
             "ticks": ""
            },
            "type": "choropleth"
           }
          ],
          "contour": [
           {
            "colorbar": {
             "outlinewidth": 0,
             "ticks": ""
            },
            "colorscale": [
             [
              0,
              "#0d0887"
             ],
             [
              0.1111111111111111,
              "#46039f"
             ],
             [
              0.2222222222222222,
              "#7201a8"
             ],
             [
              0.3333333333333333,
              "#9c179e"
             ],
             [
              0.4444444444444444,
              "#bd3786"
             ],
             [
              0.5555555555555556,
              "#d8576b"
             ],
             [
              0.6666666666666666,
              "#ed7953"
             ],
             [
              0.7777777777777778,
              "#fb9f3a"
             ],
             [
              0.8888888888888888,
              "#fdca26"
             ],
             [
              1,
              "#f0f921"
             ]
            ],
            "type": "contour"
           }
          ],
          "contourcarpet": [
           {
            "colorbar": {
             "outlinewidth": 0,
             "ticks": ""
            },
            "type": "contourcarpet"
           }
          ],
          "heatmap": [
           {
            "colorbar": {
             "outlinewidth": 0,
             "ticks": ""
            },
            "colorscale": [
             [
              0,
              "#0d0887"
             ],
             [
              0.1111111111111111,
              "#46039f"
             ],
             [
              0.2222222222222222,
              "#7201a8"
             ],
             [
              0.3333333333333333,
              "#9c179e"
             ],
             [
              0.4444444444444444,
              "#bd3786"
             ],
             [
              0.5555555555555556,
              "#d8576b"
             ],
             [
              0.6666666666666666,
              "#ed7953"
             ],
             [
              0.7777777777777778,
              "#fb9f3a"
             ],
             [
              0.8888888888888888,
              "#fdca26"
             ],
             [
              1,
              "#f0f921"
             ]
            ],
            "type": "heatmap"
           }
          ],
          "heatmapgl": [
           {
            "colorbar": {
             "outlinewidth": 0,
             "ticks": ""
            },
            "colorscale": [
             [
              0,
              "#0d0887"
             ],
             [
              0.1111111111111111,
              "#46039f"
             ],
             [
              0.2222222222222222,
              "#7201a8"
             ],
             [
              0.3333333333333333,
              "#9c179e"
             ],
             [
              0.4444444444444444,
              "#bd3786"
             ],
             [
              0.5555555555555556,
              "#d8576b"
             ],
             [
              0.6666666666666666,
              "#ed7953"
             ],
             [
              0.7777777777777778,
              "#fb9f3a"
             ],
             [
              0.8888888888888888,
              "#fdca26"
             ],
             [
              1,
              "#f0f921"
             ]
            ],
            "type": "heatmapgl"
           }
          ],
          "histogram": [
           {
            "marker": {
             "pattern": {
              "fillmode": "overlay",
              "size": 10,
              "solidity": 0.2
             }
            },
            "type": "histogram"
           }
          ],
          "histogram2d": [
           {
            "colorbar": {
             "outlinewidth": 0,
             "ticks": ""
            },
            "colorscale": [
             [
              0,
              "#0d0887"
             ],
             [
              0.1111111111111111,
              "#46039f"
             ],
             [
              0.2222222222222222,
              "#7201a8"
             ],
             [
              0.3333333333333333,
              "#9c179e"
             ],
             [
              0.4444444444444444,
              "#bd3786"
             ],
             [
              0.5555555555555556,
              "#d8576b"
             ],
             [
              0.6666666666666666,
              "#ed7953"
             ],
             [
              0.7777777777777778,
              "#fb9f3a"
             ],
             [
              0.8888888888888888,
              "#fdca26"
             ],
             [
              1,
              "#f0f921"
             ]
            ],
            "type": "histogram2d"
           }
          ],
          "histogram2dcontour": [
           {
            "colorbar": {
             "outlinewidth": 0,
             "ticks": ""
            },
            "colorscale": [
             [
              0,
              "#0d0887"
             ],
             [
              0.1111111111111111,
              "#46039f"
             ],
             [
              0.2222222222222222,
              "#7201a8"
             ],
             [
              0.3333333333333333,
              "#9c179e"
             ],
             [
              0.4444444444444444,
              "#bd3786"
             ],
             [
              0.5555555555555556,
              "#d8576b"
             ],
             [
              0.6666666666666666,
              "#ed7953"
             ],
             [
              0.7777777777777778,
              "#fb9f3a"
             ],
             [
              0.8888888888888888,
              "#fdca26"
             ],
             [
              1,
              "#f0f921"
             ]
            ],
            "type": "histogram2dcontour"
           }
          ],
          "mesh3d": [
           {
            "colorbar": {
             "outlinewidth": 0,
             "ticks": ""
            },
            "type": "mesh3d"
           }
          ],
          "parcoords": [
           {
            "line": {
             "colorbar": {
              "outlinewidth": 0,
              "ticks": ""
             }
            },
            "type": "parcoords"
           }
          ],
          "pie": [
           {
            "automargin": true,
            "type": "pie"
           }
          ],
          "scatter": [
           {
            "marker": {
             "line": {
              "color": "#283442"
             }
            },
            "type": "scatter"
           }
          ],
          "scatter3d": [
           {
            "line": {
             "colorbar": {
              "outlinewidth": 0,
              "ticks": ""
             }
            },
            "marker": {
             "colorbar": {
              "outlinewidth": 0,
              "ticks": ""
             }
            },
            "type": "scatter3d"
           }
          ],
          "scattercarpet": [
           {
            "marker": {
             "colorbar": {
              "outlinewidth": 0,
              "ticks": ""
             }
            },
            "type": "scattercarpet"
           }
          ],
          "scattergeo": [
           {
            "marker": {
             "colorbar": {
              "outlinewidth": 0,
              "ticks": ""
             }
            },
            "type": "scattergeo"
           }
          ],
          "scattergl": [
           {
            "marker": {
             "line": {
              "color": "#283442"
             }
            },
            "type": "scattergl"
           }
          ],
          "scattermapbox": [
           {
            "marker": {
             "colorbar": {
              "outlinewidth": 0,
              "ticks": ""
             }
            },
            "type": "scattermapbox"
           }
          ],
          "scatterpolar": [
           {
            "marker": {
             "colorbar": {
              "outlinewidth": 0,
              "ticks": ""
             }
            },
            "type": "scatterpolar"
           }
          ],
          "scatterpolargl": [
           {
            "marker": {
             "colorbar": {
              "outlinewidth": 0,
              "ticks": ""
             }
            },
            "type": "scatterpolargl"
           }
          ],
          "scatterternary": [
           {
            "marker": {
             "colorbar": {
              "outlinewidth": 0,
              "ticks": ""
             }
            },
            "type": "scatterternary"
           }
          ],
          "surface": [
           {
            "colorbar": {
             "outlinewidth": 0,
             "ticks": ""
            },
            "colorscale": [
             [
              0,
              "#0d0887"
             ],
             [
              0.1111111111111111,
              "#46039f"
             ],
             [
              0.2222222222222222,
              "#7201a8"
             ],
             [
              0.3333333333333333,
              "#9c179e"
             ],
             [
              0.4444444444444444,
              "#bd3786"
             ],
             [
              0.5555555555555556,
              "#d8576b"
             ],
             [
              0.6666666666666666,
              "#ed7953"
             ],
             [
              0.7777777777777778,
              "#fb9f3a"
             ],
             [
              0.8888888888888888,
              "#fdca26"
             ],
             [
              1,
              "#f0f921"
             ]
            ],
            "type": "surface"
           }
          ],
          "table": [
           {
            "cells": {
             "fill": {
              "color": "#506784"
             },
             "line": {
              "color": "rgb(17,17,17)"
             }
            },
            "header": {
             "fill": {
              "color": "#2a3f5f"
             },
             "line": {
              "color": "rgb(17,17,17)"
             }
            },
            "type": "table"
           }
          ]
         },
         "layout": {
          "annotationdefaults": {
           "arrowcolor": "#f2f5fa",
           "arrowhead": 0,
           "arrowwidth": 1
          },
          "autotypenumbers": "strict",
          "coloraxis": {
           "colorbar": {
            "outlinewidth": 0,
            "ticks": ""
           }
          },
          "colorscale": {
           "diverging": [
            [
             0,
             "#8e0152"
            ],
            [
             0.1,
             "#c51b7d"
            ],
            [
             0.2,
             "#de77ae"
            ],
            [
             0.3,
             "#f1b6da"
            ],
            [
             0.4,
             "#fde0ef"
            ],
            [
             0.5,
             "#f7f7f7"
            ],
            [
             0.6,
             "#e6f5d0"
            ],
            [
             0.7,
             "#b8e186"
            ],
            [
             0.8,
             "#7fbc41"
            ],
            [
             0.9,
             "#4d9221"
            ],
            [
             1,
             "#276419"
            ]
           ],
           "sequential": [
            [
             0,
             "#0d0887"
            ],
            [
             0.1111111111111111,
             "#46039f"
            ],
            [
             0.2222222222222222,
             "#7201a8"
            ],
            [
             0.3333333333333333,
             "#9c179e"
            ],
            [
             0.4444444444444444,
             "#bd3786"
            ],
            [
             0.5555555555555556,
             "#d8576b"
            ],
            [
             0.6666666666666666,
             "#ed7953"
            ],
            [
             0.7777777777777778,
             "#fb9f3a"
            ],
            [
             0.8888888888888888,
             "#fdca26"
            ],
            [
             1,
             "#f0f921"
            ]
           ],
           "sequentialminus": [
            [
             0,
             "#0d0887"
            ],
            [
             0.1111111111111111,
             "#46039f"
            ],
            [
             0.2222222222222222,
             "#7201a8"
            ],
            [
             0.3333333333333333,
             "#9c179e"
            ],
            [
             0.4444444444444444,
             "#bd3786"
            ],
            [
             0.5555555555555556,
             "#d8576b"
            ],
            [
             0.6666666666666666,
             "#ed7953"
            ],
            [
             0.7777777777777778,
             "#fb9f3a"
            ],
            [
             0.8888888888888888,
             "#fdca26"
            ],
            [
             1,
             "#f0f921"
            ]
           ]
          },
          "colorway": [
           "#636efa",
           "#EF553B",
           "#00cc96",
           "#ab63fa",
           "#FFA15A",
           "#19d3f3",
           "#FF6692",
           "#B6E880",
           "#FF97FF",
           "#FECB52"
          ],
          "font": {
           "color": "#f2f5fa"
          },
          "geo": {
           "bgcolor": "rgb(17,17,17)",
           "lakecolor": "rgb(17,17,17)",
           "landcolor": "rgb(17,17,17)",
           "showlakes": true,
           "showland": true,
           "subunitcolor": "#506784"
          },
          "hoverlabel": {
           "align": "left"
          },
          "hovermode": "closest",
          "mapbox": {
           "style": "dark"
          },
          "paper_bgcolor": "rgb(17,17,17)",
          "plot_bgcolor": "rgb(17,17,17)",
          "polar": {
           "angularaxis": {
            "gridcolor": "#506784",
            "linecolor": "#506784",
            "ticks": ""
           },
           "bgcolor": "rgb(17,17,17)",
           "radialaxis": {
            "gridcolor": "#506784",
            "linecolor": "#506784",
            "ticks": ""
           }
          },
          "scene": {
           "xaxis": {
            "backgroundcolor": "rgb(17,17,17)",
            "gridcolor": "#506784",
            "gridwidth": 2,
            "linecolor": "#506784",
            "showbackground": true,
            "ticks": "",
            "zerolinecolor": "#C8D4E3"
           },
           "yaxis": {
            "backgroundcolor": "rgb(17,17,17)",
            "gridcolor": "#506784",
            "gridwidth": 2,
            "linecolor": "#506784",
            "showbackground": true,
            "ticks": "",
            "zerolinecolor": "#C8D4E3"
           },
           "zaxis": {
            "backgroundcolor": "rgb(17,17,17)",
            "gridcolor": "#506784",
            "gridwidth": 2,
            "linecolor": "#506784",
            "showbackground": true,
            "ticks": "",
            "zerolinecolor": "#C8D4E3"
           }
          },
          "shapedefaults": {
           "line": {
            "color": "#f2f5fa"
           }
          },
          "sliderdefaults": {
           "bgcolor": "#C8D4E3",
           "bordercolor": "rgb(17,17,17)",
           "borderwidth": 1,
           "tickwidth": 0
          },
          "ternary": {
           "aaxis": {
            "gridcolor": "#506784",
            "linecolor": "#506784",
            "ticks": ""
           },
           "baxis": {
            "gridcolor": "#506784",
            "linecolor": "#506784",
            "ticks": ""
           },
           "bgcolor": "rgb(17,17,17)",
           "caxis": {
            "gridcolor": "#506784",
            "linecolor": "#506784",
            "ticks": ""
           }
          },
          "title": {
           "x": 0.05
          },
          "updatemenudefaults": {
           "bgcolor": "#506784",
           "borderwidth": 0
          },
          "xaxis": {
           "automargin": true,
           "gridcolor": "#283442",
           "linecolor": "#506784",
           "ticks": "",
           "title": {
            "standoff": 15
           },
           "zerolinecolor": "#283442",
           "zerolinewidth": 2
          },
          "yaxis": {
           "automargin": true,
           "gridcolor": "#283442",
           "linecolor": "#506784",
           "ticks": "",
           "title": {
            "standoff": 15
           },
           "zerolinecolor": "#283442",
           "zerolinewidth": 2
          }
         }
        },
        "title": {
         "font": {
          "size": 20
         },
         "text": "BsmtFinSF1 vs BsmtFullBath"
        },
        "xaxis": {
         "anchor": "y",
         "domain": [
          0,
          1
         ],
         "title": {
          "text": "BsmtFinSF1"
         }
        },
        "yaxis": {
         "anchor": "x",
         "domain": [
          0,
          1
         ],
         "title": {
          "text": "BsmtFullBath"
         }
        }
       }
      }
     },
     "metadata": {},
     "output_type": "display_data"
    },
    {
     "data": {
      "application/vnd.plotly.v1+json": {
       "config": {
        "plotlyServerURL": "https://plot.ly"
       },
       "data": [
        {
         "hovertemplate": "2ndFlrSF=%{x}<br>GrLivArea=%{y}<extra></extra>",
         "legendgroup": "",
         "marker": {
          "color": "#636efa",
          "symbol": "circle"
         },
         "mode": "markers",
         "name": "",
         "orientation": "v",
         "showlegend": false,
         "type": "scatter",
         "x": [
          854,
          866,
          1053,
          0,
          0,
          0,
          0,
          0,
          1218,
          0,
          0,
          0,
          0,
          0,
          1320,
          0,
          0,
          0,
          0,
          0,
          0,
          860,
          0,
          0,
          0,
          1330,
          0,
          0,
          0,
          0,
          0,
          0,
          881,
          0,
          0,
          0,
          755,
          0,
          639,
          656,
          0,
          728,
          0,
          0,
          0,
          688,
          941,
          1032,
          0,
          0,
          0,
          0,
          848,
          836,
          0,
          0,
          475,
          0,
          0,
          1151,
          0,
          448,
          896,
          1194,
          956,
          0,
          0,
          0,
          551,
          880,
          0,
          0,
          0,
          0,
          0,
          564,
          0,
          0,
          0,
          920,
          0,
          0,
          0,
          1257,
          1306,
          0,
          0,
          1100,
          0,
          689,
          0,
          888,
          0,
          828,
          842,
          0,
          1286,
          864,
          0,
          1092,
          0,
          0,
          709,
          0,
          1106,
          0,
          866,
          0,
          0,
          0,
          0,
          0,
          0,
          0,
          648,
          1242,
          0,
          0,
          371,
          0,
          804,
          0,
          716,
          0,
          0,
          0,
          0,
          0,
          695,
          0,
          915,
          605,
          0,
          0,
          517,
          0,
          711,
          1081,
          0,
          793,
          0,
          858,
          0,
          0,
          0,
          299,
          0,
          0,
          936,
          438,
          0,
          766,
          0,
          1028,
          0,
          728,
          378,
          0,
          0,
          0,
          110,
          678,
          445,
          0,
          975,
          0,
          930,
          596,
          868,
          804,
          0,
          833,
          1103,
          811,
          0,
          0,
          756,
          0,
          878,
          0,
          0,
          0,
          0,
          0,
          0,
          728,
          687,
          0,
          902,
          846,
          0,
          0,
          0,
          741,
          914,
          0,
          0,
          0,
          707,
          844,
          0,
          1288,
          832,
          0,
          0,
          1040,
          0,
          0,
          1129,
          0,
          0,
          0,
          846,
          656,
          745,
          0,
          0,
          812,
          0,
          0,
          684,
          846,
          988,
          0,
          0,
          677,
          573,
          0,
          0,
          702,
          0,
          780,
          0,
          0,
          0,
          0,
          843,
          755,
          807,
          0,
          0,
          482,
          0,
          0,
          738,
          672,
          0,
          0,
          0,
          0,
          644,
          887,
          0,
          0,
          472,
          0,
          0,
          0,
          728,
          0,
          0,
          0,
          0,
          0,
          0,
          0,
          0,
          0,
          0,
          878,
          0,
          900,
          864,
          0,
          1276,
          348,
          660,
          0,
          1060,
          902,
          714,
          0,
          783,
          0,
          0,
          0,
          0,
          0,
          0,
          0,
          793,
          0,
          0,
          1128,
          0,
          0,
          0,
          886,
          0,
          0,
          0,
          0,
          728,
          0,
          0,
          0,
          0,
          0,
          0,
          842,
          886,
          545,
          0,
          0,
          888,
          0,
          0,
          0,
          432,
          0,
          0,
          761,
          0,
          0,
          0,
          779,
          0,
          0,
          0,
          0,
          0,
          0,
          887,
          0,
          878,
          455,
          0,
          530,
          785,
          0,
          0,
          813,
          0,
          0,
          0,
          0,
          702,
          0,
          0,
          0,
          0,
          1140,
          880,
          1243,
          0,
          0,
          0,
          858,
          571,
          840,
          0,
          0,
          0,
          0,
          1070,
          701,
          0,
          368,
          472,
          0,
          0,
          0,
          0,
          0,
          0,
          0,
          1141,
          798,
          750,
          0,
          0,
          0,
          0,
          0,
          855,
          0,
          0,
          670,
          0,
          0,
          0,
          0,
          0,
          0,
          0,
          0,
          0,
          797,
          0,
          0,
          0,
          898,
          0,
          1054,
          0,
          954,
          772,
          727,
          728,
          0,
          780,
          0,
          0,
          0,
          807,
          0,
          0,
          0,
          567,
          0,
          0,
          0,
          1122,
          742,
          885,
          0,
          0,
          0,
          0,
          640,
          0,
          0,
          670,
          0,
          0,
          1112,
          0,
          0,
          878,
          684,
          0,
          0,
          0,
          534,
          0,
          704,
          0,
          0,
          933,
          0,
          0,
          712,
          0,
          1216,
          0,
          829,
          776,
          689,
          728,
          984,
          0,
          0,
          0,
          913,
          0,
          0,
          0,
          0,
          0,
          0,
          678,
          702,
          1039,
          0,
          0,
          0,
          892,
          1101,
          0,
          0,
          884,
          725,
          797,
          0,
          0,
          896,
          0,
          0,
          0,
          650,
          0,
          0,
          587,
          0,
          0,
          0,
          0,
          978,
          1323,
          0,
          0,
          0,
          0,
          0,
          0,
          0,
          0,
          0,
          862,
          0,
          677,
          0,
          0,
          0,
          941,
          0,
          885,
          741,
          728,
          0,
          0,
          698,
          0,
          0,
          457,
          796,
          860,
          908,
          0,
          989,
          0,
          0,
          640,
          0,
          560,
          0,
          0,
          0,
          1349,
          448,
          729,
          0,
          0,
          0,
          0,
          896,
          0,
          0,
          0,
          510,
          0,
          0,
          830,
          0,
          0,
          0,
          981,
          0,
          550,
          0,
          0,
          0,
          694
         ],
         "xaxis": "x",
         "y": [
          1710,
          1786,
          2198,
          1694,
          1040,
          1494,
          1114,
          1339,
          2376,
          1060,
          1704,
          1228,
          1234,
          1561,
          2452,
          1057,
          1324,
          1752,
          1656,
          955,
          1360,
          1720,
          780,
          1158,
          1370,
          2473,
          1479,
          747,
          845,
          952,
          1065,
          990,
          1786,
          1588,
          960,
          1610,
          1732,
          1226,
          1855,
          1430,
          1125,
          1456,
          1199,
          1586,
          840,
          1348,
          2157,
          2054,
          1327,
          1296,
          1682,
          1214,
          1852,
          1764,
          864,
          1734,
          1385,
          1501,
          875,
          2035,
          1080,
          1344,
          1993,
          1968,
          1947,
          1232,
          1541,
          882,
          2161,
          1720,
          1217,
          1431,
          864,
          1121,
          848,
          1284,
          1696,
          1092,
          1212,
          1852,
          1436,
          1248,
          1498,
          2267,
          2520,
          912,
          1555,
          1960,
          1414,
          1487,
          1566,
          2110,
          1375,
          1668,
          1640,
          1314,
          2291,
          1728,
          1604,
          2574,
          1212,
          764,
          1511,
          1113,
          2270,
          816,
          2022,
          1262,
          1314,
          1468,
          858,
          900,
          1644,
          1003,
          1558,
          2452,
          894,
          2000,
          1406,
          861,
          1501,
          972,
          1432,
          1472,
          1719,
          1383,
          1056,
          1358,
          1638,
          1536,
          1908,
          1577,
          1478,
          1167,
          1505,
          1268,
          1664,
          1928,
          914,
          1800,
          1301,
          1797,
          1125,
          1479,
          788,
          1034,
          1144,
          894,
          1812,
          1550,
          1310,
          1572,
          1620,
          2078,
          1340,
          1400,
          1134,
          1196,
          907,
          1208,
          1198,
          1604,
          1573,
          1258,
          1908,
          1689,
          1886,
          1376,
          1756,
          1590,
          1242,
          1666,
          1935,
          1660,
          1040,
          1414,
          1644,
          1634,
          1710,
          1652,
          1493,
          1718,
          1216,
          999,
          1073,
          1456,
          1820,
          899,
          1768,
          1911,
          1218,
          1041,
          1368,
          2119,
          1796,
          1244,
          1266,
          1509,
          1414,
          1724,
          864,
          2285,
          1496,
          768,
          928,
          2046,
          1557,
          996,
          2295,
          1535,
          943,
          864,
          1692,
          1430,
          1795,
          816,
          860,
          1582,
          848,
          924,
          1368,
          1904,
          1915,
          1494,
          1040,
          2153,
          1872,
          1120,
          1054,
          1509,
          832,
          2262,
          980,
          1554,
          1411,
          1567,
          1665,
          1510,
          1716,
          1053,
          1486,
          1936,
          1679,
          1437,
          1476,
          1369,
          1208,
          988,
          1291,
          1668,
          1839,
          1761,
          1362,
          848,
          1539,
          1391,
          1164,
          1324,
          1456,
          904,
          729,
          1228,
          1350,
          971,
          848,
          864,
          1698,
          1232,
          1616,
          2031,
          948,
          1801,
          1728,
          1349,
          2256,
          1140,
          1320,
          1494,
          2098,
          1768,
          1386,
          1301,
          1547,
          858,
          1220,
          912,
          1614,
          894,
          1004,
          1253,
          1603,
          1430,
          1110,
          2084,
          901,
          1145,
          1062,
          2013,
          1496,
          1285,
          773,
          1196,
          1456,
          1128,
          1428,
          848,
          1689,
          1052,
          1358,
          1640,
          1733,
          1489,
          1489,
          1434,
          1829,
          1144,
          1067,
          1099,
          1200,
          1701,
          864,
          1855,
          848,
          1456,
          1445,
          1481,
          1370,
          1097,
          1148,
          1372,
          1002,
          1646,
          1949,
          894,
          1682,
          1131,
          1090,
          1717,
          1593,
          892,
          1709,
          1796,
          951,
          1236,
          858,
          1306,
          1509,
          1670,
          902,
          1268,
          1229,
          2374,
          1978,
          2236,
          1466,
          1500,
          1200,
          1971,
          1962,
          1776,
          1381,
          1057,
          1337,
          858,
          1894,
          1484,
          1098,
          968,
          1192,
          918,
          1428,
          869,
          1241,
          894,
          1121,
          1266,
          2290,
          1576,
          1500,
          1718,
          1208,
          1574,
          1504,
          1082,
          1665,
          1504,
          1360,
          1472,
          1506,
          1132,
          1220,
          1504,
          1646,
          1654,
          954,
          1620,
          1306,
          2329,
          1302,
          1316,
          1526,
          1989,
          1364,
          2184,
          1103,
          2260,
          1571,
          1556,
          1426,
          1240,
          1740,
          848,
          990,
          1459,
          1498,
          996,
          1247,
          1314,
          1324,
          1601,
          438,
          1134,
          2622,
          1690,
          1658,
          816,
          1008,
          833,
          1734,
          1419,
          894,
          1552,
          1482,
          1005,
          1555,
          1959,
          936,
          974,
          2020,
          1600,
          986,
          1567,
          952,
          1576,
          1298,
          1564,
          1314,
          1580,
          1876,
          894,
          1502,
          1671,
          923,
          2514,
          1130,
          1660,
          1804,
          1352,
          1456,
          1863,
          1212,
          1382,
          864,
          1779,
          1074,
          1056,
          1700,
          672,
          999,
          1314,
          1846,
          1490,
          1933,
          1507,
          1190,
          1188,
          1784,
          1948,
          1141,
          1484,
          1768,
          1517,
          1553,
          1034,
          1405,
          1656,
          1166,
          1050,
          1337,
          1524,
          1489,
          1573,
          1412,
          1659,
          1152,
          864,
          1052,
          1983,
          2526,
          1616,
          1652,
          1368,
          990,
          1294,
          1274,
          948,
          1630,
          948,
          1923,
          708,
          1632,
          1588,
          954,
          816,
          1861,
          1114,
          2169,
          1913,
          1456,
          1776,
          1494,
          1920,
          892,
          1078,
          1738,
          1412,
          1674,
          1790,
          848,
          2097,
          1571,
          790,
          1394,
          2117,
          1258,
          1525,
          900,
          1500,
          2482,
          1608,
          1593,
          1294,
          1464,
          768,
          833,
          1840,
          1844,
          848,
          1252,
          1558,
          958,
          968,
          1792,
          1126,
          864,
          848,
          2007,
          1422,
          1346,
          1578,
          1140,
          1221,
          1647
         ],
         "yaxis": "y"
        }
       ],
       "layout": {
        "legend": {
         "tracegroupgap": 0
        },
        "template": {
         "data": {
          "bar": [
           {
            "error_x": {
             "color": "#f2f5fa"
            },
            "error_y": {
             "color": "#f2f5fa"
            },
            "marker": {
             "line": {
              "color": "rgb(17,17,17)",
              "width": 0.5
             },
             "pattern": {
              "fillmode": "overlay",
              "size": 10,
              "solidity": 0.2
             }
            },
            "type": "bar"
           }
          ],
          "barpolar": [
           {
            "marker": {
             "line": {
              "color": "rgb(17,17,17)",
              "width": 0.5
             },
             "pattern": {
              "fillmode": "overlay",
              "size": 10,
              "solidity": 0.2
             }
            },
            "type": "barpolar"
           }
          ],
          "carpet": [
           {
            "aaxis": {
             "endlinecolor": "#A2B1C6",
             "gridcolor": "#506784",
             "linecolor": "#506784",
             "minorgridcolor": "#506784",
             "startlinecolor": "#A2B1C6"
            },
            "baxis": {
             "endlinecolor": "#A2B1C6",
             "gridcolor": "#506784",
             "linecolor": "#506784",
             "minorgridcolor": "#506784",
             "startlinecolor": "#A2B1C6"
            },
            "type": "carpet"
           }
          ],
          "choropleth": [
           {
            "colorbar": {
             "outlinewidth": 0,
             "ticks": ""
            },
            "type": "choropleth"
           }
          ],
          "contour": [
           {
            "colorbar": {
             "outlinewidth": 0,
             "ticks": ""
            },
            "colorscale": [
             [
              0,
              "#0d0887"
             ],
             [
              0.1111111111111111,
              "#46039f"
             ],
             [
              0.2222222222222222,
              "#7201a8"
             ],
             [
              0.3333333333333333,
              "#9c179e"
             ],
             [
              0.4444444444444444,
              "#bd3786"
             ],
             [
              0.5555555555555556,
              "#d8576b"
             ],
             [
              0.6666666666666666,
              "#ed7953"
             ],
             [
              0.7777777777777778,
              "#fb9f3a"
             ],
             [
              0.8888888888888888,
              "#fdca26"
             ],
             [
              1,
              "#f0f921"
             ]
            ],
            "type": "contour"
           }
          ],
          "contourcarpet": [
           {
            "colorbar": {
             "outlinewidth": 0,
             "ticks": ""
            },
            "type": "contourcarpet"
           }
          ],
          "heatmap": [
           {
            "colorbar": {
             "outlinewidth": 0,
             "ticks": ""
            },
            "colorscale": [
             [
              0,
              "#0d0887"
             ],
             [
              0.1111111111111111,
              "#46039f"
             ],
             [
              0.2222222222222222,
              "#7201a8"
             ],
             [
              0.3333333333333333,
              "#9c179e"
             ],
             [
              0.4444444444444444,
              "#bd3786"
             ],
             [
              0.5555555555555556,
              "#d8576b"
             ],
             [
              0.6666666666666666,
              "#ed7953"
             ],
             [
              0.7777777777777778,
              "#fb9f3a"
             ],
             [
              0.8888888888888888,
              "#fdca26"
             ],
             [
              1,
              "#f0f921"
             ]
            ],
            "type": "heatmap"
           }
          ],
          "heatmapgl": [
           {
            "colorbar": {
             "outlinewidth": 0,
             "ticks": ""
            },
            "colorscale": [
             [
              0,
              "#0d0887"
             ],
             [
              0.1111111111111111,
              "#46039f"
             ],
             [
              0.2222222222222222,
              "#7201a8"
             ],
             [
              0.3333333333333333,
              "#9c179e"
             ],
             [
              0.4444444444444444,
              "#bd3786"
             ],
             [
              0.5555555555555556,
              "#d8576b"
             ],
             [
              0.6666666666666666,
              "#ed7953"
             ],
             [
              0.7777777777777778,
              "#fb9f3a"
             ],
             [
              0.8888888888888888,
              "#fdca26"
             ],
             [
              1,
              "#f0f921"
             ]
            ],
            "type": "heatmapgl"
           }
          ],
          "histogram": [
           {
            "marker": {
             "pattern": {
              "fillmode": "overlay",
              "size": 10,
              "solidity": 0.2
             }
            },
            "type": "histogram"
           }
          ],
          "histogram2d": [
           {
            "colorbar": {
             "outlinewidth": 0,
             "ticks": ""
            },
            "colorscale": [
             [
              0,
              "#0d0887"
             ],
             [
              0.1111111111111111,
              "#46039f"
             ],
             [
              0.2222222222222222,
              "#7201a8"
             ],
             [
              0.3333333333333333,
              "#9c179e"
             ],
             [
              0.4444444444444444,
              "#bd3786"
             ],
             [
              0.5555555555555556,
              "#d8576b"
             ],
             [
              0.6666666666666666,
              "#ed7953"
             ],
             [
              0.7777777777777778,
              "#fb9f3a"
             ],
             [
              0.8888888888888888,
              "#fdca26"
             ],
             [
              1,
              "#f0f921"
             ]
            ],
            "type": "histogram2d"
           }
          ],
          "histogram2dcontour": [
           {
            "colorbar": {
             "outlinewidth": 0,
             "ticks": ""
            },
            "colorscale": [
             [
              0,
              "#0d0887"
             ],
             [
              0.1111111111111111,
              "#46039f"
             ],
             [
              0.2222222222222222,
              "#7201a8"
             ],
             [
              0.3333333333333333,
              "#9c179e"
             ],
             [
              0.4444444444444444,
              "#bd3786"
             ],
             [
              0.5555555555555556,
              "#d8576b"
             ],
             [
              0.6666666666666666,
              "#ed7953"
             ],
             [
              0.7777777777777778,
              "#fb9f3a"
             ],
             [
              0.8888888888888888,
              "#fdca26"
             ],
             [
              1,
              "#f0f921"
             ]
            ],
            "type": "histogram2dcontour"
           }
          ],
          "mesh3d": [
           {
            "colorbar": {
             "outlinewidth": 0,
             "ticks": ""
            },
            "type": "mesh3d"
           }
          ],
          "parcoords": [
           {
            "line": {
             "colorbar": {
              "outlinewidth": 0,
              "ticks": ""
             }
            },
            "type": "parcoords"
           }
          ],
          "pie": [
           {
            "automargin": true,
            "type": "pie"
           }
          ],
          "scatter": [
           {
            "marker": {
             "line": {
              "color": "#283442"
             }
            },
            "type": "scatter"
           }
          ],
          "scatter3d": [
           {
            "line": {
             "colorbar": {
              "outlinewidth": 0,
              "ticks": ""
             }
            },
            "marker": {
             "colorbar": {
              "outlinewidth": 0,
              "ticks": ""
             }
            },
            "type": "scatter3d"
           }
          ],
          "scattercarpet": [
           {
            "marker": {
             "colorbar": {
              "outlinewidth": 0,
              "ticks": ""
             }
            },
            "type": "scattercarpet"
           }
          ],
          "scattergeo": [
           {
            "marker": {
             "colorbar": {
              "outlinewidth": 0,
              "ticks": ""
             }
            },
            "type": "scattergeo"
           }
          ],
          "scattergl": [
           {
            "marker": {
             "line": {
              "color": "#283442"
             }
            },
            "type": "scattergl"
           }
          ],
          "scattermapbox": [
           {
            "marker": {
             "colorbar": {
              "outlinewidth": 0,
              "ticks": ""
             }
            },
            "type": "scattermapbox"
           }
          ],
          "scatterpolar": [
           {
            "marker": {
             "colorbar": {
              "outlinewidth": 0,
              "ticks": ""
             }
            },
            "type": "scatterpolar"
           }
          ],
          "scatterpolargl": [
           {
            "marker": {
             "colorbar": {
              "outlinewidth": 0,
              "ticks": ""
             }
            },
            "type": "scatterpolargl"
           }
          ],
          "scatterternary": [
           {
            "marker": {
             "colorbar": {
              "outlinewidth": 0,
              "ticks": ""
             }
            },
            "type": "scatterternary"
           }
          ],
          "surface": [
           {
            "colorbar": {
             "outlinewidth": 0,
             "ticks": ""
            },
            "colorscale": [
             [
              0,
              "#0d0887"
             ],
             [
              0.1111111111111111,
              "#46039f"
             ],
             [
              0.2222222222222222,
              "#7201a8"
             ],
             [
              0.3333333333333333,
              "#9c179e"
             ],
             [
              0.4444444444444444,
              "#bd3786"
             ],
             [
              0.5555555555555556,
              "#d8576b"
             ],
             [
              0.6666666666666666,
              "#ed7953"
             ],
             [
              0.7777777777777778,
              "#fb9f3a"
             ],
             [
              0.8888888888888888,
              "#fdca26"
             ],
             [
              1,
              "#f0f921"
             ]
            ],
            "type": "surface"
           }
          ],
          "table": [
           {
            "cells": {
             "fill": {
              "color": "#506784"
             },
             "line": {
              "color": "rgb(17,17,17)"
             }
            },
            "header": {
             "fill": {
              "color": "#2a3f5f"
             },
             "line": {
              "color": "rgb(17,17,17)"
             }
            },
            "type": "table"
           }
          ]
         },
         "layout": {
          "annotationdefaults": {
           "arrowcolor": "#f2f5fa",
           "arrowhead": 0,
           "arrowwidth": 1
          },
          "autotypenumbers": "strict",
          "coloraxis": {
           "colorbar": {
            "outlinewidth": 0,
            "ticks": ""
           }
          },
          "colorscale": {
           "diverging": [
            [
             0,
             "#8e0152"
            ],
            [
             0.1,
             "#c51b7d"
            ],
            [
             0.2,
             "#de77ae"
            ],
            [
             0.3,
             "#f1b6da"
            ],
            [
             0.4,
             "#fde0ef"
            ],
            [
             0.5,
             "#f7f7f7"
            ],
            [
             0.6,
             "#e6f5d0"
            ],
            [
             0.7,
             "#b8e186"
            ],
            [
             0.8,
             "#7fbc41"
            ],
            [
             0.9,
             "#4d9221"
            ],
            [
             1,
             "#276419"
            ]
           ],
           "sequential": [
            [
             0,
             "#0d0887"
            ],
            [
             0.1111111111111111,
             "#46039f"
            ],
            [
             0.2222222222222222,
             "#7201a8"
            ],
            [
             0.3333333333333333,
             "#9c179e"
            ],
            [
             0.4444444444444444,
             "#bd3786"
            ],
            [
             0.5555555555555556,
             "#d8576b"
            ],
            [
             0.6666666666666666,
             "#ed7953"
            ],
            [
             0.7777777777777778,
             "#fb9f3a"
            ],
            [
             0.8888888888888888,
             "#fdca26"
            ],
            [
             1,
             "#f0f921"
            ]
           ],
           "sequentialminus": [
            [
             0,
             "#0d0887"
            ],
            [
             0.1111111111111111,
             "#46039f"
            ],
            [
             0.2222222222222222,
             "#7201a8"
            ],
            [
             0.3333333333333333,
             "#9c179e"
            ],
            [
             0.4444444444444444,
             "#bd3786"
            ],
            [
             0.5555555555555556,
             "#d8576b"
            ],
            [
             0.6666666666666666,
             "#ed7953"
            ],
            [
             0.7777777777777778,
             "#fb9f3a"
            ],
            [
             0.8888888888888888,
             "#fdca26"
            ],
            [
             1,
             "#f0f921"
            ]
           ]
          },
          "colorway": [
           "#636efa",
           "#EF553B",
           "#00cc96",
           "#ab63fa",
           "#FFA15A",
           "#19d3f3",
           "#FF6692",
           "#B6E880",
           "#FF97FF",
           "#FECB52"
          ],
          "font": {
           "color": "#f2f5fa"
          },
          "geo": {
           "bgcolor": "rgb(17,17,17)",
           "lakecolor": "rgb(17,17,17)",
           "landcolor": "rgb(17,17,17)",
           "showlakes": true,
           "showland": true,
           "subunitcolor": "#506784"
          },
          "hoverlabel": {
           "align": "left"
          },
          "hovermode": "closest",
          "mapbox": {
           "style": "dark"
          },
          "paper_bgcolor": "rgb(17,17,17)",
          "plot_bgcolor": "rgb(17,17,17)",
          "polar": {
           "angularaxis": {
            "gridcolor": "#506784",
            "linecolor": "#506784",
            "ticks": ""
           },
           "bgcolor": "rgb(17,17,17)",
           "radialaxis": {
            "gridcolor": "#506784",
            "linecolor": "#506784",
            "ticks": ""
           }
          },
          "scene": {
           "xaxis": {
            "backgroundcolor": "rgb(17,17,17)",
            "gridcolor": "#506784",
            "gridwidth": 2,
            "linecolor": "#506784",
            "showbackground": true,
            "ticks": "",
            "zerolinecolor": "#C8D4E3"
           },
           "yaxis": {
            "backgroundcolor": "rgb(17,17,17)",
            "gridcolor": "#506784",
            "gridwidth": 2,
            "linecolor": "#506784",
            "showbackground": true,
            "ticks": "",
            "zerolinecolor": "#C8D4E3"
           },
           "zaxis": {
            "backgroundcolor": "rgb(17,17,17)",
            "gridcolor": "#506784",
            "gridwidth": 2,
            "linecolor": "#506784",
            "showbackground": true,
            "ticks": "",
            "zerolinecolor": "#C8D4E3"
           }
          },
          "shapedefaults": {
           "line": {
            "color": "#f2f5fa"
           }
          },
          "sliderdefaults": {
           "bgcolor": "#C8D4E3",
           "bordercolor": "rgb(17,17,17)",
           "borderwidth": 1,
           "tickwidth": 0
          },
          "ternary": {
           "aaxis": {
            "gridcolor": "#506784",
            "linecolor": "#506784",
            "ticks": ""
           },
           "baxis": {
            "gridcolor": "#506784",
            "linecolor": "#506784",
            "ticks": ""
           },
           "bgcolor": "rgb(17,17,17)",
           "caxis": {
            "gridcolor": "#506784",
            "linecolor": "#506784",
            "ticks": ""
           }
          },
          "title": {
           "x": 0.05
          },
          "updatemenudefaults": {
           "bgcolor": "#506784",
           "borderwidth": 0
          },
          "xaxis": {
           "automargin": true,
           "gridcolor": "#283442",
           "linecolor": "#506784",
           "ticks": "",
           "title": {
            "standoff": 15
           },
           "zerolinecolor": "#283442",
           "zerolinewidth": 2
          },
          "yaxis": {
           "automargin": true,
           "gridcolor": "#283442",
           "linecolor": "#506784",
           "ticks": "",
           "title": {
            "standoff": 15
           },
           "zerolinecolor": "#283442",
           "zerolinewidth": 2
          }
         }
        },
        "title": {
         "font": {
          "size": 20
         },
         "text": "2ndFlrSF vs GrLivArea"
        },
        "xaxis": {
         "anchor": "y",
         "domain": [
          0,
          1
         ],
         "title": {
          "text": "2ndFlrSF"
         }
        },
        "yaxis": {
         "anchor": "x",
         "domain": [
          0,
          1
         ],
         "title": {
          "text": "GrLivArea"
         }
        }
       }
      }
     },
     "metadata": {},
     "output_type": "display_data"
    },
    {
     "data": {
      "application/vnd.plotly.v1+json": {
       "config": {
        "plotlyServerURL": "https://plot.ly"
       },
       "data": [
        {
         "hovertemplate": "YearBuilt=%{x}<br>GarageYrBlt=%{y}<extra></extra>",
         "legendgroup": "",
         "marker": {
          "color": "#636efa",
          "symbol": "circle"
         },
         "mode": "markers",
         "name": "",
         "orientation": "v",
         "showlegend": false,
         "type": "scatter",
         "x": [
          2003,
          2001,
          2000,
          2004,
          1965,
          2006,
          2004,
          1958,
          2005,
          1976,
          2007,
          1966,
          2007,
          2005,
          2004,
          1953,
          1965,
          2005,
          2006,
          1966,
          1955,
          2004,
          1972,
          2004,
          2006,
          2004,
          2003,
          1945,
          1982,
          1956,
          1960,
          1994,
          1997,
          1999,
          1965,
          1977,
          1985,
          2009,
          1954,
          2000,
          2006,
          2005,
          1993,
          1979,
          1930,
          1966,
          1966,
          2000,
          1959,
          2001,
          1970,
          1967,
          1999,
          1997,
          1971,
          2005,
          1952,
          1999,
          1931,
          2001,
          2004,
          1936,
          1971,
          2009,
          2004,
          1984,
          2005,
          1956,
          2007,
          2004,
          1990,
          1999,
          1972,
          2003,
          2004,
          1947,
          1962,
          1964,
          2009,
          2009,
          2004,
          2005,
          2006,
          2002,
          1995,
          1967,
          2005,
          2002,
          2004,
          1945,
          2008,
          1994,
          1954,
          2003,
          2004,
          1957,
          1999,
          2003,
          2006,
          2007,
          1977,
          1925,
          1997,
          1976,
          1999,
          1982,
          1977,
          2006,
          2007,
          2008,
          1971,
          1967,
          1953,
          1984,
          1950,
          1998,
          1972,
          2004,
          1920,
          1940,
          1993,
          1948,
          2004,
          1980,
          1993,
          1960,
          1958,
          2004,
          1998,
          2002,
          2002,
          1939,
          1960,
          1992,
          1940,
          1954,
          2000,
          2003,
          1996,
          2000,
          2006,
          2006,
          1976,
          1999,
          1941,
          1940,
          1956,
          1972,
          1962,
          2006,
          2005,
          1995,
          1976,
          2007,
          2007,
          1978,
          1940,
          1956,
          1957,
          2007,
          1920,
          1997,
          1930,
          2006,
          1994,
          1956,
          1998,
          1937,
          1996,
          2008,
          1973,
          1925,
          2009,
          1934,
          1978,
          2004,
          1942,
          2006,
          1993,
          2000,
          1997,
          2007,
          1998,
          1962,
          1965,
          2006,
          1925,
          1967,
          2005,
          1993,
          2009,
          1959,
          2005,
          1972,
          1998,
          1957,
          2005,
          1988,
          2004,
          1998,
          1972,
          2000,
          2006,
          1970,
          1957,
          2003,
          2003,
          1940,
          1992,
          2004,
          1979,
          1959,
          2009,
          2000,
          1954,
          1990,
          1982,
          2004,
          2003,
          1975,
          1910,
          2005,
          1992,
          2002,
          1996,
          2000,
          2001,
          2007,
          1963,
          2002,
          1954,
          2003,
          1977,
          2006,
          1977,
          2006,
          2007,
          1940,
          1996,
          1959,
          1964,
          2000,
          1994,
          1956,
          2005,
          1925,
          1977,
          1961,
          1996,
          2002,
          1998,
          2007,
          2005,
          2004,
          1936,
          2004,
          1969,
          2006,
          2007,
          1966,
          1935,
          1988,
          1974,
          1969,
          2004,
          1970,
          2007,
          2007,
          1995,
          1998,
          1968,
          2005,
          2004,
          2000,
          2000,
          1910,
          2003,
          1997,
          2005,
          2007,
          1978,
          1924,
          2009,
          1982,
          1951,
          1958,
          2005,
          1974,
          1977,
          1995,
          1992,
          2001,
          1978,
          2004,
          1954,
          2005,
          1976,
          1996,
          2007,
          1977,
          1953,
          1916,
          2005,
          1954,
          2008,
          2004,
          2002,
          1971,
          2009,
          2003,
          2003,
          1940,
          2006,
          2001,
          2003,
          1961,
          1950,
          1995,
          1946,
          1975,
          1972,
          1976,
          2003,
          2003,
          1964,
          1994,
          1976,
          1984,
          1959,
          2007,
          1970,
          2006,
          1993,
          1962,
          1998,
          1941,
          2005,
          1990,
          1992,
          1967,
          1999,
          1963,
          1936,
          1961,
          1971,
          1957,
          2003,
          2006,
          1967,
          1977,
          1956,
          2003,
          1968,
          1997,
          2007,
          2004,
          2003,
          2005,
          2006,
          2002,
          1972,
          1962,
          2003,
          1958,
          2002,
          2005,
          1955,
          1910,
          1949,
          1979,
          2007,
          1923,
          2006,
          1954,
          1963,
          2007,
          2002,
          2006,
          2005,
          2006,
          2006,
          2006,
          2005,
          1948,
          2001,
          1996,
          1984,
          1991,
          2005,
          2005,
          2006,
          2005,
          2007,
          2002,
          1938,
          2007,
          2005,
          1990,
          2007,
          2007,
          1957,
          2002,
          2005,
          2008,
          1925,
          1996,
          1993,
          1968,
          1977,
          2006,
          1940,
          2004,
          1994,
          2002,
          1995,
          1992,
          2005,
          2006,
          1936,
          1978,
          1920,
          1960,
          1994,
          2000,
          1995,
          1957,
          1953,
          1954,
          2007,
          2002,
          1967,
          2005,
          1992,
          1955,
          2007,
          2004,
          1980,
          1991,
          1995,
          1997,
          1926,
          1977,
          1951,
          1928,
          1985,
          1941,
          2007,
          2007,
          1974,
          1968,
          2009,
          2000,
          1984,
          1990,
          1920,
          2002,
          1999,
          1969,
          2005,
          2006,
          2001,
          1963,
          1970,
          1998,
          1975,
          1966,
          2003,
          1941,
          1962,
          2009,
          1949,
          2004,
          2007,
          1960,
          1962,
          1959,
          1914,
          2004,
          2005,
          2006,
          2003,
          1929,
          2005,
          1976,
          2003,
          2003,
          2005,
          1956,
          1998,
          1958,
          1968,
          2002,
          1939,
          2000,
          1964,
          1955,
          1968,
          1999,
          1994,
          2005,
          2006,
          2005,
          1994,
          1991,
          2005,
          1954,
          2008,
          1954,
          1992,
          1940,
          1998,
          2006,
          1976,
          1938,
          2002,
          2003,
          2002,
          1928,
          2006,
          2006,
          1998,
          1968,
          1966,
          1971,
          1920,
          2006,
          2000,
          1999,
          2003,
          1998,
          2007,
          1930,
          2006,
          1970,
          1939,
          2000,
          1967,
          2006,
          2005,
          1925,
          2004,
          2006,
          2007,
          1972,
          1985,
          2001,
          2005,
          2003,
          1959,
          1945,
          1976,
          1927,
          2000,
          1977,
          1971,
          2004,
          2008,
          2004,
          1910,
          2008,
          2006,
          2004,
          1999
         ],
         "xaxis": "x",
         "y": [
          2003,
          2001,
          2000,
          2004,
          1965,
          2006,
          2004,
          1958,
          2005,
          1976,
          2008,
          1966,
          2007,
          2005,
          2004,
          1953,
          1965,
          2005,
          2006,
          1966,
          1962,
          2004,
          1973,
          2006,
          2006,
          2004,
          2003,
          1945,
          1987,
          1956,
          1974,
          null,
          1997,
          1999,
          1965,
          1977,
          1985,
          2009,
          1954,
          2000,
          2007,
          2005,
          1993,
          1979,
          null,
          1966,
          1966,
          2000,
          1974,
          2001,
          1970,
          1967,
          1999,
          1997,
          null,
          2005,
          2000,
          1999,
          1931,
          2001,
          null,
          1936,
          1971,
          2009,
          2004,
          1984,
          2005,
          null,
          2007,
          2004,
          1990,
          1999,
          1989,
          2003,
          2004,
          1948,
          1962,
          1964,
          2009,
          2009,
          2004,
          2005,
          2006,
          2002,
          1995,
          1974,
          2005,
          2002,
          2004,
          1949,
          2008,
          1994,
          1954,
          2003,
          2004,
          1957,
          1999,
          2003,
          2006,
          2007,
          1978,
          1965,
          1997,
          1987,
          1999,
          1982,
          1977,
          2006,
          2008,
          2008,
          null,
          1970,
          1953,
          1984,
          1950,
          1998,
          1975,
          2004,
          null,
          1961,
          1993,
          1948,
          2004,
          1980,
          1993,
          1960,
          1958,
          2004,
          1998,
          2002,
          2002,
          1939,
          1960,
          1992,
          1940,
          1954,
          2000,
          2003,
          1998,
          2000,
          2006,
          2006,
          1977,
          1999,
          null,
          1940,
          1956,
          1985,
          1962,
          2007,
          2005,
          1995,
          1993,
          2008,
          2007,
          1978,
          1940,
          1956,
          1964,
          2007,
          null,
          1997,
          1930,
          2007,
          1994,
          1956,
          1998,
          1937,
          1996,
          2008,
          1973,
          1925,
          2009,
          1939,
          null,
          2004,
          1942,
          2006,
          1993,
          2000,
          1997,
          2007,
          1998,
          1963,
          1965,
          2006,
          1925,
          1967,
          2005,
          1993,
          2009,
          1959,
          2005,
          1972,
          1998,
          1957,
          2005,
          1988,
          2004,
          1998,
          1980,
          2000,
          2006,
          1987,
          1957,
          2003,
          2003,
          null,
          1992,
          2004,
          1979,
          1959,
          2009,
          2000,
          1954,
          null,
          1996,
          2004,
          2003,
          1981,
          1930,
          2003,
          1992,
          2002,
          2000,
          2000,
          2001,
          null,
          1963,
          2002,
          1962,
          2003,
          1986,
          2006,
          1977,
          2006,
          2007,
          1940,
          1996,
          1959,
          1968,
          2000,
          1994,
          1999,
          2005,
          1930,
          1977,
          1963,
          1996,
          2002,
          1998,
          2007,
          2005,
          2004,
          1995,
          2004,
          1969,
          2006,
          2007,
          1966,
          null,
          1988,
          1974,
          1969,
          2004,
          1994,
          2007,
          2007,
          1995,
          1998,
          1968,
          2005,
          2004,
          2000,
          2000,
          null,
          2003,
          1997,
          2005,
          2007,
          1978,
          1965,
          2009,
          1983,
          1951,
          1958,
          2005,
          1974,
          1977,
          1995,
          1992,
          2001,
          1978,
          2004,
          1954,
          2005,
          1976,
          1997,
          2007,
          1977,
          1953,
          1957,
          2005,
          1954,
          2008,
          2004,
          2002,
          1971,
          2010,
          2003,
          2003,
          1940,
          2006,
          2001,
          2003,
          1961,
          1996,
          1999,
          1946,
          1975,
          1972,
          1976,
          2003,
          2003,
          1964,
          1994,
          1976,
          1986,
          1959,
          2008,
          1973,
          2007,
          1993,
          1962,
          1998,
          1941,
          2005,
          1990,
          1993,
          1967,
          1999,
          1963,
          1936,
          1961,
          1979,
          1968,
          2003,
          2006,
          1967,
          1978,
          1956,
          2003,
          1968,
          1997,
          2007,
          2004,
          2003,
          2005,
          2006,
          2002,
          1972,
          1977,
          2003,
          null,
          2002,
          2005,
          1955,
          null,
          null,
          1979,
          2007,
          null,
          2007,
          1999,
          1963,
          2007,
          2002,
          2006,
          2005,
          2008,
          2006,
          2006,
          2005,
          1948,
          2001,
          1996,
          1984,
          1991,
          2005,
          2005,
          2006,
          2005,
          2008,
          2002,
          1938,
          2008,
          2005,
          1990,
          2007,
          2007,
          1957,
          2002,
          2005,
          2008,
          1976,
          1996,
          1993,
          1968,
          1977,
          2006,
          1940,
          2004,
          1996,
          2002,
          1995,
          1992,
          2005,
          2006,
          1936,
          1978,
          1930,
          1960,
          1994,
          2000,
          1995,
          1957,
          1953,
          1955,
          2007,
          2002,
          1967,
          2005,
          1992,
          1977,
          2007,
          2004,
          1980,
          null,
          1995,
          1997,
          1926,
          1977,
          1988,
          1928,
          1985,
          1941,
          2008,
          2008,
          1974,
          1968,
          2009,
          2000,
          1984,
          1990,
          1970,
          2002,
          1999,
          1969,
          2005,
          2006,
          2001,
          1974,
          1972,
          1998,
          1975,
          1966,
          2003,
          1941,
          1962,
          2009,
          1949,
          2004,
          2007,
          1960,
          1962,
          1959,
          1914,
          2004,
          2005,
          2006,
          2003,
          1931,
          2005,
          1976,
          2003,
          2003,
          2005,
          1956,
          1998,
          1958,
          1968,
          2002,
          1939,
          2000,
          1964,
          1957,
          1968,
          1999,
          1994,
          2005,
          2006,
          2005,
          2000,
          1991,
          2005,
          1956,
          2008,
          1954,
          1992,
          null,
          1998,
          2006,
          1976,
          1958,
          2002,
          2004,
          2002,
          1929,
          2006,
          2006,
          1998,
          1968,
          1966,
          1971,
          1920,
          2007,
          2000,
          1999,
          2003,
          1998,
          2007,
          1925,
          2007,
          1970,
          1939,
          2000,
          1967,
          2006,
          2005,
          1925,
          2004,
          2006,
          2007,
          1988,
          null,
          2001,
          2005,
          2003,
          1960,
          1962,
          1976,
          1928,
          2000,
          1977,
          1974,
          2004,
          2008,
          2004,
          1950,
          2008,
          null,
          2004,
          1999
         ],
         "yaxis": "y"
        }
       ],
       "layout": {
        "legend": {
         "tracegroupgap": 0
        },
        "template": {
         "data": {
          "bar": [
           {
            "error_x": {
             "color": "#f2f5fa"
            },
            "error_y": {
             "color": "#f2f5fa"
            },
            "marker": {
             "line": {
              "color": "rgb(17,17,17)",
              "width": 0.5
             },
             "pattern": {
              "fillmode": "overlay",
              "size": 10,
              "solidity": 0.2
             }
            },
            "type": "bar"
           }
          ],
          "barpolar": [
           {
            "marker": {
             "line": {
              "color": "rgb(17,17,17)",
              "width": 0.5
             },
             "pattern": {
              "fillmode": "overlay",
              "size": 10,
              "solidity": 0.2
             }
            },
            "type": "barpolar"
           }
          ],
          "carpet": [
           {
            "aaxis": {
             "endlinecolor": "#A2B1C6",
             "gridcolor": "#506784",
             "linecolor": "#506784",
             "minorgridcolor": "#506784",
             "startlinecolor": "#A2B1C6"
            },
            "baxis": {
             "endlinecolor": "#A2B1C6",
             "gridcolor": "#506784",
             "linecolor": "#506784",
             "minorgridcolor": "#506784",
             "startlinecolor": "#A2B1C6"
            },
            "type": "carpet"
           }
          ],
          "choropleth": [
           {
            "colorbar": {
             "outlinewidth": 0,
             "ticks": ""
            },
            "type": "choropleth"
           }
          ],
          "contour": [
           {
            "colorbar": {
             "outlinewidth": 0,
             "ticks": ""
            },
            "colorscale": [
             [
              0,
              "#0d0887"
             ],
             [
              0.1111111111111111,
              "#46039f"
             ],
             [
              0.2222222222222222,
              "#7201a8"
             ],
             [
              0.3333333333333333,
              "#9c179e"
             ],
             [
              0.4444444444444444,
              "#bd3786"
             ],
             [
              0.5555555555555556,
              "#d8576b"
             ],
             [
              0.6666666666666666,
              "#ed7953"
             ],
             [
              0.7777777777777778,
              "#fb9f3a"
             ],
             [
              0.8888888888888888,
              "#fdca26"
             ],
             [
              1,
              "#f0f921"
             ]
            ],
            "type": "contour"
           }
          ],
          "contourcarpet": [
           {
            "colorbar": {
             "outlinewidth": 0,
             "ticks": ""
            },
            "type": "contourcarpet"
           }
          ],
          "heatmap": [
           {
            "colorbar": {
             "outlinewidth": 0,
             "ticks": ""
            },
            "colorscale": [
             [
              0,
              "#0d0887"
             ],
             [
              0.1111111111111111,
              "#46039f"
             ],
             [
              0.2222222222222222,
              "#7201a8"
             ],
             [
              0.3333333333333333,
              "#9c179e"
             ],
             [
              0.4444444444444444,
              "#bd3786"
             ],
             [
              0.5555555555555556,
              "#d8576b"
             ],
             [
              0.6666666666666666,
              "#ed7953"
             ],
             [
              0.7777777777777778,
              "#fb9f3a"
             ],
             [
              0.8888888888888888,
              "#fdca26"
             ],
             [
              1,
              "#f0f921"
             ]
            ],
            "type": "heatmap"
           }
          ],
          "heatmapgl": [
           {
            "colorbar": {
             "outlinewidth": 0,
             "ticks": ""
            },
            "colorscale": [
             [
              0,
              "#0d0887"
             ],
             [
              0.1111111111111111,
              "#46039f"
             ],
             [
              0.2222222222222222,
              "#7201a8"
             ],
             [
              0.3333333333333333,
              "#9c179e"
             ],
             [
              0.4444444444444444,
              "#bd3786"
             ],
             [
              0.5555555555555556,
              "#d8576b"
             ],
             [
              0.6666666666666666,
              "#ed7953"
             ],
             [
              0.7777777777777778,
              "#fb9f3a"
             ],
             [
              0.8888888888888888,
              "#fdca26"
             ],
             [
              1,
              "#f0f921"
             ]
            ],
            "type": "heatmapgl"
           }
          ],
          "histogram": [
           {
            "marker": {
             "pattern": {
              "fillmode": "overlay",
              "size": 10,
              "solidity": 0.2
             }
            },
            "type": "histogram"
           }
          ],
          "histogram2d": [
           {
            "colorbar": {
             "outlinewidth": 0,
             "ticks": ""
            },
            "colorscale": [
             [
              0,
              "#0d0887"
             ],
             [
              0.1111111111111111,
              "#46039f"
             ],
             [
              0.2222222222222222,
              "#7201a8"
             ],
             [
              0.3333333333333333,
              "#9c179e"
             ],
             [
              0.4444444444444444,
              "#bd3786"
             ],
             [
              0.5555555555555556,
              "#d8576b"
             ],
             [
              0.6666666666666666,
              "#ed7953"
             ],
             [
              0.7777777777777778,
              "#fb9f3a"
             ],
             [
              0.8888888888888888,
              "#fdca26"
             ],
             [
              1,
              "#f0f921"
             ]
            ],
            "type": "histogram2d"
           }
          ],
          "histogram2dcontour": [
           {
            "colorbar": {
             "outlinewidth": 0,
             "ticks": ""
            },
            "colorscale": [
             [
              0,
              "#0d0887"
             ],
             [
              0.1111111111111111,
              "#46039f"
             ],
             [
              0.2222222222222222,
              "#7201a8"
             ],
             [
              0.3333333333333333,
              "#9c179e"
             ],
             [
              0.4444444444444444,
              "#bd3786"
             ],
             [
              0.5555555555555556,
              "#d8576b"
             ],
             [
              0.6666666666666666,
              "#ed7953"
             ],
             [
              0.7777777777777778,
              "#fb9f3a"
             ],
             [
              0.8888888888888888,
              "#fdca26"
             ],
             [
              1,
              "#f0f921"
             ]
            ],
            "type": "histogram2dcontour"
           }
          ],
          "mesh3d": [
           {
            "colorbar": {
             "outlinewidth": 0,
             "ticks": ""
            },
            "type": "mesh3d"
           }
          ],
          "parcoords": [
           {
            "line": {
             "colorbar": {
              "outlinewidth": 0,
              "ticks": ""
             }
            },
            "type": "parcoords"
           }
          ],
          "pie": [
           {
            "automargin": true,
            "type": "pie"
           }
          ],
          "scatter": [
           {
            "marker": {
             "line": {
              "color": "#283442"
             }
            },
            "type": "scatter"
           }
          ],
          "scatter3d": [
           {
            "line": {
             "colorbar": {
              "outlinewidth": 0,
              "ticks": ""
             }
            },
            "marker": {
             "colorbar": {
              "outlinewidth": 0,
              "ticks": ""
             }
            },
            "type": "scatter3d"
           }
          ],
          "scattercarpet": [
           {
            "marker": {
             "colorbar": {
              "outlinewidth": 0,
              "ticks": ""
             }
            },
            "type": "scattercarpet"
           }
          ],
          "scattergeo": [
           {
            "marker": {
             "colorbar": {
              "outlinewidth": 0,
              "ticks": ""
             }
            },
            "type": "scattergeo"
           }
          ],
          "scattergl": [
           {
            "marker": {
             "line": {
              "color": "#283442"
             }
            },
            "type": "scattergl"
           }
          ],
          "scattermapbox": [
           {
            "marker": {
             "colorbar": {
              "outlinewidth": 0,
              "ticks": ""
             }
            },
            "type": "scattermapbox"
           }
          ],
          "scatterpolar": [
           {
            "marker": {
             "colorbar": {
              "outlinewidth": 0,
              "ticks": ""
             }
            },
            "type": "scatterpolar"
           }
          ],
          "scatterpolargl": [
           {
            "marker": {
             "colorbar": {
              "outlinewidth": 0,
              "ticks": ""
             }
            },
            "type": "scatterpolargl"
           }
          ],
          "scatterternary": [
           {
            "marker": {
             "colorbar": {
              "outlinewidth": 0,
              "ticks": ""
             }
            },
            "type": "scatterternary"
           }
          ],
          "surface": [
           {
            "colorbar": {
             "outlinewidth": 0,
             "ticks": ""
            },
            "colorscale": [
             [
              0,
              "#0d0887"
             ],
             [
              0.1111111111111111,
              "#46039f"
             ],
             [
              0.2222222222222222,
              "#7201a8"
             ],
             [
              0.3333333333333333,
              "#9c179e"
             ],
             [
              0.4444444444444444,
              "#bd3786"
             ],
             [
              0.5555555555555556,
              "#d8576b"
             ],
             [
              0.6666666666666666,
              "#ed7953"
             ],
             [
              0.7777777777777778,
              "#fb9f3a"
             ],
             [
              0.8888888888888888,
              "#fdca26"
             ],
             [
              1,
              "#f0f921"
             ]
            ],
            "type": "surface"
           }
          ],
          "table": [
           {
            "cells": {
             "fill": {
              "color": "#506784"
             },
             "line": {
              "color": "rgb(17,17,17)"
             }
            },
            "header": {
             "fill": {
              "color": "#2a3f5f"
             },
             "line": {
              "color": "rgb(17,17,17)"
             }
            },
            "type": "table"
           }
          ]
         },
         "layout": {
          "annotationdefaults": {
           "arrowcolor": "#f2f5fa",
           "arrowhead": 0,
           "arrowwidth": 1
          },
          "autotypenumbers": "strict",
          "coloraxis": {
           "colorbar": {
            "outlinewidth": 0,
            "ticks": ""
           }
          },
          "colorscale": {
           "diverging": [
            [
             0,
             "#8e0152"
            ],
            [
             0.1,
             "#c51b7d"
            ],
            [
             0.2,
             "#de77ae"
            ],
            [
             0.3,
             "#f1b6da"
            ],
            [
             0.4,
             "#fde0ef"
            ],
            [
             0.5,
             "#f7f7f7"
            ],
            [
             0.6,
             "#e6f5d0"
            ],
            [
             0.7,
             "#b8e186"
            ],
            [
             0.8,
             "#7fbc41"
            ],
            [
             0.9,
             "#4d9221"
            ],
            [
             1,
             "#276419"
            ]
           ],
           "sequential": [
            [
             0,
             "#0d0887"
            ],
            [
             0.1111111111111111,
             "#46039f"
            ],
            [
             0.2222222222222222,
             "#7201a8"
            ],
            [
             0.3333333333333333,
             "#9c179e"
            ],
            [
             0.4444444444444444,
             "#bd3786"
            ],
            [
             0.5555555555555556,
             "#d8576b"
            ],
            [
             0.6666666666666666,
             "#ed7953"
            ],
            [
             0.7777777777777778,
             "#fb9f3a"
            ],
            [
             0.8888888888888888,
             "#fdca26"
            ],
            [
             1,
             "#f0f921"
            ]
           ],
           "sequentialminus": [
            [
             0,
             "#0d0887"
            ],
            [
             0.1111111111111111,
             "#46039f"
            ],
            [
             0.2222222222222222,
             "#7201a8"
            ],
            [
             0.3333333333333333,
             "#9c179e"
            ],
            [
             0.4444444444444444,
             "#bd3786"
            ],
            [
             0.5555555555555556,
             "#d8576b"
            ],
            [
             0.6666666666666666,
             "#ed7953"
            ],
            [
             0.7777777777777778,
             "#fb9f3a"
            ],
            [
             0.8888888888888888,
             "#fdca26"
            ],
            [
             1,
             "#f0f921"
            ]
           ]
          },
          "colorway": [
           "#636efa",
           "#EF553B",
           "#00cc96",
           "#ab63fa",
           "#FFA15A",
           "#19d3f3",
           "#FF6692",
           "#B6E880",
           "#FF97FF",
           "#FECB52"
          ],
          "font": {
           "color": "#f2f5fa"
          },
          "geo": {
           "bgcolor": "rgb(17,17,17)",
           "lakecolor": "rgb(17,17,17)",
           "landcolor": "rgb(17,17,17)",
           "showlakes": true,
           "showland": true,
           "subunitcolor": "#506784"
          },
          "hoverlabel": {
           "align": "left"
          },
          "hovermode": "closest",
          "mapbox": {
           "style": "dark"
          },
          "paper_bgcolor": "rgb(17,17,17)",
          "plot_bgcolor": "rgb(17,17,17)",
          "polar": {
           "angularaxis": {
            "gridcolor": "#506784",
            "linecolor": "#506784",
            "ticks": ""
           },
           "bgcolor": "rgb(17,17,17)",
           "radialaxis": {
            "gridcolor": "#506784",
            "linecolor": "#506784",
            "ticks": ""
           }
          },
          "scene": {
           "xaxis": {
            "backgroundcolor": "rgb(17,17,17)",
            "gridcolor": "#506784",
            "gridwidth": 2,
            "linecolor": "#506784",
            "showbackground": true,
            "ticks": "",
            "zerolinecolor": "#C8D4E3"
           },
           "yaxis": {
            "backgroundcolor": "rgb(17,17,17)",
            "gridcolor": "#506784",
            "gridwidth": 2,
            "linecolor": "#506784",
            "showbackground": true,
            "ticks": "",
            "zerolinecolor": "#C8D4E3"
           },
           "zaxis": {
            "backgroundcolor": "rgb(17,17,17)",
            "gridcolor": "#506784",
            "gridwidth": 2,
            "linecolor": "#506784",
            "showbackground": true,
            "ticks": "",
            "zerolinecolor": "#C8D4E3"
           }
          },
          "shapedefaults": {
           "line": {
            "color": "#f2f5fa"
           }
          },
          "sliderdefaults": {
           "bgcolor": "#C8D4E3",
           "bordercolor": "rgb(17,17,17)",
           "borderwidth": 1,
           "tickwidth": 0
          },
          "ternary": {
           "aaxis": {
            "gridcolor": "#506784",
            "linecolor": "#506784",
            "ticks": ""
           },
           "baxis": {
            "gridcolor": "#506784",
            "linecolor": "#506784",
            "ticks": ""
           },
           "bgcolor": "rgb(17,17,17)",
           "caxis": {
            "gridcolor": "#506784",
            "linecolor": "#506784",
            "ticks": ""
           }
          },
          "title": {
           "x": 0.05
          },
          "updatemenudefaults": {
           "bgcolor": "#506784",
           "borderwidth": 0
          },
          "xaxis": {
           "automargin": true,
           "gridcolor": "#283442",
           "linecolor": "#506784",
           "ticks": "",
           "title": {
            "standoff": 15
           },
           "zerolinecolor": "#283442",
           "zerolinewidth": 2
          },
          "yaxis": {
           "automargin": true,
           "gridcolor": "#283442",
           "linecolor": "#506784",
           "ticks": "",
           "title": {
            "standoff": 15
           },
           "zerolinecolor": "#283442",
           "zerolinewidth": 2
          }
         }
        },
        "title": {
         "font": {
          "size": 20
         },
         "text": "YearBuilt vs GarageYrBlt"
        },
        "xaxis": {
         "anchor": "y",
         "domain": [
          0,
          1
         ],
         "title": {
          "text": "YearBuilt"
         }
        },
        "yaxis": {
         "anchor": "x",
         "domain": [
          0,
          1
         ],
         "title": {
          "text": "GarageYrBlt"
         }
        }
       }
      }
     },
     "metadata": {},
     "output_type": "display_data"
    }
   ],
   "source": [
    "# List of pairs to visualize\n",
    "pairs = [\n",
    "    (\"OverallQual\", \"SalePrice\"),\n",
    "    (\"GrLivArea\", \"SalePrice\"),\n",
    "    (\"GarageCars\", \"SalePrice\"),\n",
    "    (\"TotalBsmtSF\", \"1stFlrSF\"),\n",
    "    (\"GrLivArea\", \"TotRmsAbvGrd\"),\n",
    "    (\"GarageCars\", \"GarageArea\"),\n",
    "    (\"BedroomAbvGr\", \"TotRmsAbvGrd\"),\n",
    "    (\"BsmtFinSF1\", \"BsmtFullBath\"),\n",
    "    (\"2ndFlrSF\", \"GrLivArea\"),\n",
    "    (\"YearBuilt\", \"GarageYrBlt\")\n",
    "]\n",
    "\n",
    "# Plot each pair\n",
    "for feature_x, feature_y in pairs:\n",
    "    fig = px.scatter(train_data_no_outliers, x=feature_x, y=feature_y, title=f\"{feature_x} vs {feature_y}\")\n",
    "    fig.update_layout(template=\"plotly_dark\")\n",
    "    fig.update_layout(title_font_size=20)\n",
    "    fig.update_layout(xaxis_title=feature_x, yaxis_title=feature_y)\n",
    "    fig.show()\n"
   ]
  }
 ],
 "metadata": {
  "kernelspec": {
   "display_name": "Python 3",
   "language": "python",
   "name": "python3"
  },
  "language_info": {
   "codemirror_mode": {
    "name": "ipython",
    "version": 3
   },
   "file_extension": ".py",
   "mimetype": "text/x-python",
   "name": "python",
   "nbconvert_exporter": "python",
   "pygments_lexer": "ipython3",
   "version": "3.12.4"
  }
 },
 "nbformat": 4,
 "nbformat_minor": 2
}
